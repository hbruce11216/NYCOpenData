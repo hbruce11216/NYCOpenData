{
 "cells": [
  {
   "cell_type": "markdown",
   "metadata": {
    "cell_id": "00001-fa04eea3-e319-4c82-babc-f98d879beec7",
    "deepnote_cell_type": "markdown",
    "tags": []
   },
   "source": [
    "### University of Virginia\n",
    "\n",
    "### NYC Housing Complaints Dataset Summary\n"
   ]
  },
  {
   "cell_type": "markdown",
   "metadata": {
    "cell_id": "00001-c49fd216-d5ef-44d5-872f-2356095177ce",
    "deepnote_cell_type": "markdown",
    "tags": []
   },
   "source": []
  },
  {
   "cell_type": "markdown",
   "metadata": {
    "cell_id": "00003-fee211bb-baee-4668-89ba-dd5d31690bdf",
    "deepnote_cell_type": "markdown",
    "tags": []
   },
   "source": [
    " Instructions\n",
    "5.11: Final Project Assignment\n",
    "\n",
    "At this point in the course, you should be training and evaluating models. Please create a Jupyter Notebook containing a concise summary of your dataset (described in submission instructions).\n",
    "\n",
    "    At a minimum, the file should include a summary containing:\n",
    "        Number of records\n",
    "        Number of columns\n",
    "        Statistical summary of response variable\n",
    "        Statistical summary of potential predictor variables (if there are a large number of predictors, select the top 10)\n",
    "        Note: Summarize categorical variables with counts and percentages for each level and summarize numerical variables with mean/quantiles/standard deviation.\n",
    "        Include up to five helpful graphs\n"
   ]
  },
  {
   "cell_type": "code",
   "execution_count": 1,
   "metadata": {},
   "outputs": [
    {
     "data": {
      "text/html": [
       "<style>.container { width:100% !important; }</style>"
      ],
      "text/plain": [
       "<IPython.core.display.HTML object>"
      ]
     },
     "metadata": {},
     "output_type": "display_data"
    }
   ],
   "source": [
    "# Change width of Jupyter notebook\n",
    "from IPython.core.display import display, HTML\n",
    "display(HTML(\"<style>.container { width:100% !important; }</style>\"))"
   ]
  },
  {
   "cell_type": "code",
   "execution_count": 1,
   "metadata": {
    "cell_id": "00003-1bceecbd-6cd2-43c2-9d93-1760843169fe",
    "deepnote_cell_type": "code",
    "deepnote_to_be_reexecuted": false,
    "execution_millis": 6671,
    "execution_start": 1616375288828,
    "source_hash": "f930a552",
    "tags": []
   },
   "outputs": [],
   "source": [
    "import pyspark\n",
    "from pyspark import SparkContext, SparkConf\n",
    "from pyspark.mllib.regression import LabeledPoint\n",
    "from pyspark.mllib.feature import HashingTF\n",
    "from pyspark.mllib.classification import LogisticRegressionWithSGD\n",
    "from pyspark.sql import SparkSession\n",
    "from pyspark.sql.functions import pandas_udf, PandasUDFType, col, split, explode\n",
    "from pyspark.sql.types import *\n",
    "import pandas as pd\n",
    "spark = SparkSession.builder \\\n",
    "    .master('local') \\\n",
    "    .appName('nyc_merged_complaints_data') \\\n",
    "    .config('spark.executor.memory', '28g') \\\n",
    "    .config('spark.driver.memory','4g')\\\n",
    "    .config(\"spark.cores.max\", \"6\") \\\n",
    "    .getOrCreate()"
   ]
  },
  {
   "cell_type": "markdown",
   "metadata": {
    "cell_id": "00004-824ef0a5-52ee-4bcd-865f-81eb6557820a",
    "deepnote_cell_type": "markdown",
    "tags": []
   },
   "source": [
    "Data was obtained from https://data.cityofnewyork.us/Housing-Development/Housing-Maintenance-Code-Complaints/uwyv-629c and https://data.cityofnewyork.us/Housing-Development/Complaint-Problems/a2nx-4u46. The two datasets were merged by using the “Complaint ID” column in both datasets as the joint to form one merged dataset. After cleaning the dataset we have approximately 4.1 million rows and 30 columns of data to work with."
   ]
  },
  {
   "cell_type": "code",
   "execution_count": 2,
   "metadata": {
    "cell_id": "00004-d728b488-fb9c-4cfc-b7f2-3a18746cb51e",
    "deepnote_cell_type": "code",
    "deepnote_to_be_reexecuted": false,
    "execution_millis": 49843,
    "execution_start": 1616375295510,
    "source_hash": "8b57174",
    "tags": []
   },
   "outputs": [
    {
     "name": "stdout",
     "output_type": "stream",
     "text": [
      "+---+-----------+---------+----------+------------+------------+----------------+------+---------+---------------+-------------+---------------+-------------+------+--------------------+--------+------+----------+--------------------+----------+---------+-------+-----------+----------+-----+-----+---+---------+--------------+------------+\n",
      "|_c0|ComplaintID|ProblemID|UnitTypeID|    UnitType|SpaceTypeID |       SpaceType|TypeID|     Type|MajorCategoryID|MajorCategory|MinorCategoryID|MinorCategory|CodeID|                Code|StatusID|Status|StatusDate|   StatusDescription|BuildingID|BoroughID|Borough|HouseNumber|StreetName|  Zip|Block|Lot|Apartment|CommunityBoard|ReceivedDate|\n",
      "+---+-----------+---------+----------+------------+------------+----------------+------+---------+---------------+-------------+---------------+-------------+------+--------------------+--------+------+----------+--------------------+----------+---------+-------+-----------+----------+-----+-----+---+---------+--------------+------------+\n",
      "|  0|    2397487|  3768602|        20|   APARTMENT|          68|ENTIRE APARTMENT|     2|HAZARDOUS|             13|     NONCONST|            106|       VERMIN|   886|             ROACHES|       2| CLOSE|08/12/2004|The Department of...|    580051|        4| QUEENS|      88-47| 179 PLACE|11432| 9915| 11|      2FL|            12|  06/20/2004|\n",
      "|  1|    2397487|  3768603|        20|   APARTMENT|         159|           OTHER|     2|HAZARDOUS|             13|     NONCONST|            106|       VERMIN|   884|                MICE|       2| CLOSE|08/12/2004|The Department of...|    580051|        4| QUEENS|      88-47| 179 PLACE|11432| 9915| 11|      2FL|            12|  06/20/2004|\n",
      "|  2|    2397487|  3768604|        29|    BUILDING|         148| ENTIRE BUILDING|     2|HAZARDOUS|             28|PAINT/PLASTER|            198|         WALL|  1400|PAINT DIRTY AND U...|       2| CLOSE|08/12/2004|The Department of...|    580051|        4| QUEENS|      88-47| 179 PLACE|11432| 9915| 11|      2FL|            12|  06/20/2004|\n",
      "|  3|    2397487|  3768605|        24|PUBLIC PARTS|          83|           OTHER|     1|EMERGENCY|             13|     NONCONST|            101|      RUBBISH|  1309|               OTHER|       2| CLOSE|08/12/2004|The Department of...|    580051|        4| QUEENS|      88-47| 179 PLACE|11432| 9915| 11|      2FL|            12|  06/20/2004|\n",
      "|  4|    2397487|  3768606|        20|   APARTMENT|          62|        BATHROOM|     1|EMERGENCY|              9|     PLUMBING|             68| WATER SUPPLY|  1282|               OTHER|       2| CLOSE|08/12/2004|The Department of...|    580051|        4| QUEENS|      88-47| 179 PLACE|11432| 9915| 11|      2FL|            12|  06/20/2004|\n",
      "+---+-----------+---------+----------+------------+------------+----------------+------+---------+---------------+-------------+---------------+-------------+------+--------------------+--------+------+----------+--------------------+----------+---------+-------+-----------+----------+-----+-----+---+---------+--------------+------------+\n",
      "only showing top 5 rows\n",
      "\n"
     ]
    }
   ],
   "source": [
    "# Read in data\n",
    "merged_df=spark.read.csv(\"NYC_Merged_Complaints_Data.csv\",inferSchema=True, header=True)\n",
    "merged_df.show(5)"
   ]
  },
  {
   "cell_type": "code",
   "execution_count": 4,
   "metadata": {
    "cell_id": "00005-5120d390-2a55-4b95-8ad8-0b2b1f67e656",
    "deepnote_cell_type": "code",
    "deepnote_to_be_reexecuted": false,
    "execution_millis": 5759,
    "execution_start": 1616375345344,
    "source_hash": "ead3f75a",
    "tags": []
   },
   "outputs": [
    {
     "data": {
      "text/plain": [
       "(pyspark.sql.dataframe.DataFrame, 4058289, 30)"
      ]
     },
     "execution_count": 4,
     "metadata": {},
     "output_type": "execute_result"
    }
   ],
   "source": [
    "# Number of records and Number of columns\n",
    "type(merged_df),merged_df.count(),len(merged_df.columns)"
   ]
  },
  {
   "cell_type": "markdown",
   "metadata": {
    "cell_id": "00007-dc9ae589-6899-4026-be74-fd34a66a316e",
    "deepnote_cell_type": "markdown",
    "tags": []
   },
   "source": [
    "Looking at the columns/variables that we have available to us, several are descriptive IDs which we will drop in our analysis (ComplaintID,problemID, UnitTypeID, SpaceTypeID, typeID, etc.) but we keep for now for our proprocessing steps. \n",
    "\n",
    "The variables that we will focus on in our regression analysis include: SpaceType, Type, MajorCategory, MinorCategory, Code, and Zip. \n",
    "\n",
    "We may look to include census data (such as avg income by zip code) in a later step."
   ]
  },
  {
   "cell_type": "code",
   "execution_count": 22,
   "metadata": {},
   "outputs": [
    {
     "name": "stdout",
     "output_type": "stream",
     "text": [
      "+-----------+---------+----------------+------+---------+---------------+-------------+---------------+-------------+------+--------------------+-----+\n",
      "|ComplaintID|ProblemID|       SpaceType|TypeID|     Type|MajorCategoryID|MajorCategory|MinorCategoryID|MinorCategory|CodeID|                Code|  Zip|\n",
      "+-----------+---------+----------------+------+---------+---------------+-------------+---------------+-------------+------+--------------------+-----+\n",
      "|    2397487|  3768602|ENTIRE APARTMENT|     2|HAZARDOUS|             13|     NONCONST|            106|       VERMIN|   886|             ROACHES|11432|\n",
      "|    2397487|  3768603|           OTHER|     2|HAZARDOUS|             13|     NONCONST|            106|       VERMIN|   884|                MICE|11432|\n",
      "|    2397487|  3768604| ENTIRE BUILDING|     2|HAZARDOUS|             28|PAINT/PLASTER|            198|         WALL|  1400|PAINT DIRTY AND U...|11432|\n",
      "|    2397487|  3768605|           OTHER|     1|EMERGENCY|             13|     NONCONST|            101|      RUBBISH|  1309|               OTHER|11432|\n",
      "|    2397487|  3768606|        BATHROOM|     1|EMERGENCY|              9|     PLUMBING|             68| WATER SUPPLY|  1282|               OTHER|11432|\n",
      "+-----------+---------+----------------+------+---------+---------------+-------------+---------------+-------------+------+--------------------+-----+\n",
      "only showing top 5 rows\n",
      "\n"
     ]
    }
   ],
   "source": [
    "reduced_df = merged_df[['ComplaintID', 'ProblemID', 'SpaceType', 'TypeID', 'Type', 'MajorCategoryID', 'MajorCategory', 'MinorCategoryID', 'MinorCategory', 'CodeID', 'Code', 'Zip']]\n",
    "\n",
    "reduced_df.show(5)"
   ]
  },
  {
   "cell_type": "code",
   "execution_count": null,
   "metadata": {},
   "outputs": [],
   "source": []
  },
  {
   "cell_type": "code",
   "execution_count": 23,
   "metadata": {
    "cell_id": "00006-10f3379d-4776-47ee-bcf8-2c607d8691c2",
    "deepnote_cell_type": "code",
    "deepnote_to_be_reexecuted": false,
    "execution_millis": 6,
    "execution_start": 1616375351103,
    "source_hash": "1e8bc7cb",
    "tags": []
   },
   "outputs": [
    {
     "name": "stdout",
     "output_type": "stream",
     "text": [
      "root\n",
      " |-- ComplaintID: integer (nullable = true)\n",
      " |-- ProblemID: integer (nullable = true)\n",
      " |-- SpaceType: string (nullable = true)\n",
      " |-- TypeID: integer (nullable = true)\n",
      " |-- Type: string (nullable = true)\n",
      " |-- MajorCategoryID: integer (nullable = true)\n",
      " |-- MajorCategory: string (nullable = true)\n",
      " |-- MinorCategoryID: integer (nullable = true)\n",
      " |-- MinorCategory: string (nullable = true)\n",
      " |-- CodeID: integer (nullable = true)\n",
      " |-- Code: string (nullable = true)\n",
      " |-- Zip: string (nullable = true)\n",
      "\n"
     ]
    }
   ],
   "source": [
    "#merged_df.printSchema()\n",
    "reduced_df.printSchema()"
   ]
  },
  {
   "cell_type": "markdown",
   "metadata": {
    "cell_id": "00007-12da12de-e861-48ca-8362-b907e5cc652f",
    "deepnote_cell_type": "markdown",
    "tags": []
   },
   "source": [
    "The main function of the following code block is to convert the data in the ReceivedDate and StatusDate columns into DateType so that we can calculate how long it took for each complaint to be filed as complete. The resulting \"closeTime\" column displays the number of days it took for the complaint to be closed. "
   ]
  },
  {
   "cell_type": "code",
   "execution_count": 6,
   "metadata": {
    "cell_id": "00007-75f96d07-e056-410d-896c-a023d4e7b531",
    "deepnote_cell_type": "code",
    "deepnote_to_be_reexecuted": false,
    "execution_millis": 524,
    "execution_start": 1616375351104,
    "source_hash": "920a4347",
    "tags": []
   },
   "outputs": [
    {
     "name": "stdout",
     "output_type": "stream",
     "text": [
      "+---+-----------+---------+----------+------------+------------+----------------+------+---------+---------------+-------------+---------------+-------------+------+--------------------+--------+------+----------+--------------------+----------+---------+-------+-----------+----------+-----+-----+---+---------+--------------+------------+---------+\n",
      "|_c0|ComplaintID|ProblemID|UnitTypeID|    UnitType|SpaceTypeID |       SpaceType|TypeID|     Type|MajorCategoryID|MajorCategory|MinorCategoryID|MinorCategory|CodeID|                Code|StatusID|Status|StatusDate|   StatusDescription|BuildingID|BoroughID|Borough|HouseNumber|StreetName|  Zip|Block|Lot|Apartment|CommunityBoard|ReceivedDate|closeTime|\n",
      "+---+-----------+---------+----------+------------+------------+----------------+------+---------+---------------+-------------+---------------+-------------+------+--------------------+--------+------+----------+--------------------+----------+---------+-------+-----------+----------+-----+-----+---+---------+--------------+------------+---------+\n",
      "|  0|    2397487|  3768602|        20|   APARTMENT|          68|ENTIRE APARTMENT|     2|HAZARDOUS|             13|     NONCONST|            106|       VERMIN|   886|             ROACHES|       2| CLOSE|08/12/2004|The Department of...|    580051|        4| QUEENS|      88-47| 179 PLACE|11432| 9915| 11|      2FL|            12|  06/20/2004|       53|\n",
      "|  1|    2397487|  3768603|        20|   APARTMENT|         159|           OTHER|     2|HAZARDOUS|             13|     NONCONST|            106|       VERMIN|   884|                MICE|       2| CLOSE|08/12/2004|The Department of...|    580051|        4| QUEENS|      88-47| 179 PLACE|11432| 9915| 11|      2FL|            12|  06/20/2004|       53|\n",
      "|  2|    2397487|  3768604|        29|    BUILDING|         148| ENTIRE BUILDING|     2|HAZARDOUS|             28|PAINT/PLASTER|            198|         WALL|  1400|PAINT DIRTY AND U...|       2| CLOSE|08/12/2004|The Department of...|    580051|        4| QUEENS|      88-47| 179 PLACE|11432| 9915| 11|      2FL|            12|  06/20/2004|       53|\n",
      "|  3|    2397487|  3768605|        24|PUBLIC PARTS|          83|           OTHER|     1|EMERGENCY|             13|     NONCONST|            101|      RUBBISH|  1309|               OTHER|       2| CLOSE|08/12/2004|The Department of...|    580051|        4| QUEENS|      88-47| 179 PLACE|11432| 9915| 11|      2FL|            12|  06/20/2004|       53|\n",
      "|  4|    2397487|  3768606|        20|   APARTMENT|          62|        BATHROOM|     1|EMERGENCY|              9|     PLUMBING|             68| WATER SUPPLY|  1282|               OTHER|       2| CLOSE|08/12/2004|The Department of...|    580051|        4| QUEENS|      88-47| 179 PLACE|11432| 9915| 11|      2FL|            12|  06/20/2004|       53|\n",
      "+---+-----------+---------+----------+------------+------------+----------------+------+---------+---------------+-------------+---------------+-------------+------+--------------------+--------+------+----------+--------------------+----------+---------+-------+-----------+----------+-----+-----+---+---------+--------------+------------+---------+\n",
      "only showing top 5 rows\n",
      "\n"
     ]
    }
   ],
   "source": [
    "from pyspark.sql.functions import unix_timestamp\n",
    "\n",
    "# preprocessing: convert dates to datetime format and calculate response variable - closing time\n",
    "timeDiff = (unix_timestamp('StatusDate', 'MM/dd/yyyy') - unix_timestamp('ReceivedDate', 'MM/dd/yyyy')) / 86400 #seconds per day\n",
    "timeDiff = timeDiff.cast(IntegerType())\n",
    "\n",
    "# add closing time (time for complaint to be resolved) to dataframe\n",
    "merged_df = merged_df.withColumn(\"closeTime\", timeDiff)\n",
    "merged_df.show(5)\n",
    "#Reference: https://stackoverflow.com/questions/47701339/subtracting-two-date-columns-in-pyspark-python"
   ]
  },
  {
   "cell_type": "markdown",
   "metadata": {
    "cell_id": "00008-707cb81d-1adb-4728-8120-440d4ba3e0b2",
    "deepnote_cell_type": "markdown",
    "tags": []
   },
   "source": [
    "Our response variable, closeTime, describes the amount of time for a complaint to be closed/resolved. The possible values range from -180 (clearly a data error) to 6531 days, with an average complaint closing time of 13.6 days and a standard deviation of 37.6 days. "
   ]
  },
  {
   "cell_type": "code",
   "execution_count": 7,
   "metadata": {
    "cell_id": "00008-fd90ec06-de2a-41b3-8b6a-f461a30e8580",
    "deepnote_cell_type": "code",
    "deepnote_to_be_reexecuted": false,
    "execution_millis": 25060,
    "execution_start": 1616375351625,
    "source_hash": "f7389b5b",
    "tags": []
   },
   "outputs": [
    {
     "data": {
      "text/plain": [
       "<bound method DataFrame.transpose of   summary           closeTime\n",
       "0   count             4057769\n",
       "1    mean  13.612062194767617\n",
       "2  stddev  37.547546880054725\n",
       "3     min                -179\n",
       "4     max                6531>"
      ]
     },
     "execution_count": 7,
     "metadata": {},
     "output_type": "execute_result"
    }
   ],
   "source": [
    "# Statistical summary of response variable\n",
    "response_variable = merged_df.select([\"closeTime\"])\n",
    "response_variable.describe().toPandas().transpose"
   ]
  },
  {
   "cell_type": "code",
   "execution_count": 8,
   "metadata": {
    "cell_id": "00013-37759006-8e37-4618-b8c4-02d837808110",
    "deepnote_cell_type": "code",
    "deepnote_to_be_reexecuted": false,
    "execution_millis": 27236,
    "execution_start": 1616375376679,
    "source_hash": "adfb7453",
    "tags": []
   },
   "outputs": [],
   "source": [
    "quantiles = merged_df.approxQuantile(\"closeTime\", [0.25,0.50,0.75], 0.1)"
   ]
  },
  {
   "cell_type": "code",
   "execution_count": 9,
   "metadata": {
    "cell_id": "00014-25ad43b3-ce77-4013-94a9-beb383ef4509",
    "deepnote_cell_type": "code",
    "deepnote_to_be_reexecuted": false,
    "execution_millis": 6,
    "execution_start": 1616375403922,
    "source_hash": "42deadc",
    "tags": []
   },
   "outputs": [
    {
     "data": {
      "text/plain": [
       "[4.0, 10.0, 18.0]"
      ]
     },
     "execution_count": 9,
     "metadata": {},
     "output_type": "execute_result"
    }
   ],
   "source": [
    "quantiles"
   ]
  },
  {
   "cell_type": "markdown",
   "metadata": {
    "cell_id": "00010-775c1882-9e7f-489c-812b-00fbd01c492e",
    "deepnote_cell_type": "markdown",
    "tags": []
   },
   "source": [
    "In our exploration of the response variable, we also calculate simple correlations between our response variable and some of the potential numerical predictors. "
   ]
  },
  {
   "cell_type": "code",
   "execution_count": null,
   "metadata": {
    "cell_id": "00006-cad2806c-d8fa-4bb2-9b58-c5a728d07381",
    "deepnote_cell_type": "code",
    "deepnote_to_be_reexecuted": false,
    "execution_millis": 419777,
    "execution_start": 1616375403934,
    "source_hash": "641b3b60",
    "tags": []
   },
   "outputs": [
    {
     "data": {
      "image/png": "[encoded data removed]",
      "text/plain": [
       "<Figure size 720x720 with 225 Axes>"
      ]
     },
     "metadata": {
      "needs_background": "light"
     },
     "output_type": "display_data"
    },
    {
     "ename": "KernelInterrupted",
     "evalue": "Execution interrupted by the Jupyter kernel.",
     "output_type": "error",
     "traceback": [
      "\u001b[0;31m---------------------------------------------------------------------------\u001b[0m",
      "\u001b[0;31mKernelInterrupted\u001b[0m: Execution interrupted by the Jupyter kernel."
     ]
    },
    {
     "ename": "KernelInterrupted",
     "evalue": "Execution interrupted by the Jupyter kernel.",
     "output_type": "error",
     "traceback": [
      "\u001b[0;31m---------------------------------------------------------------------------\u001b[0m",
      "\u001b[0;31mKernelInterrupted\u001b[0m: Execution interrupted by the Jupyter kernel."
     ]
    }
   ],
   "source": [
    "#Merged DF Scatter Matrix\n",
    "import pandas as pd\n",
    "import pandas.plotting\n",
    "numeric_features = [t[0] for t in merged_df.dtypes if t[1] == 'int' or t[1] == 'double']\n",
    "sampled_data = merged_df.select(numeric_features).sample(False, 0.8).toPandas()\n",
    "axs = pd.plotting.scatter_matrix(sampled_data, figsize=(10, 10))\n",
    "n = len(sampled_data.columns)\n",
    "for i in range(n):\n",
    "    v = axs[i, 0]\n",
    "    v.yaxis.label.set_rotation(0)\n",
    "    v.yaxis.label.set_ha('right')\n",
    "    v.set_yticks(())\n",
    "    h = axs[n-1, i]\n",
    "    h.xaxis.label.set_rotation(90)\n",
    "    h.set_xticks(())\n",
    "#Reference https://towardsdatascience.com/building-a-linear-regression-with-pyspark-and-mllib-d065c3ba246a"
   ]
  },
  {
   "cell_type": "markdown",
   "metadata": {
    "cell_id": "00013-fa476c83-8b98-45ad-9bb4-6ae34180fd48",
    "deepnote_cell_type": "markdown",
    "tags": []
   },
   "source": [
    "Next in our preliminary data exploration we take a look at some of the potential categorical predictors. "
   ]
  },
  {
   "cell_type": "markdown",
   "metadata": {
    "cell_id": "00014-fa16bbce-7c53-429d-aea8-6b2c6ead0559",
    "deepnote_cell_type": "markdown",
    "tags": []
   },
   "source": [
    "One predictor in our model is the spaceType - this variable describes the location of the complaint, with the two most common spaceTypes being Entire Apartment and Building-Wide. There are 50 different spaceTypes in our data. "
   ]
  },
  {
   "cell_type": "code",
   "execution_count": 5,
   "metadata": {
    "cell_id": "00012-a8d236b2-694b-4280-a687-a852f253a8ce",
    "deepnote_cell_type": "code",
    "deepnote_to_be_reexecuted": true,
    "execution_millis": 481,
    "source_hash": "1ffcd8d5",
    "tags": []
   },
   "outputs": [],
   "source": [
    "from pyspark.sql.functions import sum,avg,max,min,mean,count, desc\n",
    "\n",
    "tot = merged_df.count()\n",
    "\n",
    "space_df = merged_df.groupby('spaceType') \\\n",
    "    .agg(count('ComplaintID').alias(\"Count\"), \\\n",
    "        ((count('ComplaintID') / tot)*100).alias('Percentage'), \\\n",
    "        avg('closeTime').alias('Avg closeTime')\n",
    "    )"
   ]
  },
  {
   "cell_type": "code",
   "execution_count": 6,
   "metadata": {
    "cell_id": "00016-e593496d-bcd4-44c0-949f-2b5c0b92eb5f",
    "deepnote_cell_type": "code",
    "deepnote_to_be_reexecuted": true,
    "execution_millis": 35206,
    "source_hash": "d403a5b6",
    "tags": []
   },
   "outputs": [
    {
     "data": {
      "text/plain": [
       "50"
      ]
     },
     "execution_count": 6,
     "metadata": {},
     "output_type": "execute_result"
    }
   ],
   "source": [
    "space_df.count()"
   ]
  },
  {
   "cell_type": "code",
   "execution_count": null,
   "metadata": {
    "cell_id": "00016-109c1c92-52e0-4cf9-aabf-d411dd114025",
    "deepnote_cell_type": "code",
    "deepnote_to_be_reexecuted": true,
    "execution_millis": 57870,
    "source_hash": "96cc75a7",
    "tags": []
   },
   "outputs": [
    {
     "name": "stdout",
     "output_type": "stream",
     "text": [
      "+--------------------+-------+--------------------+------------------+\n",
      "|           spaceType|  Count|          Percentage|     Avg closeTime|\n",
      "+--------------------+-------+--------------------+------------------+\n",
      "|    ENTIRE APARTMENT|1355020|   32.92150874982476|11.559601603034842|\n",
      "|       BUILDING-WIDE| 778869|  18.923368362435436|4.1403645769784525|\n",
      "|            BATHROOM| 599742|  14.571306328052284| 17.40558891354842|\n",
      "|             KITCHEN| 429393|  10.432514211313121|18.849650064630325|\n",
      "|             BEDROOM| 285107|   6.926947642939801| 17.54490673513339|\n",
      "|         LIVING ROOM| 164918|   4.006840769880593|18.174292176802684|\n",
      "|      ENTRANCE/FOYER| 117295|   2.849794371161087| 18.77330934761109|\n",
      "|     OTHER ROOM/AREA|  86103|  2.0919548551948766| 18.80547973844063|\n",
      "|   BUILDING ENTRANCE|  66031|  1.6042863900604265|22.596274420717855|\n",
      "|             HALLWAY|  50507|  1.2271159410395414| 21.56165604086643|\n",
      "|        PRIVATE HALL|  42007|  1.0206002996663437|17.518151736615327|\n",
      "|               LOBBY|  26609|  0.6464911413293436|20.400586333909644|\n",
      "|              STAIRS|  21797|  0.5295789923543051|  19.5579922921637|\n",
      "|            BASEMENT|  17510|  0.4254222212287875| 23.54123829106694|\n",
      "|                YARD|  13189|  0.3204393875377772|26.334748654181514|\n",
      "|            ELEVATOR|   8646|  0.2100628512132551| 23.44055054360398|\n",
      "|           COURTYARD|   8412| 0.20437759708604003|24.871121150873854|\n",
      "|                ROOF|   8139| 0.19774480060428906| 16.87822560825756|\n",
      "|  FIRE ESCAPE/EGRESS|   7885| 0.19157362732090175|17.430818008877615|\n",
      "|    COMPACTOR CLOSET|   7337| 0.17825944244178263|24.872955288985825|\n",
      "|     ENTIRE BUILDING|   6214|  0.1509750818227119| 55.18591823491239|\n",
      "|         BOILER ROOM|   3464| 0.08416119784903026|18.984988452655887|\n",
      "|        LAUNDRY ROOM|   2543| 0.06178462070729906|22.928009441384738|\n",
      "|FIRE EXIT/PASSAGEWAY|   2301| 0.05590499891761508|23.561060408518035|\n",
      "|               STOOP|   1230|0.029884028104592154| 30.94390243902439|\n",
      "+--------------------+-------+--------------------+------------------+\n",
      "only showing top 25 rows\n",
      "\n"
     ]
    }
   ],
   "source": [
    "space_df.sort(desc(\"Count\")).show(25)"
   ]
  },
  {
   "cell_type": "markdown",
   "metadata": {
    "cell_id": "00018-c19468a0-16d5-4e72-94c1-ce38b95052ba",
    "deepnote_cell_type": "markdown",
    "tags": []
   },
   "source": [
    "We then look at the major category variable, which describes the complaint type. In our data there are 16 different major categories for complaints, with heat/hot water comprising 34% of all complaints and taking an average of only 3 days to be resolved. "
   ]
  },
  {
   "cell_type": "code",
   "execution_count": null,
   "metadata": {
    "cell_id": "00019-c5185d85-c6c8-45a4-9047-7c53711d416a",
    "deepnote_cell_type": "code",
    "deepnote_to_be_reexecuted": true,
    "execution_millis": 50,
    "source_hash": "4ffcdfc9",
    "tags": []
   },
   "outputs": [],
   "source": [
    "maj_cat_df = merged_df.groupby('MajorCategory') \\\n",
    "    .agg(count('ComplaintID').alias(\"Count\"), \\\n",
    "        ((count('ComplaintID') / tot)*100).alias('Percentage'), \\\n",
    "        avg('closeTime').alias('Avg closeTime')\n",
    "    )"
   ]
  },
  {
   "cell_type": "code",
   "execution_count": null,
   "metadata": {
    "cell_id": "00020-15c81b0e-0572-4809-9190-f92c112b0696",
    "deepnote_cell_type": "code",
    "deepnote_to_be_reexecuted": true,
    "execution_millis": 37895,
    "source_hash": "8c8e65ca",
    "tags": []
   },
   "outputs": [
    {
     "data": {
      "text/plain": [
       "16"
      ]
     },
     "execution_count": 127,
     "metadata": {},
     "output_type": "execute_result"
    }
   ],
   "source": [
    "maj_cat_df.count()"
   ]
  },
  {
   "cell_type": "code",
   "execution_count": null,
   "metadata": {
    "cell_id": "00021-e56dc09f-cf03-435e-b777-6a85b92c5e14",
    "deepnote_cell_type": "code",
    "deepnote_to_be_reexecuted": true,
    "execution_millis": 59882,
    "source_hash": "bd6f4938",
    "tags": []
   },
   "outputs": [
    {
     "name": "stdout",
     "output_type": "stream",
     "text": [
      "+--------------------+-------+--------------------+------------------+\n",
      "|       MajorCategory|  Count|          Percentage|     Avg closeTime|\n",
      "+--------------------+-------+--------------------+------------------+\n",
      "|      HEAT/HOT WATER|1395416|   33.90296826146144| 3.056001467687933|\n",
      "|UNSANITARY CONDITION| 586771|  14.256163459316785| 20.95189683999189|\n",
      "|       PAINT/PLASTER| 438953|  10.664783567963447|17.467173189957624|\n",
      "|            PLUMBING| 382913|   9.303238092368858|17.616458820303215|\n",
      "|         DOOR/WINDOW| 285059|   6.925781436964988| 17.81920652238738|\n",
      "|          WATER LEAK| 234334|  5.6933689771231695|18.980633404603086|\n",
      "|            ELECTRIC| 191411|   4.650513580104137|17.245894701644207|\n",
      "|     FLOORING/STAIRS| 185975|   4.518440753456525|17.990046888778956|\n",
      "|             GENERAL| 184198|   4.475266836430623| 21.50981991387185|\n",
      "|           APPLIANCE| 103470|  2.5139027544570327|20.748093447645928|\n",
      "|              SAFETY| 102867|    2.49925229189844| 17.54508336168765|\n",
      "|    OUTSIDE BUILDING|  11759| 0.28569616787146274|16.884504167375404|\n",
      "|            ELEVATOR|   8755| 0.21271111061439374|23.389377498572244|\n",
      "|             HEATING|   3600| 0.08746544811100142|112.83866402490801|\n",
      "|            NONCONST|    419| 0.01018000632180822| 382.7780429594272|\n",
      "|        CONSTRUCTION|     11|2.672555358947266E-4| 513.8181818181819|\n",
      "+--------------------+-------+--------------------+------------------+\n",
      "\n"
     ]
    }
   ],
   "source": [
    "maj_cat_df.sort(desc(\"Count\")).show(25)"
   ]
  },
  {
   "cell_type": "code",
   "execution_count": null,
   "metadata": {
    "cell_id": "00018-79d4133d-f3f4-4eac-887e-9577f9d9bd0d",
    "deepnote_cell_type": "code",
    "deepnote_to_be_reexecuted": true,
    "execution_millis": 35700,
    "source_hash": "de093e0b",
    "tags": []
   },
   "outputs": [
    {
     "name": "stdout",
     "output_type": "stream",
     "text": [
      "+-------------------+-------+\n",
      "|               Type|  count|\n",
      "+-------------------+-------+\n",
      "|          HAZARDOUS|     28|\n",
      "|      NON EMERGENCY|1404254|\n",
      "|IMMEDIATE EMERGENCY| 146379|\n",
      "|          EMERGENCY|2565250|\n",
      "+-------------------+-------+\n",
      "\n"
     ]
    }
   ],
   "source": [
    "counts_Type = merged_df.groupby('Type').count()\n",
    "counts_Type.show()\n"
   ]
  },
  {
   "cell_type": "code",
   "execution_count": null,
   "metadata": {
    "cell_id": "00019-08fcc158-b61a-43ac-a4dd-90892064a9b6",
    "deepnote_cell_type": "code",
    "deepnote_to_be_reexecuted": true,
    "execution_millis": 53942,
    "source_hash": "c9ce46db",
    "tags": []
   },
   "outputs": [
    {
     "name": "stdout",
     "output_type": "stream",
     "text": [
      "+-------------------+-------+--------------------+\n",
      "|               Type|  count|       count_percent|\n",
      "+-------------------+-------+--------------------+\n",
      "|          HAZARDOUS|     28|6.802868186411222E-6|\n",
      "|      NON EMERGENCY|1404254| 0.34117695936573944|\n",
      "|IMMEDIATE EMERGENCY| 146379| 0.03556418008066744|\n",
      "|          EMERGENCY|2565250|  0.6232520576854067|\n",
      "+-------------------+-------+--------------------+\n",
      "\n"
     ]
    }
   ],
   "source": [
    "import pyspark.sql.functions as f\n",
    "counts_Type = counts_Type.withColumn('count_percent', f.col('count')/merged_df.count())\n",
    "counts_Type.show()\n"
   ]
  },
  {
   "cell_type": "code",
   "execution_count": null,
   "metadata": {
    "cell_id": "00019-7428e547-50b5-423c-bdea-223cf08a3957",
    "deepnote_cell_type": "code",
    "deepnote_to_be_reexecuted": true,
    "execution_millis": 42162,
    "source_hash": "81eec6fd",
    "tags": []
   },
   "outputs": [
    {
     "name": "stdout",
     "output_type": "stream",
     "text": [
      "+-----+------+\n",
      "|  Zip| count|\n",
      "+-----+------+\n",
      "|11236| 24624|\n",
      "|11205| 13129|\n",
      "|10309|  1000|\n",
      "|11106| 10612|\n",
      "|11218| 29467|\n",
      "|10452|107727|\n",
      "|11428|  2579|\n",
      "| 2016|    38|\n",
      "|11237| 38862|\n",
      "|11379|  2579|\n",
      "|11364|  2446|\n",
      "|11109|    52|\n",
      "|11249|  9795|\n",
      "|10012|  9404|\n",
      "|11001|   175|\n",
      "|11238| 34206|\n",
      "|10039| 25879|\n",
      "|11385| 32748|\n",
      "|11427|  3644|\n",
      "|11367|  7816|\n",
      "+-----+------+\n",
      "only showing top 20 rows\n",
      "\n"
     ]
    }
   ],
   "source": [
    "# Get counts of complaints per zipcode \n",
    "\n",
    "count_Zip = merged_df.groupby('Zip').count()\n",
    "count_Zip.show()\n",
    "\n",
    "# zipcode 11452 and 2018 are not real zipcodes...how did they get in our dataset?"
   ]
  },
  {
   "cell_type": "code",
   "execution_count": null,
   "metadata": {
    "cell_id": "00010-e51c5ace-bb3e-4e18-bdbb-6e7e83d726b4",
    "deepnote_cell_type": "code",
    "deepnote_to_be_reexecuted": true,
    "execution_millis": 57195,
    "source_hash": "9e4adb7b",
    "tags": []
   },
   "outputs": [
    {
     "name": "stdout",
     "output_type": "stream",
     "text": [
      "+-----+------+--------------------+\n",
      "|  Zip| count|       count_percent|\n",
      "+-----+------+--------------------+\n",
      "|11236| 24624|0.005982636650792...|\n",
      "|11205| 13129|0.003189816300692...|\n",
      "|10309|  1000|2.429595780861150...|\n",
      "|11106| 10612|0.002578287042649853|\n",
      "|11218| 29467|0.007159289887463553|\n",
      "|10452|107727| 0.02617330646848292|\n",
      "|11428|  2579|6.265927518840908E-4|\n",
      "| 2016|    38|9.232463967272373E-6|\n",
      "|11237| 38862|0.009441895123582605|\n",
      "|11379|  2579|6.265927518840908E-4|\n",
      "|11364|  2446|5.942791279986375E-4|\n",
      "|11109|    52|1.263389806047798...|\n",
      "|11249|  9795|0.002379789067353497|\n",
      "|10012|  9404|0.002284791872321...|\n",
      "|11001|   175|4.251792616507014E-5|\n",
      "|11238| 34206|0.008310675328013653|\n",
      "|10039| 25879|0.006287550921290572|\n",
      "|11385| 32748|0.007956440263164097|\n",
      "|11427|  3644|8.853447025458034E-4|\n",
      "|11367|  7816|0.001898972062321...|\n",
      "+-----+------+--------------------+\n",
      "only showing top 20 rows\n",
      "\n"
     ]
    }
   ],
   "source": [
    "import pyspark.sql.functions as f\n",
    "count_Zip = count_Zip.withColumn('count_percent', f.col('count')/merged_df.count())\n",
    "count_Zip.show()"
   ]
  },
  {
   "cell_type": "code",
   "execution_count": null,
   "metadata": {
    "cell_id": "00029-4a0bf2bf-3f78-4388-8b8e-68677dcd66a8",
    "deepnote_cell_type": "code",
    "deepnote_to_be_reexecuted": true,
    "execution_millis": 43840,
    "source_hash": "9b727eed",
    "tags": []
   },
   "outputs": [
    {
     "name": "stdout",
     "output_type": "stream",
     "text": [
      "+---------------+------+\n",
      "|  MinorCategory| count|\n",
      "+---------------+------+\n",
      "|   SHOWER-STALL|    20|\n",
      "|      SPRINKLER|  1757|\n",
      "|  GUTTER/LEADER|   983|\n",
      "|  JANITOR/SUPER|  9083|\n",
      "|      DAMP SPOT| 30848|\n",
      "|       RADIATOR| 48413|\n",
      "|         SEWAGE| 14450|\n",
      "|ENTIRE BUILDING|905689|\n",
      "| SMOKE DETECTOR| 32250|\n",
      "|    NO LIGHTING| 45551|\n",
      "|   HEAT RELATED|  3591|\n",
      "|       PAVEMENT|  2142|\n",
      "|     DOOR/FRAME|  4457|\n",
      "|      SLOW LEAK| 98054|\n",
      "|         TOILET| 53822|\n",
      "|        ROOFING|  4064|\n",
      "|           MOLD|181646|\n",
      "|        FENCING|     1|\n",
      "|    WATER-LEAKS|   225|\n",
      "|     HEAT-PLANT|     9|\n",
      "+---------------+------+\n",
      "only showing top 20 rows\n",
      "\n"
     ]
    }
   ],
   "source": [
    "# MinorCategory\n",
    "\n",
    "counts_MinorCategory = merged_df.groupby('MinorCategory').count()\n",
    "counts_MinorCategory.show()\n"
   ]
  },
  {
   "cell_type": "code",
   "execution_count": null,
   "metadata": {
    "cell_id": "00030-9b930138-773a-46c0-9829-73553ce2285a",
    "deepnote_cell_type": "code",
    "deepnote_to_be_reexecuted": true,
    "execution_millis": 49097,
    "source_hash": "644d3ec5",
    "tags": []
   },
   "outputs": [
    {
     "name": "stdout",
     "output_type": "stream",
     "text": [
      "+---------------+------+--------------------+\n",
      "|  MinorCategory| count|       count_percent|\n",
      "+---------------+------+--------------------+\n",
      "|   SHOWER-STALL|    20|4.859191561722302E-6|\n",
      "|      SPRINKLER|  1757|4.268799786973042E-4|\n",
      "|  GUTTER/LEADER|   983|2.388292652586511...|\n",
      "|  JANITOR/SUPER|  9083|0.002206801847756...|\n",
      "|      DAMP SPOT| 30848|0.007494817064800478|\n",
      "|       RADIATOR| 48413|0.011762402053883089|\n",
      "|         SEWAGE| 14450|0.003510765903344...|\n",
      "|ENTIRE BUILDING|905689|  0.2200458173172355|\n",
      "| SMOKE DETECTOR| 32250| 0.00783544639327721|\n",
      "|    NO LIGHTING| 45551|0.011067051741400628|\n",
      "|   HEAT RELATED|  3591|8.724678449072393E-4|\n",
      "|       PAVEMENT|  2142|5.204194162604585E-4|\n",
      "|     DOOR/FRAME|  4457|0.001082870839529815|\n",
      "|      SLOW LEAK| 98054| 0.02382315846965593|\n",
      "|         TOILET| 53822|0.013076570411750886|\n",
      "|        ROOFING|  4064|9.873877253419718E-4|\n",
      "|           MOLD|181646| 0.04413263552103046|\n",
      "|        FENCING|     1|2.429595780861151E-7|\n",
      "|    WATER-LEAKS|   225|5.466590506937589E-5|\n",
      "|     HEAT-PLANT|     9|2.186636202775035...|\n",
      "+---------------+------+--------------------+\n",
      "only showing top 20 rows\n",
      "\n"
     ]
    }
   ],
   "source": [
    "import pyspark.sql.functions as f\n",
    "counts_MinorCategory = counts_MinorCategory.withColumn('count_percent', f.col('count')/merged_df.count())\n",
    "counts_MinorCategory.show()"
   ]
  },
  {
   "cell_type": "code",
   "execution_count": null,
   "metadata": {
    "cell_id": "00031-15802a1e-2f63-4418-ba46-bada3f170e48",
    "deepnote_cell_type": "code",
    "deepnote_to_be_reexecuted": true,
    "execution_millis": 42991,
    "source_hash": "3ad02c48",
    "tags": []
   },
   "outputs": [
    {
     "name": "stdout",
     "output_type": "stream",
     "text": [
      "+--------------------+-------+\n",
      "|           SpaceType|  count|\n",
      "+--------------------+-------+\n",
      "|    ENTIRE APARTMENT|1355020|\n",
      "|PUBLIC HALL BULKHEAD|      2|\n",
      "|             TERRACE|      2|\n",
      "|           BEDROOM 3|     31|\n",
      "|   FIRE STAIRS/TOWER|    920|\n",
      "|     ENTIRE BUILDING|   6214|\n",
      "|               STOOP|   1230|\n",
      "|         KITCHENETTE|      5|\n",
      "|            ENTRANCE|     61|\n",
      "|         LIVING ROOM| 164918|\n",
      "|FIRE EXIT/PASSAGEWAY|   2301|\n",
      "|           BEDROOM 2|     80|\n",
      "|             BEDROOM| 285107|\n",
      "|               FOYER|     18|\n",
      "|           COURTYARD|   8412|\n",
      "|            BASEMENT|  17510|\n",
      "|   BUILDING ENTRANCE|  66031|\n",
      "|            ELEVATOR|   8646|\n",
      "|       BUILDING-WIDE| 778869|\n",
      "|        LAUNDRY ROOM|   2543|\n",
      "+--------------------+-------+\n",
      "only showing top 20 rows\n",
      "\n"
     ]
    }
   ],
   "source": [
    "#SpaceType \n",
    "\n",
    "counts_SpaceType = merged_df.groupby('SpaceType').count()\n",
    "counts_SpaceType.show()\n"
   ]
  },
  {
   "cell_type": "code",
   "execution_count": null,
   "metadata": {
    "cell_id": "00031-6abceb53-4acc-4b9a-9a1f-034cdcf0d863",
    "deepnote_cell_type": "code",
    "deepnote_to_be_reexecuted": true,
    "execution_millis": 56010,
    "source_hash": "dbd5cc8b",
    "tags": []
   },
   "outputs": [
    {
     "name": "stdout",
     "output_type": "stream",
     "text": [
      "+--------------------+-------+--------------------+\n",
      "|           SpaceType|  count|       count_percent|\n",
      "+--------------------+-------+--------------------+\n",
      "|    ENTIRE APARTMENT|1355020|  0.3292150874982476|\n",
      "|PUBLIC HALL BULKHEAD|      2|4.859191561722302E-7|\n",
      "|             TERRACE|      2|4.859191561722302E-7|\n",
      "|           BEDROOM 3|     31|7.531746920669567E-6|\n",
      "|   FIRE STAIRS/TOWER|    920|2.235228118392258...|\n",
      "|     ENTIRE BUILDING|   6214|0.001509750818227...|\n",
      "|               STOOP|   1230|2.988402810459215...|\n",
      "|         KITCHENETTE|      5|1.214797890430575...|\n",
      "|            ENTRANCE|     61|1.482053426325302E-5|\n",
      "|         LIVING ROOM| 164918| 0.04006840769880592|\n",
      "|FIRE EXIT/PASSAGEWAY|   2301|5.590499891761508E-4|\n",
      "|           BEDROOM 2|     80|1.943676624688920...|\n",
      "|             BEDROOM| 285107| 0.06926947642939801|\n",
      "|               FOYER|     18|4.373272405550071...|\n",
      "|           COURTYARD|   8412|  0.0020437759708604|\n",
      "|            BASEMENT|  17510|0.004254222212287875|\n",
      "|   BUILDING ENTRANCE|  66031|0.016042863900604266|\n",
      "|            ELEVATOR|   8646|0.002100628512132551|\n",
      "|       BUILDING-WIDE| 778869| 0.18923368362435436|\n",
      "|        LAUNDRY ROOM|   2543|6.178462070729906E-4|\n",
      "+--------------------+-------+--------------------+\n",
      "only showing top 20 rows\n",
      "\n"
     ]
    }
   ],
   "source": [
    "# Calculating percentages for SpaceType\n",
    "\n",
    "import pyspark.sql.functions as f\n",
    "counts_SpaceType = counts_SpaceType.withColumn('count_percent', f.col('count')/merged_df.count())\n",
    "counts_SpaceType.show()"
   ]
  },
  {
   "cell_type": "code",
   "execution_count": null,
   "metadata": {
    "cell_id": "00032-2ba06ae6-8745-4674-9f10-bdd675a90d46",
    "deepnote_cell_type": "code",
    "deepnote_to_be_reexecuted": true,
    "execution_millis": 35921,
    "source_hash": "fd623d44",
    "tags": []
   },
   "outputs": [
    {
     "name": "stdout",
     "output_type": "stream",
     "text": [
      "+--------------------+-----+\n",
      "|                Code|count|\n",
      "+--------------------+-----+\n",
      "|    ENTIRE APARTMENT|16310|\n",
      "|NO LIGHTS ON ONE ...|    6|\n",
      "|PEELING OR FLAKIN...|19133|\n",
      "|FREEZER MAKING LO...|    1|\n",
      "|              NO GAS|  270|\n",
      "|            BED BUGS|45954|\n",
      "| MISSING COVER PLATE|  138|\n",
      "|CASCADING FROM CE...|   41|\n",
      "|          LARGE HOLE|    6|\n",
      "|BUILDING ENTRANCE...|    1|\n",
      "|   BROKEN OR CRACKED| 2141|\n",
      "|APARTMENT CREATED...|    1|\n",
      "| FLEX HOSE IS BROKEN|    1|\n",
      "| DIRTY OR UNSANITARY|52651|\n",
      "|            NO WATER|50161|\n",
      "|            SHUT-OFF|48460|\n",
      "| DEFECTIVE / MISSING|   26|\n",
      "|SHUT OFF VALVE BR...| 2388|\n",
      "|LEAKING TO FLOOR ...|    1|\n",
      "|COLLAPSING OR FAL...|64558|\n",
      "+--------------------+-----+\n",
      "only showing top 20 rows\n",
      "\n"
     ]
    }
   ],
   "source": [
    "# Code\n",
    "\n",
    "counts_Code = merged_df.groupby('Code').count()\n",
    "counts_Code.show()"
   ]
  },
  {
   "cell_type": "code",
   "execution_count": null,
   "metadata": {
    "cell_id": "00033-9b48dacc-5874-46f3-b82b-07e550534e50",
    "deepnote_cell_type": "code",
    "deepnote_to_be_reexecuted": true,
    "execution_millis": 52634,
    "source_hash": "2bd24ffc",
    "tags": []
   },
   "outputs": [
    {
     "name": "stdout",
     "output_type": "stream",
     "text": [
      "+--------------------+-----+--------------------+\n",
      "|                Code|count|       count_percent|\n",
      "+--------------------+-----+--------------------+\n",
      "|    ENTIRE APARTMENT|16310|0.003962670718584537|\n",
      "|NO LIGHTS ON ONE ...|    6|1.457757468516690...|\n",
      "|PEELING OR FLAKIN...|19133| 0.00464854560752164|\n",
      "|FREEZER MAKING LO...|    1|2.429595780861151E-7|\n",
      "|              NO GAS|  270|6.559908608325108E-5|\n",
      "|            BED BUGS|45954|0.011164964451369332|\n",
      "| MISSING COVER PLATE|  138|3.352842177588388E-5|\n",
      "|CASCADING FROM CE...|   41|9.961342701530717E-6|\n",
      "|          LARGE HOLE|    6|1.457757468516690...|\n",
      "|BUILDING ENTRANCE...|    1|2.429595780861151E-7|\n",
      "|   BROKEN OR CRACKED| 2141|5.201764566823724E-4|\n",
      "|APARTMENT CREATED...|    1|2.429595780861151E-7|\n",
      "| FLEX HOSE IS BROKEN|    1|2.429595780861151E-7|\n",
      "| DIRTY OR UNSANITARY|52651|0.012792064745812045|\n",
      "|            NO WATER|50161|0.012187095396377618|\n",
      "|            SHUT-OFF|48460|0.011773821154053137|\n",
      "| DEFECTIVE / MISSING|   26|6.316949030238992E-6|\n",
      "|SHUT OFF VALVE BR...| 2388|5.801874724696429E-4|\n",
      "|LEAKING TO FLOOR ...|    1|2.429595780861151E-7|\n",
      "|COLLAPSING OR FAL...|64558|0.015684984442083418|\n",
      "+--------------------+-----+--------------------+\n",
      "only showing top 20 rows\n",
      "\n"
     ]
    }
   ],
   "source": [
    "# Calculating percentages for Code\n",
    "\n",
    "import pyspark.sql.functions as f\n",
    "counts_Code = counts_Code.withColumn('count_percent', f.col('count')/merged_df.count())\n",
    "counts_Code.show()"
   ]
  },
  {
   "cell_type": "markdown",
   "metadata": {
    "cell_id": "00011-00a587d9-b7af-4c83-9080-d39a21f66983",
    "deepnote_cell_type": "markdown",
    "tags": []
   },
   "source": [
    "Blurp on correlation and how we selected the top 10 predictors"
   ]
  },
  {
   "cell_type": "code",
   "execution_count": null,
   "metadata": {
    "cell_id": "00007-a8f6f7f1-42c0-4186-8c60-115df59280a9",
    "deepnote_cell_type": "code",
    "deepnote_to_be_reexecuted": true,
    "execution_millis": 47565,
    "source_hash": "a6471439",
    "tags": []
   },
   "outputs": [
    {
     "data": {
      "text/plain": [
       "<bound method DataFrame.transpose of   summary               count\n",
       "0   count                 203\n",
       "1    mean  20275.423645320196\n",
       "2  stddev  27475.458709093135\n",
       "3     min                   1\n",
       "4     max              148447>"
      ]
     },
     "execution_count": 128,
     "metadata": {},
     "output_type": "execute_result"
    }
   ],
   "source": [
    "# Statistical summary of predictor variable(s)\n",
    "predictor_variables = count_Zip.select([\"count\"])\n",
    "predictor_variables.describe().toPandas().transpose"
   ]
  },
  {
   "cell_type": "markdown",
   "metadata": {
    "cell_id": "00009-0d96a15e-ad7a-4cc7-b630-3be4cfa68c3f",
    "deepnote_cell_type": "markdown",
    "tags": []
   },
   "source": [
    "While this shows some information, it might be more informative to look at the Zipcodes with the most complaints and the Zipcodes with the least complaints."
   ]
  },
  {
   "cell_type": "markdown",
   "metadata": {
    "cell_id": "00014-137395f1-4006-44d4-9223-37f76f5a3938",
    "deepnote_cell_type": "markdown",
    "tags": []
   },
   "source": [
    "A heat map (Complaints Heat Map), using zip code (\"Zip\") and complaint id (\"ComplaintID\") counts, was created visually compare where the density of complaints are greatest.  The shapes of the outlined areas are automatically generated based on zip code and the heat map density color was selected such that hot spots easily stand out.  This creates an easily decipherable picture of complaint concentrations, based on the darker regions.\n",
    "\n",
    "The second visualization (Complaints Bar Graph) was created from the same dataset using multiple variables.  The bar graph visualization provides additional information regarding the type of issue in addition to the count of complaints by zip code.  The integration of the zip code and complaint id variables, with the addition of a third “Major Category” variable, into one graphic allows us to focus on trends and may assist us in creating clearer projections of building lifecycles.\n",
    "\n",
    "The three visualization strategies below appeared to be the most appropriate for the dataset to investigate \"What is the lapse in time from complaint to resolved?\" the question.  Each visualization organized and compared the data in a manner that gave more insight into the location of the complaint concentrations, the reason for the complaints, and categorical causes of the complaint.  Although the bubble visualizations did not show a steady growth in complaints as the age of the buildings progressed it did reveal that the number of complaints did not decrease over time either, indicating that the landlords are not being held accountable for repairs of the deficiencies.  "
   ]
  },
  {
   "cell_type": "code",
   "execution_count": 7,
   "metadata": {
    "cell_id": "00040-a4d662e9-e42d-4e0e-a3a9-79eaccc74e22",
    "deepnote_cell_type": "code",
    "deepnote_to_be_reexecuted": true,
    "execution_millis": 9,
    "source_hash": "5e0ae218",
    "tags": []
   },
   "outputs": [],
   "source": [
    "#approx_percentile(merged_df['closeTime'], .5)\n",
    "\n",
    "#from pyspark.sql import Window\n",
    "#import pyspark.sql.functions as F\n",
    "\n",
    "#grp_window = Window.partitionBy('closeTime')\n",
    "#magic_percentile = F.expr('percentile_approx(val, 0.5)')\n",
    "\n",
    "#df.withColumn('med_val', magic_percentile.over(grp_window))\n",
    "\n"
   ]
  },
  {
   "cell_type": "code",
   "execution_count": null,
   "metadata": {},
   "outputs": [],
   "source": []
  },
  {
   "cell_type": "code",
   "execution_count": null,
   "metadata": {
    "cell_id": "00025-2b998b75-e4ac-45ed-8f90-22c3ff06bf3c",
    "deepnote_cell_type": "code",
    "deepnote_to_be_reexecuted": true,
    "source_hash": "683ef253",
    "tags": []
   },
   "outputs": [],
   "source": [
    "# Our first attempt at OneHotEncoding\n",
    "\n",
    "\n",
    "\n",
    "#df = merged_df\n",
    "\n",
    "# for each level, count freq. val=0 for most freq, then 1, ...\n",
    "#stringIndexer = StringIndexer(inputCol=\"MajorCategory\", outputCol=\"MajorCategoryIndex\")\n",
    "#model = stringIndexer.fit(df)\n",
    "#indexed = model.transform(df)\n",
    "#indexed.show()\n",
    "\n",
    "#encoder = OneHotEncoder(inputCol=\"MajorCategoryIndex\", outputCol=\"MajorCategoryVec\")\n",
    "#model = encoder.fit(indexed)\n",
    "#encoded = model.transform(indexed)\n",
    "#encoded.show()"
   ]
  },
  {
   "cell_type": "markdown",
   "metadata": {
    "created_in_deepnote_cell": true,
    "deepnote_cell_type": "markdown",
    "tags": []
   },
   "source": [
    "<a style='text-decoration:none;line-height:16px;display:flex;color:#5B5B62;padding:10px;justify-content:end;' href='https://deepnote.com?utm_source=created-in-deepnote-cell&projectId=bb533ae5-e690-403a-aa33-39656e712e82' target=\"_blank\">\n",
    "<img style='display:inline;max-height:16px;margin:0px;margin-right:7.5px;' src='data:image/svg+xml;base64,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' > </img>\n",
    "Created in <span style='font-weight:600;margin-left:4px;'>Deepnote</span></a>"
   ]
  }
 ],
 "metadata": {
  "deepnote": {},
  "deepnote_execution_queue": [],
  "deepnote_notebook_id": "bc56b93d-c01d-4fbc-8365-942d0dd0ee25",
  "kernelspec": {
   "display_name": "Python 3",
   "language": "python",
   "name": "python3"
  },
  "language_info": {
   "codemirror_mode": {
    "name": "ipython",
    "version": 3
   },
   "file_extension": ".py",
   "mimetype": "text/x-python",
   "name": "python",
   "nbconvert_exporter": "python",
   "pygments_lexer": "ipython3",
   "version": "3.7.7"
  }
 },
 "nbformat": 4,
 "nbformat_minor": 2
}
