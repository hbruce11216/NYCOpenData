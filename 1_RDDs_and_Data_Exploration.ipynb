{
 "cells": [
  {
   "cell_type": "markdown",
   "metadata": {},
   "source": [
    "# Working with RDDs and exploring the data"
   ]
  },
  {
   "cell_type": "code",
   "execution_count": 38,
   "metadata": {},
   "outputs": [
    {
     "data": {
      "text/html": [
       "<style>.container { width:100% !important; }</style>"
      ],
      "text/plain": [
       "<IPython.core.display.HTML object>"
      ]
     },
     "metadata": {},
     "output_type": "display_data"
    }
   ],
   "source": [
    "# Change width of Jupyter notebook\n",
    "from IPython.core.display import display, HTML\n",
    "display(HTML(\"<style>.container { width:100% !important; }</style>\"))"
   ]
  },
  {
   "cell_type": "code",
   "execution_count": 40,
   "metadata": {},
   "outputs": [],
   "source": [
    "from pyspark.sql import SparkSession\n",
    "\n",
    "spark = SparkSession \\\n",
    "    .builder \\\n",
    "    .master(\"local\") \\\n",
    "    .appName(\"review_and_category_analytics\") \\\n",
    "    .config(\"spark.executor.memory\", '8g') \\\n",
    "    .config('spark.executor.cores', '4') \\\n",
    "    .config('spark.cores.max', '4') \\\n",
    "    .config(\"spark.driver.memory\",'8g') \\\n",
    "    .getOrCreate()\n",
    "\n",
    "sc = spark.sparkContext"
   ]
  },
  {
   "cell_type": "markdown",
   "metadata": {},
   "source": [
    "# Read in Dataset"
   ]
  },
  {
   "cell_type": "code",
   "execution_count": 41,
   "metadata": {},
   "outputs": [],
   "source": [
    "lines = sc.textFile(\"NYC_Merged_Complaints_Data.csv\")"
   ]
  },
  {
   "cell_type": "markdown",
   "metadata": {},
   "source": [
    "# Display the first 5 rows to see what the beginning of the RDD looks like\n"
   ]
  },
  {
   "cell_type": "code",
   "execution_count": 42,
   "metadata": {},
   "outputs": [
    {
     "data": {
      "text/plain": [
       "[',ComplaintID,ProblemID,UnitTypeID,UnitType,SpaceTypeID ,SpaceType,TypeID,Type,MajorCategoryID,MajorCategory,MinorCategoryID,MinorCategory,CodeID,Code,StatusID,Status,StatusDate,StatusDescription,BuildingID,BoroughID,Borough,HouseNumber,StreetName,Zip,Block,Lot,Apartment,CommunityBoard,ReceivedDate',\n",
       " '0,2397487,3768602,20,APARTMENT,68,ENTIRE APARTMENT,2,HAZARDOUS,13,NONCONST,106,VERMIN,886,ROACHES,2,CLOSE,08/12/2004,\"The Department of Housing Preservation and Development was not able to gain access to inspect the following conditions. The complaint has been closed. If the condition still exists, please file a new complaint.\",580051,4,QUEENS,88-47,179 PLACE,11432,9915,11,2FL,12,06/20/2004',\n",
       " '1,2397487,3768603,20,APARTMENT,159,OTHER,2,HAZARDOUS,13,NONCONST,106,VERMIN,884,MICE,2,CLOSE,08/12/2004,\"The Department of Housing Preservation and Development was not able to gain access to inspect the following conditions. The complaint has been closed. If the condition still exists, please file a new complaint.\",580051,4,QUEENS,88-47,179 PLACE,11432,9915,11,2FL,12,06/20/2004',\n",
       " '2,2397487,3768604,29,BUILDING,148,ENTIRE BUILDING,2,HAZARDOUS,28,PAINT/PLASTER,198,WALL,1400,PAINT DIRTY AND UNSANITARY,2,CLOSE,08/12/2004,\"The Department of Housing Preservation and Development was not able to gain access to inspect the following conditions. The complaint has been closed. If the condition still exists, please file a new complaint.\",580051,4,QUEENS,88-47,179 PLACE,11432,9915,11,2FL,12,06/20/2004',\n",
       " '3,2397487,3768605,24,PUBLIC PARTS,83,OTHER,1,EMERGENCY,13,NONCONST,101,RUBBISH,1309,OTHER,2,CLOSE,08/12/2004,\"The Department of Housing Preservation and Development was not able to gain access to inspect the following conditions. The complaint has been closed. If the condition still exists, please file a new complaint.\",580051,4,QUEENS,88-47,179 PLACE,11432,9915,11,2FL,12,06/20/2004']"
      ]
     },
     "execution_count": 42,
     "metadata": {},
     "output_type": "execute_result"
    }
   ],
   "source": [
    "lines.take(5)"
   ]
  },
  {
   "cell_type": "markdown",
   "metadata": {},
   "source": [
    "# Get non-header records"
   ]
  },
  {
   "cell_type": "code",
   "execution_count": 44,
   "metadata": {},
   "outputs": [],
   "source": [
    "# the first row is 'index,review_emp_txt,categories', which are our 3 headers\n",
    "\n",
    "# in order to get the non-header records, I could save down that first line as \n",
    "# the headers and then filter the RDD for rows that do not contain 'index,review_emp_txt,categories'\n",
    "\n",
    "header = lines.first()\n",
    "#header\n",
    "#split_categories = non_header.flatMap(lambda line: line.split(\"\\'\"))\n",
    "\n",
    "# now save the non-header rows down \n",
    "non_header = lines.filter(lambda line: header not in line)"
   ]
  },
  {
   "cell_type": "markdown",
   "metadata": {},
   "source": [
    "# print the first 2 records (note: exclude the header in all calculations)"
   ]
  },
  {
   "cell_type": "code",
   "execution_count": 45,
   "metadata": {},
   "outputs": [
    {
     "data": {
      "text/plain": [
       "['0,2397487,3768602,20,APARTMENT,68,ENTIRE APARTMENT,2,HAZARDOUS,13,NONCONST,106,VERMIN,886,ROACHES,2,CLOSE,08/12/2004,\"The Department of Housing Preservation and Development was not able to gain access to inspect the following conditions. The complaint has been closed. If the condition still exists, please file a new complaint.\",580051,4,QUEENS,88-47,179 PLACE,11432,9915,11,2FL,12,06/20/2004',\n",
       " '1,2397487,3768603,20,APARTMENT,159,OTHER,2,HAZARDOUS,13,NONCONST,106,VERMIN,884,MICE,2,CLOSE,08/12/2004,\"The Department of Housing Preservation and Development was not able to gain access to inspect the following conditions. The complaint has been closed. If the condition still exists, please file a new complaint.\",580051,4,QUEENS,88-47,179 PLACE,11432,9915,11,2FL,12,06/20/2004']"
      ]
     },
     "execution_count": 45,
     "metadata": {},
     "output_type": "execute_result"
    }
   ],
   "source": [
    "non_header.take(2)"
   ]
  },
  {
   "cell_type": "markdown",
   "metadata": {},
   "source": [
    "# get a record count"
   ]
  },
  {
   "cell_type": "code",
   "execution_count": 46,
   "metadata": {},
   "outputs": [
    {
     "data": {
      "text/plain": [
       "2834416"
      ]
     },
     "execution_count": 46,
     "metadata": {},
     "output_type": "execute_result"
    }
   ],
   "source": [
    "non_header.count()"
   ]
  },
  {
   "cell_type": "markdown",
   "metadata": {},
   "source": [
    "# Return the count of records containing the phrase 'HEAT/HOT WATER'"
   ]
  },
  {
   "cell_type": "code",
   "execution_count": 47,
   "metadata": {},
   "outputs": [
    {
     "data": {
      "text/plain": [
       "954975"
      ]
     },
     "execution_count": 47,
     "metadata": {},
     "output_type": "execute_result"
    }
   ],
   "source": [
    "# I am going to use the .contains() method with an input of the word \"awesome\" to search\n",
    "# whether the \"review_emp_txt\" column of reviews has any reviews that contain the word\n",
    "\n",
    "data_heathotwater = non_header.filter(lambda line: 'HEAT/HOT WATER' in line)\n",
    "#data_awesome.take(3)\n",
    "data_heathotwater.count()\n",
    "\n",
    "# there are 3 reviews that contain the word \"awesome\" "
   ]
  },
  {
   "cell_type": "markdown",
   "metadata": {},
   "source": [
    "# Print the records contains the phrase 'HEAT/HOT WATER'"
   ]
  },
  {
   "cell_type": "code",
   "execution_count": 50,
   "metadata": {},
   "outputs": [
    {
     "data": {
      "text/plain": [
       "['134,6981408,14581340,92,BUILDING-W,550,BUILDING-WIDE,1,EMERGENCY,59,HEAT/HOT WATER,349,ENTIRE BUILDING,2717,NO HOT WATER,2,CLOSE,08/06/2014,\"More than one complaint was received for this building-wide condition.This complaint status is for the initial complaint. The Department of Housing Preservation and Development contacted a tenant in the building and verified that the following conditions were corrected. The complaint has been closed. If the condition still exists, please file a new complaint.\",27733,1,MANHATTAN,22,SPRING STREET,10012,479,17,BLDG,2,07/31/2014',\n",
       " '149,6982351,14584111,92,BUILDING-W,550,BUILDING-WIDE,1,EMERGENCY,59,HEAT/HOT WATER,349,ENTIRE BUILDING,2717,NO HOT WATER,2,CLOSE,08/04/2014,\"More than one complaint was received for this building-wide condition.This complaint status is for the initial complaint. The Department of Housing Preservation and Development contacted an occupant of the apartment and verified that the following conditions were corrected. The complaint has been closed. If the condition still exists, please file a new complaint.\",97605,2,BRONX,2693,MORRIS AVENUE,10468,3317,51,4C,7,08/02/2014',\n",
       " '166,6983906,14588566,92,BUILDING-W,550,BUILDING-WIDE,1,EMERGENCY,59,HEAT/HOT WATER,349,ENTIRE BUILDING,2717,NO HOT WATER,2,CLOSE,08/08/2014,\"More than one complaint was received for this building-wide condition.This complaint status is for the initial complaint. The Department of Housing Preservation and Development contacted a tenant in the building and verified that the following conditions were corrected. The complaint has been closed. If the condition still exists, please file a new complaint.\",36448,1,MANHATTAN,166,WEST 87 STREET,10024,1217,57,BLDG,7,08/05/2014',\n",
       " '170,6984463,14590249,92,BUILDING-W,550,BUILDING-WIDE,1,EMERGENCY,59,HEAT/HOT WATER,349,ENTIRE BUILDING,2717,NO HOT WATER,2,CLOSE,08/10/2014,\"The Department of Housing Preservation and Development was not able to gain access to your apartment or others in the building to inspect for a lack of heat or hot water. The complaint has been closed. If the condition still exists, please file a new complaint.\",21802,1,MANHATTAN,353,FT WASHINGTON AVENUE,10033,2139,584,BLDG,12,08/05/2014']"
      ]
     },
     "execution_count": 50,
     "metadata": {},
     "output_type": "execute_result"
    }
   ],
   "source": [
    "# data_heathotwater.collect()\n",
    "\n",
    "# ^ that would be way too much, so i'm just going to print the first 4\n",
    "\n",
    "data_heathotwater.take(4)"
   ]
  },
  {
   "cell_type": "markdown",
   "metadata": {},
   "source": [
    "# Return the top 10 most frequent categories"
   ]
  },
  {
   "cell_type": "code",
   "execution_count": 64,
   "metadata": {},
   "outputs": [
    {
     "data": {
      "text/plain": [
       "['NONCONST',\n",
       " 'NONCONST',\n",
       " 'PAINT/PLASTER',\n",
       " 'NONCONST',\n",
       " 'PLUMBING',\n",
       " 'PAINT/PLASTER',\n",
       " 'HEATING',\n",
       " 'PAINT/PLASTER',\n",
       " 'GENERAL',\n",
       " 'PAINT/PLASTER']"
      ]
     },
     "execution_count": 64,
     "metadata": {},
     "output_type": "execute_result"
    }
   ],
   "source": [
    "# by using map and split on ',', we can take the 10th index after the split (which contains the MajorCategory)\n",
    "# and then use that to return to a new variable containing the categories for each row\n",
    "categories = non_header.map(lambda line: line.split(',')[10])\n",
    "\n",
    "categories.take(10)"
   ]
  },
  {
   "cell_type": "code",
   "execution_count": 65,
   "metadata": {},
   "outputs": [
    {
     "data": {
      "text/plain": [
       "[('ELECTRIC', 132104),\n",
       " ('ELEVATOR', 6038),\n",
       " ('APPLIANCE', 71518),\n",
       " ('CONSTRUCTION', 10),\n",
       " ('HEATING', 2552),\n",
       " ('NONCONST', 293),\n",
       " ('SAFETY', 71051),\n",
       " ('UNSANITARY CONDITION', 404932),\n",
       " ('GENERAL', 127369),\n",
       " ('PLUMBING', 264352)]"
      ]
     },
     "execution_count": 65,
     "metadata": {},
     "output_type": "execute_result"
    }
   ],
   "source": [
    "# taken right from the textbook (Learning Spark Lightning Fast, page 52)\n",
    "count = categories.map(lambda x: (x, 1)).reduceByKey(lambda x, y: x + y)\n",
    "\n",
    "count.take(10)\n",
    "\n",
    "# currently unordered"
   ]
  },
  {
   "cell_type": "code",
   "execution_count": 66,
   "metadata": {},
   "outputs": [
    {
     "data": {
      "text/plain": [
       "[(954975, 'HEAT/HOT WATER'),\n",
       " (404932, 'UNSANITARY CONDITION'),\n",
       " (303129, 'PAINT/PLASTER'),\n",
       " (264352, 'PLUMBING'),\n",
       " (197229, 'DOOR/WINDOW'),\n",
       " (161869, 'WATER LEAK'),\n",
       " (132104, 'ELECTRIC'),\n",
       " (128794, 'FLOORING/STAIRS'),\n",
       " (127369, 'GENERAL'),\n",
       " (71518, 'APPLIANCE')]"
      ]
     },
     "execution_count": 66,
     "metadata": {},
     "output_type": "execute_result"
    }
   ],
   "source": [
    "# we need to sort by value, so i'm going to invert the key and value pair\n",
    "count = count.map(lambda x: (x[1],x[0]))\n",
    "\n",
    "#count.take(5)\n",
    "count.sortByKey(False).take(10)\n",
    "# sortByKey() function has an 'ascending' set to true, so I'm setting it to False\n",
    "# so the largest is set first"
   ]
  },
  {
   "cell_type": "markdown",
   "metadata": {},
   "source": [
    "# Top 10 Categories \n",
    "\n",
    "[(954975, 'HEAT/HOT WATER'), <br>\n",
    " (404932, 'UNSANITARY CONDITION'),<br>\n",
    " (303129, 'PAINT/PLASTER'),<br>\n",
    " (264352, 'PLUMBING'),<br>\n",
    " (197229, 'DOOR/WINDOW'),<br>\n",
    " (161869, 'WATER LEAK'),<br>\n",
    " (132104, 'ELECTRIC'),<br>\n",
    " (128794, 'FLOORING/STAIRS'),<br>\n",
    " (127369, 'GENERAL'),<br>\n",
    " (71518, 'APPLIANCE')]<br>"
   ]
  },
  {
   "cell_type": "code",
   "execution_count": null,
   "metadata": {},
   "outputs": [],
   "source": []
  }
 ],
 "metadata": {
  "kernelspec": {
   "display_name": "DS 5559 Spark 3",
   "language": "python",
   "name": "ds5559_spark3"
  },
  "language_info": {
   "codemirror_mode": {
    "name": "ipython",
    "version": 3
   },
   "file_extension": ".py",
   "mimetype": "text/x-python",
   "name": "python",
   "nbconvert_exporter": "python",
   "pygments_lexer": "ipython3",
   "version": "3.8.5"
  }
 },
 "nbformat": 4,
 "nbformat_minor": 4
}
