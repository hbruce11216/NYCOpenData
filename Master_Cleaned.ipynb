{
 "cells": [
  {
   "cell_type": "markdown",
   "source": "## Data import and preprocessing",
   "metadata": {
    "tags": [],
    "cell_id": "00000-5f9fcb20-24cf-46ed-b51b-bc327c3a9cb2",
    "deepnote_cell_type": "markdown"
   }
  },
  {
   "cell_type": "markdown",
   "source": "#### Setup",
   "metadata": {
    "tags": [],
    "cell_id": "00001-bf3b73af-0393-411b-a3b3-44f700c5187e",
    "deepnote_cell_type": "markdown"
   }
  },
  {
   "cell_type": "code",
   "metadata": {
    "deepnote_to_be_reexecuted": false,
    "execution_millis": 1215,
    "execution_start": 1620229947393,
    "source_hash": "45a785b1",
    "tags": [],
    "cell_id": "00002-41142a97-1abc-458b-8c8b-0c31d7d93988",
    "deepnote_cell_type": "code"
   },
   "source": "# Change width of Jupyter notebook\nfrom IPython.core.display import display, HTML\nfrom pyspark.sql import SparkSession\nimport pyspark\nfrom pyspark import SparkContext, SparkConf\nfrom pyspark.mllib.regression import LabeledPoint\nfrom pyspark.mllib.feature import HashingTF\nfrom pyspark.mllib.classification import LogisticRegressionWithSGD\nfrom pyspark.sql import SparkSession\nfrom pyspark.sql.functions import *\nfrom pyspark.sql.types import *\nfrom pyspark.ml.feature import *\nfrom pyspark.ml.clustering import *\nfrom pyspark.ml.evaluation import *\nfrom pyspark.ml.regression import *\nfrom pyspark.ml import Pipeline\nimport pandas as pd\nimport datetime as dt\nimport matplotlib.pyplot as plt\n\ndisplay(HTML(\"<style>.container { width:100% !important; }</style>\"))",
   "execution_count": null,
   "outputs": [
    {
     "data": {
      "text/plain": "<IPython.core.display.HTML object>",
      "text/html": "<style>.container { width:100% !important; }</style>"
     },
     "metadata": {},
     "output_type": "display_data"
    }
   ]
  },
  {
   "cell_type": "code",
   "metadata": {
    "deepnote_to_be_reexecuted": false,
    "execution_millis": 5913,
    "execution_start": 1620229948602,
    "source_hash": "16ba6ed2",
    "tags": [],
    "cell_id": "00003-6f61ee9c-6caa-4458-b833-7b9262d51351",
    "deepnote_cell_type": "code"
   },
   "source": "spark = (SparkSession.builder \\\n    .master('local') \\\n    .appName('nycHousing') \\\n    .config('spark.executor.memory', '28g') \\\n    .config('spark.driver.memory','4g')\\\n    .config(\"spark.cores.max\", \"6\") \\\n    .getOrCreate())\nspark.conf.set('spark.sql.execution.arrow.pyspark.enabled', 'true')  # enable PyArrow",
   "execution_count": null,
   "outputs": []
  },
  {
   "cell_type": "markdown",
   "source": "#### Merging Complaints and Problems files",
   "metadata": {
    "tags": [],
    "cell_id": "00004-4e895d63-7ac7-4c9d-b604-3bde0fca48aa",
    "deepnote_cell_type": "markdown"
   }
  },
  {
   "cell_type": "code",
   "metadata": {
    "deepnote_to_be_reexecuted": false,
    "execution_millis": 40811,
    "execution_start": 1620229954519,
    "source_hash": "1dff7dcc",
    "tags": [],
    "cell_id": "00005-c9219ed8-175a-4bc0-b9b0-31683143f9f9",
    "deepnote_cell_type": "code"
   },
   "source": "# read complaints\ncp_df=spark.read.csv(\"0_Complaint_Problems_May2021.csv\",inferSchema=True, header=True)\n\n# housing maintenance \nhmcc_df=spark.read.csv(\"1_Housing_Maintenance_Code_Complaints_May2021.csv\",inferSchema=True, header=True)\nhmcc_df = hmcc_df.drop(\"status\", \"statusdate\", \"statusid\")\n\n# merge cp_df and hmcc_df together on ComplaintID column\nmerged_df = cp_df.join(hmcc_df, on=[\"ComplaintID\"])\n\n# population data - read in population data by zipcode for NY\npopulation = spark.read.csv(\"2_NY_State_Population_by_Zip.csv\",inferSchema=True, header=True)\npopulation = population.withColumnRenamed(\"Zip Code\",\"Zip\")\n\n# merge housing data with zipcode-level population data\n# https://luminousmen.com/post/introduction-to-pyspark-join-types \nmerged_df = merged_df.join(population, on='Zip', how='inner')\n\n# income data - read in income data by zipcode for NY\nincome = spark.read.csv(\"3_NY_State_Income_by_Zip.csv\",inferSchema=True, header=True)\n\n# rename \"Zip Code\" to \"Zip\" to maintain consistency across datasets\n# https://sparkbyexamples.com/pyspark/pyspark-rename-dataframe-column/\nincome = income.withColumnRenamed(\"Zip Code\",\"Zip\")\n\n# merge and rename\n# https://sparkbyexamples.com/pyspark/pyspark-cast-column-type/\n# https://sparkbyexamples.com/pyspark/pyspark-rename-dataframe-column/\nmerged_df = merged_df.withColumn(\"Zip\", merged_df.Zip.cast(StringType()))\n\n# merge with income - merg ehousing/income dataset with income dataset, refer to this new dataset as merged_df\n# https://luminousmen.com/post/introduction-to-pyspark-join-types \nmerged_df = merged_df.join(income, on='Zip', how='inner')\n\n# UHF codes - consolidate the zipcodes using UHF codes\nuhf = spark.read.csv(\"4_uhfzipcodetable.csv\",inferSchema=True, header=True)\nuhf = uhf.withColumnRenamed(\"Zip Code\",\"Zip\")\nuhf = uhf.drop(\"Borough\")\n\n# join merged_df with uhf codes on Zip\nmerged_df = merged_df.join(uhf, on='Zip', how='inner')",
   "execution_count": null,
   "outputs": []
  },
  {
   "cell_type": "code",
   "metadata": {
    "deepnote_to_be_reexecuted": false,
    "execution_millis": 45746,
    "execution_start": 1620229995340,
    "source_hash": "4a8efa0",
    "cell_id": "00006-3ead7c0d-dd5b-4f64-ae3b-376a14ef3c75",
    "deepnote_cell_type": "code"
   },
   "source": "merged_df.show(1)",
   "execution_count": null,
   "outputs": [
    {
     "name": "stdout",
     "text": "+-----+-----------+---------+----------+---------+------------+----------------+------+---------+---------------+-------------+---------------+-------------+------+-------+--------+------+----------+--------------------+----------+---------+-------+-----------+----------+-----+---+---------+--------------+------------+----------+--------------+--------+----------------------+-------------------------+--------+-----------------+\n|  Zip|ComplaintID|ProblemID|UnitTypeID| UnitType|SpaceTypeID |       SpaceType|TypeID|     Type|MajorCategoryID|MajorCategory|MinorCategoryID|MinorCategory|CodeID|   Code|StatusID|Status|StatusDate|   StatusDescription|BuildingID|BoroughID|Borough|HouseNumber|StreetName|Block|Lot|Apartment|CommunityBoard|ReceivedDate|Population|All Households|Families|Families with Children|Families without Children|UHF code|Neighborhood name|\n+-----+-----------+---------+----------+---------+------------+----------------+------+---------+---------------+-------------+---------------+-------------+------+-------+--------+------+----------+--------------------+----------+---------+-------+-----------+----------+-----+---+---------+--------------+------------+----------+--------------+--------+----------------------+-------------------------+--------+-----------------+\n|11432|    2397487|  3768602|        20|APARTMENT|          68|ENTIRE APARTMENT|     2|HAZARDOUS|             13|     NONCONST|            106|       VERMIN|   886|ROACHES|       2| CLOSE|08/12/2004|The Department of...|    580051|        4| QUEENS|      88-47| 179 PLACE| 9915| 11|      2FL|            12|  06/20/2004|    62,053|       62148.0| 67198.0|               55290.0|                  79468.0|     408|          Jamaica|\n+-----+-----------+---------+----------+---------+------------+----------------+------+---------+---------------+-------------+---------------+-------------+------+-------+--------+------+----------+--------------------+----------+---------+-------+-----------+----------+-----+---+---------+--------------+------------+----------+--------------+--------+----------------------+-------------------------+--------+-----------------+\nonly showing top 1 row\n\n",
     "output_type": "stream"
    }
   ]
  },
  {
   "cell_type": "markdown",
   "source": "#### Preprocessing: clean columns",
   "metadata": {
    "tags": [],
    "cell_id": "00007-a325be18-0022-4699-9268-8e37b6701af3",
    "deepnote_cell_type": "markdown"
   }
  },
  {
   "cell_type": "code",
   "metadata": {
    "deepnote_to_be_reexecuted": false,
    "execution_millis": 45166,
    "execution_start": 1620230041079,
    "source_hash": "e6d656ba",
    "tags": [],
    "cell_id": "00008-21186fb0-49f5-42a6-ab01-f80d15a71485",
    "deepnote_cell_type": "code"
   },
   "source": "# rename columns\nmerged_df = merged_df.withColumnRenamed(\"All Households\",\"All Households Income\")\nmerged_df = merged_df.withColumnRenamed(\"Families\",\"Families Income\")\nmerged_df = merged_df.withColumnRenamed(\"Families with Children\",\"Families with Children Income\")\nmerged_df = merged_df.withColumnRenamed(\"Families without Children\",\"Families without Children Income\")\n\n# fix population to integer\nmerged_df = merged_df.withColumn('Population', regexp_replace('Population', ',', ''))\nmerged_df = merged_df.withColumn('Population', merged_df['Population'].cast(\"integer\"))\n\nmerged_df.show(1)",
   "execution_count": null,
   "outputs": [
    {
     "name": "stdout",
     "text": "+-----+-----------+---------+----------+---------+------------+----------------+------+---------+---------------+-------------+---------------+-------------+------+-------+--------+------+----------+--------------------+----------+---------+-------+-----------+----------+-----+---+---------+--------------+------------+----------+---------------------+---------------+-----------------------------+--------------------------------+--------+-----------------+\n|  Zip|ComplaintID|ProblemID|UnitTypeID| UnitType|SpaceTypeID |       SpaceType|TypeID|     Type|MajorCategoryID|MajorCategory|MinorCategoryID|MinorCategory|CodeID|   Code|StatusID|Status|StatusDate|   StatusDescription|BuildingID|BoroughID|Borough|HouseNumber|StreetName|Block|Lot|Apartment|CommunityBoard|ReceivedDate|Population|All Households Income|Families Income|Families with Children Income|Families without Children Income|UHF code|Neighborhood name|\n+-----+-----------+---------+----------+---------+------------+----------------+------+---------+---------------+-------------+---------------+-------------+------+-------+--------+------+----------+--------------------+----------+---------+-------+-----------+----------+-----+---+---------+--------------+------------+----------+---------------------+---------------+-----------------------------+--------------------------------+--------+-----------------+\n|11432|    2397487|  3768602|        20|APARTMENT|          68|ENTIRE APARTMENT|     2|HAZARDOUS|             13|     NONCONST|            106|       VERMIN|   886|ROACHES|       2| CLOSE|08/12/2004|The Department of...|    580051|        4| QUEENS|      88-47| 179 PLACE| 9915| 11|      2FL|            12|  06/20/2004|     62053|              62148.0|        67198.0|                      55290.0|                         79468.0|     408|          Jamaica|\n+-----+-----------+---------+----------+---------+------------+----------------+------+---------+---------------+-------------+---------------+-------------+------+-------+--------+------+----------+--------------------+----------+---------+-------+-----------+----------+-----+---+---------+--------------+------------+----------+---------------------+---------------+-----------------------------+--------------------------------+--------+-----------------+\nonly showing top 1 row\n\n",
     "output_type": "stream"
    }
   ]
  },
  {
   "cell_type": "markdown",
   "source": "#### Preprocessing: add close time",
   "metadata": {
    "tags": [],
    "cell_id": "00009-e89c6d00-9d1f-475f-8709-13ec616c7e4e",
    "deepnote_cell_type": "markdown"
   }
  },
  {
   "cell_type": "code",
   "metadata": {
    "deepnote_to_be_reexecuted": false,
    "execution_millis": 44124,
    "execution_start": 1620230086237,
    "source_hash": "58cba6b3",
    "tags": [],
    "cell_id": "00010-1e49a8a9-aab9-4092-9e91-5c2431828d0f",
    "deepnote_cell_type": "code"
   },
   "source": "# calc close time: convert dates to datetime format and calculate response variable - closing time\n# Reference: https://stackoverflow.com/questions/47701339/subtracting-two-date-columns-in-pyspark-python\n\n# preprocessing: convert dates to datetime format and calculate response variable - closing time\ntimeDiff = (unix_timestamp('StatusDate', 'MM/dd/yyyy') - unix_timestamp('ReceivedDate', 'MM/dd/yyyy')) / 86400 #seconds per day\ntimeDiff = timeDiff.cast(IntegerType())\n\n# add closing time (time for complaint to be resolved) to dataframe\nmerged_df = merged_df.withColumn(\"closeTime\", timeDiff)\n\nmerged_df.show(5)\n#Reference: https://stackoverflow.com/questions/47701339/subtracting-two-date-columns-in-pyspark-python",
   "execution_count": null,
   "outputs": [
    {
     "name": "stdout",
     "text": "+-----+-----------+---------+----------+------------+------------+----------------+------+---------+---------------+-------------+---------------+-------------+------+--------------------+--------+------+----------+--------------------+----------+---------+-------+-----------+----------+-----+---+---------+--------------+------------+----------+---------------------+---------------+-----------------------------+--------------------------------+--------+-----------------+---------+\n|  Zip|ComplaintID|ProblemID|UnitTypeID|    UnitType|SpaceTypeID |       SpaceType|TypeID|     Type|MajorCategoryID|MajorCategory|MinorCategoryID|MinorCategory|CodeID|                Code|StatusID|Status|StatusDate|   StatusDescription|BuildingID|BoroughID|Borough|HouseNumber|StreetName|Block|Lot|Apartment|CommunityBoard|ReceivedDate|Population|All Households Income|Families Income|Families with Children Income|Families without Children Income|UHF code|Neighborhood name|closeTime|\n+-----+-----------+---------+----------+------------+------------+----------------+------+---------+---------------+-------------+---------------+-------------+------+--------------------+--------+------+----------+--------------------+----------+---------+-------+-----------+----------+-----+---+---------+--------------+------------+----------+---------------------+---------------+-----------------------------+--------------------------------+--------+-----------------+---------+\n|11432|    2397487|  3768602|        20|   APARTMENT|          68|ENTIRE APARTMENT|     2|HAZARDOUS|             13|     NONCONST|            106|       VERMIN|   886|             ROACHES|       2| CLOSE|08/12/2004|The Department of...|    580051|        4| QUEENS|      88-47| 179 PLACE| 9915| 11|      2FL|            12|  06/20/2004|     62053|              62148.0|        67198.0|                      55290.0|                         79468.0|     408|          Jamaica|       53|\n|11432|    2397487|  3768603|        20|   APARTMENT|         159|           OTHER|     2|HAZARDOUS|             13|     NONCONST|            106|       VERMIN|   884|                MICE|       2| CLOSE|08/12/2004|The Department of...|    580051|        4| QUEENS|      88-47| 179 PLACE| 9915| 11|      2FL|            12|  06/20/2004|     62053|              62148.0|        67198.0|                      55290.0|                         79468.0|     408|          Jamaica|       53|\n|11432|    2397487|  3768604|        29|    BUILDING|         148| ENTIRE BUILDING|     2|HAZARDOUS|             28|PAINT/PLASTER|            198|         WALL|  1400|PAINT DIRTY AND U...|       2| CLOSE|08/12/2004|The Department of...|    580051|        4| QUEENS|      88-47| 179 PLACE| 9915| 11|      2FL|            12|  06/20/2004|     62053|              62148.0|        67198.0|                      55290.0|                         79468.0|     408|          Jamaica|       53|\n|11432|    2397487|  3768605|        24|PUBLIC PARTS|          83|           OTHER|     1|EMERGENCY|             13|     NONCONST|            101|      RUBBISH|  1309|               OTHER|       2| CLOSE|08/12/2004|The Department of...|    580051|        4| QUEENS|      88-47| 179 PLACE| 9915| 11|      2FL|            12|  06/20/2004|     62053|              62148.0|        67198.0|                      55290.0|                         79468.0|     408|          Jamaica|       53|\n|11432|    2397487|  3768606|        20|   APARTMENT|          62|        BATHROOM|     1|EMERGENCY|              9|     PLUMBING|             68| WATER SUPPLY|  1282|               OTHER|       2| CLOSE|08/12/2004|The Department of...|    580051|        4| QUEENS|      88-47| 179 PLACE| 9915| 11|      2FL|            12|  06/20/2004|     62053|              62148.0|        67198.0|                      55290.0|                         79468.0|     408|          Jamaica|       53|\n+-----+-----------+---------+----------+------------+------------+----------------+------+---------+---------------+-------------+---------------+-------------+------+--------------------+--------+------+----------+--------------------+----------+---------+-------+-----------+----------+-----+---+---------+--------------+------------+----------+---------------------+---------------+-----------------------------+--------------------------------+--------+-----------------+---------+\nonly showing top 5 rows\n\n",
     "output_type": "stream"
    }
   ]
  },
  {
   "cell_type": "markdown",
   "source": "#### Preprocessing: add received month/year",
   "metadata": {
    "tags": [],
    "cell_id": "00011-c982c876-29b6-4eab-9cd7-9d2ff7b0d267",
    "deepnote_cell_type": "markdown"
   }
  },
  {
   "cell_type": "code",
   "metadata": {
    "tags": [],
    "deepnote_to_be_reexecuted": false,
    "source_hash": "f71042d7",
    "execution_start": 1620230130354,
    "execution_millis": 45482,
    "cell_id": "00012-45de6d07-d48a-4f77-9e18-d5d944007adb",
    "deepnote_cell_type": "code"
   },
   "source": "yfunc = udf(lambda x: (dt.datetime.strptime(x, '%m/%d/%Y')).year, StringType())\nmfunc = udf(lambda x: (dt.datetime.strptime(x, '%m/%d/%Y')).month, StringType())\nmerged_df = merged_df.withColumn('ReceivedYear', yfunc('ReceivedDate'))\nmerged_df = merged_df.withColumn('ReceivedMonth', mfunc('ReceivedDate'))\nmerged_df.show(5)",
   "execution_count": null,
   "outputs": [
    {
     "name": "stdout",
     "text": "+-----+-----------+---------+----------+------------+------------+----------------+------+---------+---------------+-------------+---------------+-------------+------+--------------------+--------+------+----------+--------------------+----------+---------+-------+-----------+----------+-----+---+---------+--------------+------------+----------+---------------------+---------------+-----------------------------+--------------------------------+--------+-----------------+---------+------------+-------------+\n|  Zip|ComplaintID|ProblemID|UnitTypeID|    UnitType|SpaceTypeID |       SpaceType|TypeID|     Type|MajorCategoryID|MajorCategory|MinorCategoryID|MinorCategory|CodeID|                Code|StatusID|Status|StatusDate|   StatusDescription|BuildingID|BoroughID|Borough|HouseNumber|StreetName|Block|Lot|Apartment|CommunityBoard|ReceivedDate|Population|All Households Income|Families Income|Families with Children Income|Families without Children Income|UHF code|Neighborhood name|closeTime|ReceivedYear|ReceivedMonth|\n+-----+-----------+---------+----------+------------+------------+----------------+------+---------+---------------+-------------+---------------+-------------+------+--------------------+--------+------+----------+--------------------+----------+---------+-------+-----------+----------+-----+---+---------+--------------+------------+----------+---------------------+---------------+-----------------------------+--------------------------------+--------+-----------------+---------+------------+-------------+\n|11432|    2397487|  3768602|        20|   APARTMENT|          68|ENTIRE APARTMENT|     2|HAZARDOUS|             13|     NONCONST|            106|       VERMIN|   886|             ROACHES|       2| CLOSE|08/12/2004|The Department of...|    580051|        4| QUEENS|      88-47| 179 PLACE| 9915| 11|      2FL|            12|  06/20/2004|     62053|              62148.0|        67198.0|                      55290.0|                         79468.0|     408|          Jamaica|       53|        2004|            6|\n|11432|    2397487|  3768603|        20|   APARTMENT|         159|           OTHER|     2|HAZARDOUS|             13|     NONCONST|            106|       VERMIN|   884|                MICE|       2| CLOSE|08/12/2004|The Department of...|    580051|        4| QUEENS|      88-47| 179 PLACE| 9915| 11|      2FL|            12|  06/20/2004|     62053|              62148.0|        67198.0|                      55290.0|                         79468.0|     408|          Jamaica|       53|        2004|            6|\n|11432|    2397487|  3768604|        29|    BUILDING|         148| ENTIRE BUILDING|     2|HAZARDOUS|             28|PAINT/PLASTER|            198|         WALL|  1400|PAINT DIRTY AND U...|       2| CLOSE|08/12/2004|The Department of...|    580051|        4| QUEENS|      88-47| 179 PLACE| 9915| 11|      2FL|            12|  06/20/2004|     62053|              62148.0|        67198.0|                      55290.0|                         79468.0|     408|          Jamaica|       53|        2004|            6|\n|11432|    2397487|  3768605|        24|PUBLIC PARTS|          83|           OTHER|     1|EMERGENCY|             13|     NONCONST|            101|      RUBBISH|  1309|               OTHER|       2| CLOSE|08/12/2004|The Department of...|    580051|        4| QUEENS|      88-47| 179 PLACE| 9915| 11|      2FL|            12|  06/20/2004|     62053|              62148.0|        67198.0|                      55290.0|                         79468.0|     408|          Jamaica|       53|        2004|            6|\n|11432|    2397487|  3768606|        20|   APARTMENT|          62|        BATHROOM|     1|EMERGENCY|              9|     PLUMBING|             68| WATER SUPPLY|  1282|               OTHER|       2| CLOSE|08/12/2004|The Department of...|    580051|        4| QUEENS|      88-47| 179 PLACE| 9915| 11|      2FL|            12|  06/20/2004|     62053|              62148.0|        67198.0|                      55290.0|                         79468.0|     408|          Jamaica|       53|        2004|            6|\n+-----+-----------+---------+----------+------------+------------+----------------+------+---------+---------------+-------------+---------------+-------------+------+--------------------+--------+------+----------+--------------------+----------+---------+-------+-----------+----------+-----+---+---------+--------------+------------+----------+---------------------+---------------+-----------------------------+--------------------------------+--------+-----------------+---------+------------+-------------+\nonly showing top 5 rows\n\n",
     "output_type": "stream"
    }
   ]
  },
  {
   "cell_type": "markdown",
   "source": "We see that there are some errant values in our response variable - namely the min response time which is negative. We will have to do some investigative work to see what is causing these errant results, as a problem clearly cannot be addressed *before* the initial complaint is even filed. ",
   "metadata": {
    "tags": [],
    "cell_id": "00013-65d4955b-2840-4041-8bd5-125796b5dccb",
    "deepnote_cell_type": "markdown"
   }
  },
  {
   "cell_type": "code",
   "metadata": {
    "deepnote_to_be_reexecuted": false,
    "execution_millis": 40556,
    "execution_start": 1620230175826,
    "source_hash": "e702b1c5",
    "tags": [],
    "cell_id": "00014-8cf3b412-a0c2-4014-bda5-3a5d4626b68c",
    "deepnote_cell_type": "code"
   },
   "source": "# Statistical summary of response variable\nmerged_df.select([\"closeTime\"]).describe().show()#.toPandas().transpose",
   "execution_count": null,
   "outputs": [
    {
     "name": "stdout",
     "text": "+-------+------------------+\n|summary|         closeTime|\n+-------+------------------+\n|  count|           4178084|\n|   mean|14.006825856062253|\n| stddev|38.125920945513165|\n|    min|              -995|\n|    max|              6531|\n+-------+------------------+\n\n",
     "output_type": "stream"
    }
   ]
  },
  {
   "cell_type": "code",
   "metadata": {
    "tags": [],
    "deepnote_to_be_reexecuted": false,
    "source_hash": "5ce0005c",
    "execution_start": 1620230216382,
    "execution_millis": 217448,
    "cell_id": "00015-1b568a94-fcde-4828-8d95-16397e925d33",
    "deepnote_cell_type": "code"
   },
   "source": "# now write this to a csv\nmerged_df.write.csv('5_NYC_Merged_Data_May3.csv',mode='overwrite', header='true')",
   "execution_count": null,
   "outputs": []
  },
  {
   "cell_type": "markdown",
   "source": "#### Preprocessing: missing and errant data",
   "metadata": {
    "tags": [],
    "cell_id": "00016-d2d97d36-9f42-4689-92df-7be69e963f6e",
    "deepnote_cell_type": "markdown"
   }
  },
  {
   "cell_type": "markdown",
   "source": "Only a few columns have missing data: <br>\n- StatusDate_missing <br>\n- closeTime_missing <br>\n- Families with Children_missing\n\n*Idea #1: *  What this tells us is that we have some income data missing regarding Families with Children. One solution could be taking the average of the \"All Households\", \"Families\", and \"Families without Children\" columns. Alternatively, we could focus just on \"All Households\" data since complaints do not denote whether or not children live in the building/unit. \n\n*Idea #2: *  We also have some StatusDate information missing which is resulting in some closeTime data being missing (since closeTime is based on StatusDate. An empty cell for StatusDate means that the the case has yet to be closed. One solution to this could be replacing all missing values in StatusDate with the current date and then repeating that function everytime the dataframe is read in so that a complaint that is really open isn't saved with whatever the last date where the dataset was read in. However, since the percentages ae so small, it might be best to just drop these specific rows from the dataset.\n",
   "metadata": {
    "tags": [],
    "cell_id": "00017-ab44d5ee-f276-4d92-8a2e-552548be3444",
    "deepnote_cell_type": "markdown"
   }
  },
  {
   "cell_type": "code",
   "metadata": {
    "deepnote_to_be_reexecuted": false,
    "execution_millis": 156845,
    "execution_start": 1620230433874,
    "source_hash": "822a9f38",
    "tags": [],
    "cell_id": "00018-6c5fd153-0fdd-4b9e-958d-31eb00787517",
    "deepnote_cell_type": "code"
   },
   "source": "# Investigate missing observations\nmerged_df.agg(*[ (1 - (count(c) / count('*'))).alias(c + '_missing') for c in merged_df.columns ]).show()\n\n#The * argument to the .count(...) method (in place of a column name) instructs the method to count all rows. \n# On the other hand, the * preceding the list declaration instructs the .agg(...) method to treat the list as a set of separate parameters passed to the function.\n",
   "execution_count": null,
   "outputs": [
    {
     "name": "stdout",
     "text": "+-----------+-------------------+-----------------+------------------+----------------+--------------------+-----------------+--------------+------------+-----------------------+---------------------+-----------------------+---------------------+--------------+------------+----------------+--------------+--------------------+-------------------------+------------------+-----------------+---------------+-------------------+------------------+-------------+-----------+--------------------+----------------------+--------------------+------------------+-----------------------------+-----------------------+-------------------------------------+----------------------------------------+----------------+-------------------------+--------------------+--------------------+---------------------+\n|Zip_missing|ComplaintID_missing|ProblemID_missing|UnitTypeID_missing|UnitType_missing|SpaceTypeID _missing|SpaceType_missing|TypeID_missing|Type_missing|MajorCategoryID_missing|MajorCategory_missing|MinorCategoryID_missing|MinorCategory_missing|CodeID_missing|Code_missing|StatusID_missing|Status_missing|  StatusDate_missing|StatusDescription_missing|BuildingID_missing|BoroughID_missing|Borough_missing|HouseNumber_missing|StreetName_missing|Block_missing|Lot_missing|   Apartment_missing|CommunityBoard_missing|ReceivedDate_missing|Population_missing|All Households Income_missing|Families Income_missing|Families with Children Income_missing|Families without Children Income_missing|UHF code_missing|Neighborhood name_missing|   closeTime_missing|ReceivedYear_missing|ReceivedMonth_missing|\n+-----------+-------------------+-----------------+------------------+----------------+--------------------+-----------------+--------------+------------+-----------------------+---------------------+-----------------------+---------------------+--------------+------------+----------------+--------------+--------------------+-------------------------+------------------+-----------------+---------------+-------------------+------------------+-------------+-----------+--------------------+----------------------+--------------------+------------------+-----------------------------+-----------------------+-------------------------------------+----------------------------------------+----------------+-------------------------+--------------------+--------------------+---------------------+\n|        0.0|                0.0|              0.0|               0.0|             0.0|                 0.0|              0.0|           0.0|         0.0|                    0.0|                  0.0|                    0.0|                  0.0|           0.0|         0.0|             0.0|           0.0|1.206149062793482...|     0.005359944555433538|               0.0|              0.0|            0.0|                0.0|               0.0|          0.0|        0.0|4.786305805026814E-7|                   0.0|                 0.0|               0.0|                          0.0|                    0.0|                 6.691255515021144E-4|                                     0.0|             0.0|                      0.0|1.206149062793482...|                 0.0|                  0.0|\n+-----------+-------------------+-----------------+------------------+----------------+--------------------+-----------------+--------------+------------+-----------------------+---------------------+-----------------------+---------------------+--------------+------------+----------------+--------------+--------------------+-------------------------+------------------+-----------------+---------------+-------------------+------------------+-------------+-----------+--------------------+----------------------+--------------------+------------------+-----------------------------+-----------------------+-------------------------------------+----------------------------------------+----------------+-------------------------+--------------------+--------------------+---------------------+\n\n",
     "output_type": "stream"
    }
   ]
  },
  {
   "cell_type": "markdown",
   "source": "We also need to address the problem of negative close times. We see that there are 124 observations with negative close times. While very small in the context of our dataset, we take a closer look into these particular observations to see what could be causing these issues. ",
   "metadata": {
    "tags": [],
    "cell_id": "00019-61fa6052-d76e-4d3a-a7d1-379ca475e884",
    "deepnote_cell_type": "markdown"
   }
  },
  {
   "cell_type": "code",
   "metadata": {
    "deepnote_to_be_reexecuted": false,
    "execution_millis": 36841,
    "execution_start": 1620230590459,
    "source_hash": "afa505fc",
    "tags": [],
    "cell_id": "00020-3cc236a0-db0b-41b2-8bc7-be505b11a19d",
    "deepnote_cell_type": "code"
   },
   "source": "# Investigate negative closeTime\nneg = merged_df[merged_df.closeTime < 0]\nneg.count()",
   "execution_count": null,
   "outputs": [
    {
     "output_type": "execute_result",
     "execution_count": 11,
     "data": {
      "text/plain": "124"
     },
     "metadata": {}
    }
   ]
  },
  {
   "cell_type": "markdown",
   "source": "While these entries all have different ComplaintIDs and ReceivedDates, they are all coming from Rockaway and seem to share a StatusDate (which is the date that NYC Gov deems the case closed). Also, the StatusDescription is truncated here but it looks like each entry has the same description left by whoever was on this case. Let's expand the descriptions and look at this problem a little further.",
   "metadata": {
    "tags": [],
    "cell_id": "00021-d25b8cfd-6c37-4c88-8558-dc551fe0722b",
    "deepnote_cell_type": "markdown"
   }
  },
  {
   "cell_type": "code",
   "metadata": {
    "deepnote_to_be_reexecuted": false,
    "execution_millis": 48924,
    "execution_start": 1620230627289,
    "source_hash": "74481c17",
    "tags": [],
    "cell_id": "00022-a2298f55-ea18-4d5f-bc05-10fe836e04b5",
    "deepnote_cell_type": "code"
   },
   "source": "merged_df[merged_df.closeTime < 0].show(20)",
   "execution_count": null,
   "outputs": [
    {
     "name": "stdout",
     "text": "+-----+-----------+---------+----------+-------------+------------+-----------------+------+-------------------+---------------+--------------+---------------+---------------+------+--------------------+--------+------+----------+--------------------+----------+---------+---------+-----------+----------------+-----+---+---------+--------------+------------+----------+---------------------+---------------+-----------------------------+--------------------------------+--------+--------------------+---------+------------+-------------+\n|  Zip|ComplaintID|ProblemID|UnitTypeID|     UnitType|SpaceTypeID |        SpaceType|TypeID|               Type|MajorCategoryID| MajorCategory|MinorCategoryID|  MinorCategory|CodeID|                Code|StatusID|Status|StatusDate|   StatusDescription|BuildingID|BoroughID|  Borough|HouseNumber|      StreetName|Block|Lot|Apartment|CommunityBoard|ReceivedDate|Population|All Households Income|Families Income|Families with Children Income|Families without Children Income|UHF code|   Neighborhood name|closeTime|ReceivedYear|ReceivedMonth|\n+-----+-----------+---------+----------+-------------+------------+-----------------+------+-------------------+---------------+--------------+---------------+---------------+------+--------------------+--------+------+----------+--------------------+----------+---------+---------+-----------+----------------+-----+---+---------+--------------+------------+----------+---------------------+---------------+-----------------------------+--------------------------------+--------+--------------------+---------+------------+-------------+\n|10040|   10140053| 20617960|        92|BUILDING-WIDE|         550|    BUILDING-WIDE|     4|IMMEDIATE EMERGENCY|              9|      PLUMBING|             68|   WATER SUPPLY|  2564|            NO WATER|       2| CLOSE|10/01/2017|More than one com...|     21518|        1|MANHATTAN|          2|  ELLWOOD STREET| 2171| 42|      1AA|            12|  06/22/2020|     44571|              49677.0|        56530.0|                      50405.0|                         61463.0|     301|Washington Height...|     -995|        2020|            6|\n|11694|    3681288|  6700690|        20|    APARTMENT|          68| ENTIRE APARTMENT|     1|          EMERGENCY|             12|       HEATING|            196|   HEAT RELATED|  1358|             NO HEAT|       2| CLOSE|10/30/2006|More than one com...|    811220|        4|   QUEENS|        320|BEACH 100 STREET|16155| 21|      11J|            14|  02/05/2007|     21354|              84485.0|       111046.0|                     120943.0|                        107721.0|     410|            Rockaway|      -98|        2007|            2|\n|11694|    3743446|  6820225|        20|    APARTMENT|          68| ENTIRE APARTMENT|     1|          EMERGENCY|             12|       HEATING|            196|   HEAT RELATED|  1358|             NO HEAT|       2| CLOSE|10/30/2006|More than one com...|    811220|        4|   QUEENS|        320|BEACH 100 STREET|16155| 21|      14K|            14|  03/06/2007|     21354|              84485.0|       111046.0|                     120943.0|                        107721.0|     410|            Rockaway|     -127|        2007|            3|\n|10034|   10085589| 20519455|        91|    APARTMENT|         543| ENTIRE APARTMENT|     1|          EMERGENCY|             59|HEAT/HOT WATER|            348| APARTMENT ONLY|  2833|NO HEAT AND NO HO...|       2| CLOSE|03/20/2020|More than one com...|     27598|        1|MANHATTAN|        210|  SHERMAN AVENUE| 2226| 29|       5C|            12|  03/23/2020|     42910|              54406.0|        56284.0|                      51677.0|                         60904.0|     301|Washington Height...|       -3|        2020|            3|\n|10034|   10085625| 20519527|        91|    APARTMENT|         543| ENTIRE APARTMENT|     1|          EMERGENCY|             59|HEAT/HOT WATER|            348| APARTMENT ONLY|  2713|             NO HEAT|       2| CLOSE|03/20/2020|More than one com...|     27598|        1|MANHATTAN|        210|  SHERMAN AVENUE| 2226| 29|      16C|            12|  03/23/2020|     42910|              54406.0|        56284.0|                      51677.0|                         60904.0|     301|Washington Height...|       -3|        2020|            3|\n|11694|    3790657|  6927366|        29|     BUILDING|         148|  ENTIRE BUILDING|     1|          EMERGENCY|             12|       HEATING|            196|   HEAT RELATED|  1360|  NO HEAT& HOT WATER|       2| CLOSE|10/30/2006|More than one com...|    811220|        4|   QUEENS|        320|BEACH 100 STREET|16155| 21|       8G|            14|  04/10/2007|     21354|              84485.0|       111046.0|                     120943.0|                        107721.0|     410|            Rockaway|     -162|        2007|            4|\n|11694|    3798693|  6946376|        29|     BUILDING|         148|  ENTIRE BUILDING|     1|          EMERGENCY|             12|       HEATING|            196|   HEAT RELATED|  1360|  NO HEAT& HOT WATER|       2| CLOSE|10/30/2006|More than one com...|    811220|        4|   QUEENS|        320|BEACH 100 STREET|16155| 21|     BLDG|            14|  04/16/2007|     21354|              84485.0|       111046.0|                     120943.0|                        107721.0|     410|            Rockaway|     -168|        2007|            4|\n|11367|   10251564| 20867787|        93|  PUBLIC AREA|         556|BUILDING ENTRANCE|     3|      NON EMERGENCY|             11|       GENERAL|            347|SIGNAGE MISSING|  2839|HOUSING INFORMATI...|       2| CLOSE|10/31/2020|More than one com...|    855868|        4|   QUEENS|      75-25|      153 STREET| 6809|  1|     BLDG|             8|  11/01/2020|     41824|              63546.0|        72975.0|                      67392.0|                         79414.0|     406|       Fresh Meadows|       -1|        2020|           11|\n|10034|   10104442| 20552406|        92|BUILDING-WIDE|         550|    BUILDING-WIDE|     1|          EMERGENCY|             59|HEAT/HOT WATER|            349|ENTIRE BUILDING|  2717|        NO HOT WATER|       2| CLOSE|03/20/2020|More than one com...|     27598|        1|MANHATTAN|        210|  SHERMAN AVENUE| 2226| 29|     BLDG|            12|  04/16/2020|     42910|              54406.0|        56284.0|                      51677.0|                         60904.0|     301|Washington Height...|      -27|        2020|            4|\n|11694|    3785882|  6917710|        20|    APARTMENT|          68| ENTIRE APARTMENT|     1|          EMERGENCY|             12|       HEATING|            196|   HEAT RELATED|  1358|             NO HEAT|       2| CLOSE|10/30/2006|More than one com...|    811220|        4|   QUEENS|        320|BEACH 100 STREET|16155| 21|      13L|            14|  04/06/2007|     21354|              84485.0|       111046.0|                     120943.0|                        107721.0|     410|            Rockaway|     -158|        2007|            4|\n|10034|   10104468| 20552436|        92|BUILDING-WIDE|         550|    BUILDING-WIDE|     1|          EMERGENCY|             59|HEAT/HOT WATER|            349|ENTIRE BUILDING|  2717|        NO HOT WATER|       2| CLOSE|03/20/2020|More than one com...|     27598|        1|MANHATTAN|        210|  SHERMAN AVENUE| 2226| 29|     BLDG|            12|  04/16/2020|     42910|              54406.0|        56284.0|                      51677.0|                         60904.0|     301|Washington Height...|      -27|        2020|            4|\n|10040|   10142722| 20624315|        91|    APARTMENT|         543| ENTIRE APARTMENT|     1|          EMERGENCY|              9|      PLUMBING|             68|   WATER SUPPLY|  2564|            NO WATER|       2| CLOSE|12/29/2019|More than one com...|     21518|        1|MANHATTAN|          2|  ELLWOOD STREET| 2171| 42|       3W|            12|  06/26/2020|     44571|              49677.0|        56530.0|                      50405.0|                         61463.0|     301|Washington Height...|     -180|        2020|            6|\n|10034|   10109933| 20560085|        92|BUILDING-WIDE|         550|    BUILDING-WIDE|     1|          EMERGENCY|             59|HEAT/HOT WATER|            349|ENTIRE BUILDING|  2717|        NO HOT WATER|       2| CLOSE|03/20/2020|More than one com...|     27598|        1|MANHATTAN|        210|  SHERMAN AVENUE| 2226| 29|     BLDG|            12|  04/24/2020|     42910|              54406.0|        56284.0|                      51677.0|                         60904.0|     301|Washington Height...|      -35|        2020|            4|\n|11694|    3774509|  6890022|        29|     BUILDING|         148|  ENTIRE BUILDING|     1|          EMERGENCY|             12|       HEATING|            196|   HEAT RELATED|  1359|        NO HOT WATER|       2| CLOSE|10/30/2006|More than one com...|    811220|        4|   QUEENS|        320|BEACH 100 STREET|16155| 21|      14H|            14|  03/28/2007|     21354|              84485.0|       111046.0|                     120943.0|                        107721.0|     410|            Rockaway|     -149|        2007|            3|\n|11694|    3705123|  6742592|        20|    APARTMENT|          68| ENTIRE APARTMENT|     1|          EMERGENCY|             12|       HEATING|            196|   HEAT RELATED|  1358|             NO HEAT|       2| CLOSE|10/30/2006|More than one com...|    811220|        4|   QUEENS|        320|BEACH 100 STREET|16155| 21|      13L|            14|  02/13/2007|     21354|              84485.0|       111046.0|                     120943.0|                        107721.0|     410|            Rockaway|     -106|        2007|            2|\n|10034|   10085356| 20519026|        92|BUILDING-WIDE|         550|    BUILDING-WIDE|     1|          EMERGENCY|             59|HEAT/HOT WATER|            349|ENTIRE BUILDING|  2715|             NO HEAT|       2| CLOSE|03/20/2020|More than one com...|     27598|        1|MANHATTAN|        210|  SHERMAN AVENUE| 2226| 29|     BLDG|            12|  03/23/2020|     42910|              54406.0|        56284.0|                      51677.0|                         60904.0|     301|Washington Height...|       -3|        2020|            3|\n|11367|   10222043| 20813564|        92|BUILDING-WIDE|         550|    BUILDING-WIDE|     3|      NON EMERGENCY|             11|       GENERAL|            347|SIGNAGE MISSING|  2846|ESSENTIAL SERVICE...|       2| CLOSE|10/07/2020|More than one com...|    855868|        4|   QUEENS|      75-25|      153 STREET| 6809|  1|     BLDG|             8|  10/10/2020|     41824|              63546.0|        72975.0|                      67392.0|                         79414.0|     406|       Fresh Meadows|       -3|        2020|           10|\n|10034|   10104439| 20552403|        92|BUILDING-WIDE|         550|    BUILDING-WIDE|     1|          EMERGENCY|             59|HEAT/HOT WATER|            349|ENTIRE BUILDING|  2717|        NO HOT WATER|       2| CLOSE|03/20/2020|More than one com...|     27598|        1|MANHATTAN|        210|  SHERMAN AVENUE| 2226| 29|     BLDG|            12|  04/16/2020|     42910|              54406.0|        56284.0|                      51677.0|                         60904.0|     301|Washington Height...|      -27|        2020|            4|\n|11694|    3662029|  6664171|        29|     BUILDING|         148|  ENTIRE BUILDING|     1|          EMERGENCY|             12|       HEATING|            196|   HEAT RELATED|  1360|  NO HEAT& HOT WATER|       2| CLOSE|10/30/2006|More than one com...|    811220|        4|   QUEENS|        320|BEACH 100 STREET|16155| 21|       1E|            14|  01/29/2007|     21354|              84485.0|       111046.0|                     120943.0|                        107721.0|     410|            Rockaway|      -91|        2007|            1|\n|11694|    3772866|  6885241|        20|    APARTMENT|          68| ENTIRE APARTMENT|     1|          EMERGENCY|             12|       HEATING|            196|   HEAT RELATED|  1359|        NO HOT WATER|       2| CLOSE|10/30/2006|More than one com...|    811220|        4|   QUEENS|        320|BEACH 100 STREET|16155| 21|      10A|            14|  03/26/2007|     21354|              84485.0|       111046.0|                     120943.0|                        107721.0|     410|            Rockaway|     -147|        2007|            3|\n+-----+-----------+---------+----------+-------------+------------+-----------------+------+-------------------+---------------+--------------+---------------+---------------+------+--------------------+--------+------+----------+--------------------+----------+---------+---------+-----------+----------------+-----+---+---------+--------------+------------+----------+---------------------+---------------+-----------------------------+--------------------------------+--------+--------------------+---------+------------+-------------+\nonly showing top 20 rows\n\n",
     "output_type": "stream"
    }
   ]
  },
  {
   "cell_type": "markdown",
   "source": "There we go! There were a series of complaints filed by the same apartment complex in Rockaway that were all considered \"Case Closed\" by the State on the same day. This is why we are seeing negative dates in our closeTime.",
   "metadata": {
    "tags": [],
    "cell_id": "00023-a7c26c93-5b25-48d5-b3f3-2c8c4985fb4b",
    "deepnote_cell_type": "markdown"
   }
  },
  {
   "cell_type": "code",
   "metadata": {
    "deepnote_to_be_reexecuted": false,
    "execution_millis": 29914,
    "execution_start": 1620230676250,
    "source_hash": "710c52ef",
    "tags": [],
    "cell_id": "00024-08b70071-f690-4f4d-87bb-970fa0dfe67c",
    "deepnote_cell_type": "code"
   },
   "source": "merged_df[merged_df.closeTime < 0].select(['StatusDescription']).show(1, False)",
   "execution_count": null,
   "outputs": [
    {
     "name": "stdout",
     "text": "+-----------------------------------------------------------------------------------------------------------------------------------------------------------------------------------------------------------------------------------------------------------------------------------------------------------------------------------------------------------------------------+\n|StatusDescription                                                                                                                                                                                                                                                                                                                                                            |\n+-----------------------------------------------------------------------------------------------------------------------------------------------------------------------------------------------------------------------------------------------------------------------------------------------------------------------------------------------------------------------------+\n|More than one complaint was received for this building-wide condition. This complaint status is for the initial complaint.The Department of Housing Preservation and Development contacted an occupant of the apartment and verified that the following conditions were corrected. The complaint has been closed. If the condition still exists, please file a new complaint.|\n+-----------------------------------------------------------------------------------------------------------------------------------------------------------------------------------------------------------------------------------------------------------------------------------------------------------------------------------------------------------------------------+\nonly showing top 1 row\n\n",
     "output_type": "stream"
    }
   ]
  },
  {
   "cell_type": "markdown",
   "source": "From doing a bit of reading on OpenDataNYC, there was a big initiative in 2014 to clean up the data collection process. These Rockaway cases were from 7 years before that, so maybe this is just an example of bad clerical work and unreliable data. Since there are only 79 of them, it's probably best to go ahead and delete these entries.",
   "metadata": {
    "tags": [],
    "cell_id": "00025-357e6aaa-d2e9-45c0-9b20-50f8f06710cc",
    "deepnote_cell_type": "markdown"
   }
  },
  {
   "cell_type": "markdown",
   "source": "Now the only thing left that has missing data is StatusDescription, which is ok because that's a string variable and we won't ever use that column. Below is the schema for our cleaned data set:",
   "metadata": {
    "tags": [],
    "cell_id": "00026-81f75300-9204-4e2d-b82d-0e0d393d5c71",
    "deepnote_cell_type": "markdown"
   }
  },
  {
   "cell_type": "code",
   "metadata": {
    "deepnote_to_be_reexecuted": false,
    "execution_millis": 159814,
    "execution_start": 1620230706201,
    "source_hash": "30836d24",
    "tags": [],
    "cell_id": "00027-355a047f-3cc3-4677-8255-07113ee62ccb",
    "deepnote_cell_type": "code"
   },
   "source": "# Drop null values \ndf_nonnull = merged_df.na.drop(subset=['StatusDate'])\ndf_nonnull = df_nonnull.na.drop(subset=['Families with Children Income'])\ndf_nonnull = df_nonnull.na.drop(subset=['Apartment'])\ndf_nonnull = df_nonnull.na.drop(subset=['BuildingID'])\n\n# Drop rows with negative closeTimes (since count small)\ndf_nonnull = df_nonnull.filter(df_nonnull.closeTime >= 0)\n\n# Missing observations\ndf_nonnull.agg(*[ (1 - (count(c) / count('*'))).alias(c + '_missing') for c in df_nonnull.columns ]).show()",
   "execution_count": null,
   "outputs": [
    {
     "name": "stdout",
     "text": "+-----------+-------------------+-----------------+------------------+----------------+--------------------+-----------------+--------------+------------+-----------------------+---------------------+-----------------------+---------------------+--------------+------------+----------------+--------------+------------------+-------------------------+------------------+-----------------+---------------+-------------------+------------------+-------------+-----------+-----------------+----------------------+--------------------+------------------+-----------------------------+-----------------------+-------------------------------------+----------------------------------------+----------------+-------------------------+-----------------+--------------------+---------------------+\n|Zip_missing|ComplaintID_missing|ProblemID_missing|UnitTypeID_missing|UnitType_missing|SpaceTypeID _missing|SpaceType_missing|TypeID_missing|Type_missing|MajorCategoryID_missing|MajorCategory_missing|MinorCategoryID_missing|MinorCategory_missing|CodeID_missing|Code_missing|StatusID_missing|Status_missing|StatusDate_missing|StatusDescription_missing|BuildingID_missing|BoroughID_missing|Borough_missing|HouseNumber_missing|StreetName_missing|Block_missing|Lot_missing|Apartment_missing|CommunityBoard_missing|ReceivedDate_missing|Population_missing|All Households Income_missing|Families Income_missing|Families with Children Income_missing|Families without Children Income_missing|UHF code_missing|Neighborhood name_missing|closeTime_missing|ReceivedYear_missing|ReceivedMonth_missing|\n+-----------+-------------------+-----------------+------------------+----------------+--------------------+-----------------+--------------+------------+-----------------------+---------------------+-----------------------+---------------------+--------------+------------+----------------+--------------+------------------+-------------------------+------------------+-----------------+---------------+-------------------+------------------+-------------+-----------+-----------------+----------------------+--------------------+------------------+-----------------------------+-----------------------+-------------------------------------+----------------------------------------+----------------+-------------------------+-----------------+--------------------+---------------------+\n|        0.0|                0.0|              0.0|               0.0|             0.0|                 0.0|              0.0|           0.0|         0.0|                    0.0|                  0.0|                    0.0|                  0.0|           0.0|         0.0|             0.0|           0.0|               0.0|     0.005350211560653184|               0.0|              0.0|            0.0|                0.0|               0.0|          0.0|        0.0|              0.0|                   0.0|                 0.0|               0.0|                          0.0|                    0.0|                                  0.0|                                     0.0|             0.0|                      0.0|              0.0|                 0.0|                  0.0|\n+-----------+-------------------+-----------------+------------------+----------------+--------------------+-----------------+--------------+------------+-----------------------+---------------------+-----------------------+---------------------+--------------+------------+----------------+--------------+------------------+-------------------------+------------------+-----------------+---------------+-------------------+------------------+-------------+-----------+-----------------+----------------------+--------------------+------------------+-----------------------------+-----------------------+-------------------------------------+----------------------------------------+----------------+-------------------------+-----------------+--------------------+---------------------+\n\n",
     "output_type": "stream"
    }
   ]
  },
  {
   "cell_type": "code",
   "metadata": {
    "deepnote_to_be_reexecuted": false,
    "execution_millis": 9,
    "execution_start": 1620230866006,
    "source_hash": "1061559b",
    "tags": [],
    "cell_id": "00028-ab5bce3d-ea93-4fb6-aadb-3e7c8b907192",
    "deepnote_cell_type": "code"
   },
   "source": "df_nonnull.printSchema()",
   "execution_count": null,
   "outputs": [
    {
     "name": "stdout",
     "text": "root\n |-- Zip: string (nullable = true)\n |-- ComplaintID: integer (nullable = true)\n |-- ProblemID: integer (nullable = true)\n |-- UnitTypeID: integer (nullable = true)\n |-- UnitType: string (nullable = true)\n |-- SpaceTypeID : integer (nullable = true)\n |-- SpaceType: string (nullable = true)\n |-- TypeID: integer (nullable = true)\n |-- Type: string (nullable = true)\n |-- MajorCategoryID: integer (nullable = true)\n |-- MajorCategory: string (nullable = true)\n |-- MinorCategoryID: integer (nullable = true)\n |-- MinorCategory: string (nullable = true)\n |-- CodeID: integer (nullable = true)\n |-- Code: string (nullable = true)\n |-- StatusID: integer (nullable = true)\n |-- Status: string (nullable = true)\n |-- StatusDate: string (nullable = true)\n |-- StatusDescription: string (nullable = true)\n |-- BuildingID: integer (nullable = true)\n |-- BoroughID: integer (nullable = true)\n |-- Borough: string (nullable = true)\n |-- HouseNumber: string (nullable = true)\n |-- StreetName: string (nullable = true)\n |-- Block: integer (nullable = true)\n |-- Lot: integer (nullable = true)\n |-- Apartment: string (nullable = true)\n |-- CommunityBoard: integer (nullable = true)\n |-- ReceivedDate: string (nullable = true)\n |-- Population: integer (nullable = true)\n |-- All Households Income: double (nullable = true)\n |-- Families Income: double (nullable = true)\n |-- Families with Children Income: double (nullable = true)\n |-- Families without Children Income: double (nullable = true)\n |-- UHF code: integer (nullable = true)\n |-- Neighborhood name: string (nullable = true)\n |-- closeTime: integer (nullable = true)\n |-- ReceivedYear: string (nullable = true)\n |-- ReceivedMonth: string (nullable = true)\n\n",
     "output_type": "stream"
    }
   ]
  },
  {
   "cell_type": "code",
   "metadata": {
    "tags": [],
    "deepnote_to_be_reexecuted": false,
    "source_hash": "5b9d2e6b",
    "execution_start": 1620230866007,
    "execution_millis": 180079,
    "cell_id": "00029-301b4146-341a-47c1-9781-97dae969467d",
    "deepnote_cell_type": "code"
   },
   "source": "# write csv\n\ndf_nonnull.write.csv('6_Cleaned_Data_May3.csv',mode='overwrite', header='true')",
   "execution_count": null,
   "outputs": []
  },
  {
   "cell_type": "code",
   "metadata": {
    "deepnote_to_be_reexecuted": false,
    "source_hash": "845e6216",
    "execution_start": 1620231046086,
    "execution_millis": 44661,
    "cell_id": "00030-c8003418-5999-4480-88bf-32c6db85027a",
    "deepnote_cell_type": "code"
   },
   "source": "df_nonnull.show(2)",
   "execution_count": null,
   "outputs": [
    {
     "name": "stdout",
     "text": "+-----+-----------+---------+----------+---------+------------+----------------+------+---------+---------------+-------------+---------------+-------------+------+-------+--------+------+----------+--------------------+----------+---------+-------+-----------+----------+-----+---+---------+--------------+------------+----------+---------------------+---------------+-----------------------------+--------------------------------+--------+-----------------+---------+------------+-------------+\n|  Zip|ComplaintID|ProblemID|UnitTypeID| UnitType|SpaceTypeID |       SpaceType|TypeID|     Type|MajorCategoryID|MajorCategory|MinorCategoryID|MinorCategory|CodeID|   Code|StatusID|Status|StatusDate|   StatusDescription|BuildingID|BoroughID|Borough|HouseNumber|StreetName|Block|Lot|Apartment|CommunityBoard|ReceivedDate|Population|All Households Income|Families Income|Families with Children Income|Families without Children Income|UHF code|Neighborhood name|closeTime|ReceivedYear|ReceivedMonth|\n+-----+-----------+---------+----------+---------+------------+----------------+------+---------+---------------+-------------+---------------+-------------+------+-------+--------+------+----------+--------------------+----------+---------+-------+-----------+----------+-----+---+---------+--------------+------------+----------+---------------------+---------------+-----------------------------+--------------------------------+--------+-----------------+---------+------------+-------------+\n|11432|    2397487|  3768602|        20|APARTMENT|          68|ENTIRE APARTMENT|     2|HAZARDOUS|             13|     NONCONST|            106|       VERMIN|   886|ROACHES|       2| CLOSE|08/12/2004|The Department of...|    580051|        4| QUEENS|      88-47| 179 PLACE| 9915| 11|      2FL|            12|  06/20/2004|     62053|              62148.0|        67198.0|                      55290.0|                         79468.0|     408|          Jamaica|       53|        2004|            6|\n|11432|    2397487|  3768603|        20|APARTMENT|         159|           OTHER|     2|HAZARDOUS|             13|     NONCONST|            106|       VERMIN|   884|   MICE|       2| CLOSE|08/12/2004|The Department of...|    580051|        4| QUEENS|      88-47| 179 PLACE| 9915| 11|      2FL|            12|  06/20/2004|     62053|              62148.0|        67198.0|                      55290.0|                         79468.0|     408|          Jamaica|       53|        2004|            6|\n+-----+-----------+---------+----------+---------+------------+----------------+------+---------+---------------+-------------+---------------+-------------+------+-------+--------+------+----------+--------------------+----------+---------+-------+-----------+----------+-----+---+---------+--------------+------------+----------+---------------------+---------------+-----------------------------+--------------------------------+--------+-----------------+---------+------------+-------------+\nonly showing top 2 rows\n\n",
     "output_type": "stream"
    }
   ]
  },
  {
   "cell_type": "code",
   "metadata": {
    "deepnote_to_be_reexecuted": false,
    "execution_millis": 910,
    "execution_start": 1620231090549,
    "source_hash": "5757718c",
    "tags": [],
    "cell_id": "00031-a3855adc-48c5-4742-b181-8a0a501d8c16",
    "deepnote_cell_type": "code"
   },
   "source": "# end spark session\nspark.catalog.clearCache()\nhmcc_df.unpersist()\ncp_df.unpersist()\nincome.unpersist()\npopulation.persist()\nmerged_df.unpersist()\nspark.stop()",
   "execution_count": null,
   "outputs": []
  },
  {
   "cell_type": "markdown",
   "source": "## Exploratory data analysis",
   "metadata": {
    "cell_id": "00032-d220ec53-4127-46f0-86e5-9506968bbdce",
    "deepnote_cell_type": "markdown"
   }
  },
  {
   "cell_type": "markdown",
   "source": "#### Read data",
   "metadata": {
    "tags": [],
    "cell_id": "00033-536e12fa-d3b0-45cb-bcf2-2722f6af5dd5",
    "deepnote_cell_type": "markdown"
   }
  },
  {
   "cell_type": "code",
   "metadata": {
    "deepnote_to_be_reexecuted": false,
    "execution_millis": 170,
    "execution_start": 1620231091467,
    "source_hash": "f689c12",
    "tags": [],
    "cell_id": "00034-77f5a91f-8635-4c53-ad22-af1cad0d629f",
    "deepnote_cell_type": "code"
   },
   "source": "spark = SparkSession \\\n    .builder \\\n    .appName(\"project\") \\\n    .getOrCreate()\n\nsc = spark.sparkContext",
   "execution_count": null,
   "outputs": []
  },
  {
   "cell_type": "code",
   "metadata": {
    "deepnote_to_be_reexecuted": false,
    "execution_millis": 44727,
    "execution_start": 1620231091645,
    "source_hash": "97b8190f",
    "tags": [],
    "cell_id": "00035-d9860ccf-ce29-470b-aae3-2f6ec3b8a513",
    "deepnote_cell_type": "code"
   },
   "source": "# Read in dataset\ndf = spark.read.csv(\"6_Cleaned_Data_May3.csv\",inferSchema=True, header=True)\n\n# Store as rdd for later\ndf_rdd = df.rdd\n\n# columns\ncat_col = ['Zip', 'UnitType', 'SpaceType', 'Type', 'MajorCategory', 'MinorCategory', 'Code', 'Borough', 'Neighborhood name']\nnum_col = ['Population', 'All Households Income', 'Families Income', 'Families with Children Income', 'Families without Children Income' , 'closeTime']\ncat_col_idx = [x+'_idx' for x in cat_col]\ncat_col_vec = [x+'_vec' for x in cat_col]",
   "execution_count": null,
   "outputs": []
  },
  {
   "cell_type": "markdown",
   "source": "#### Preliminary Data exploration",
   "metadata": {
    "tags": [],
    "cell_id": "00036-6a32d48f-8ccb-463d-ab1e-0260293d5f78",
    "deepnote_cell_type": "markdown"
   }
  },
  {
   "cell_type": "code",
   "metadata": {
    "deepnote_to_be_reexecuted": false,
    "execution_millis": 324,
    "execution_start": 1620231136414,
    "source_hash": "3cf2d297",
    "tags": [],
    "cell_id": "00037-3afcea66-30cc-43bf-81e8-dcd154bf6a5a",
    "deepnote_cell_type": "code"
   },
   "source": "# SET UP SQL TABLES\n\n# DATA SET\ndf.createOrReplaceTempView('complaints')\ncomp = spark.sql(\"SELECT * FROM complaints\")\n\n# ZIP CODES\ndf.createOrReplaceTempView('zip')\nzipc = spark.sql(\"SELECT * FROM zip\")\n\n# CATEGORIES\ncomplaints = comp.groupBy('MajorCategory') \\\n    .agg(count(\"Status\").alias('Count'), \\\n    avg('closeTime').alias('Avg(closeTime)')) \\\n    .sort(col(\"Avg(closeTime)\").desc())\n\ncomplaints.createOrReplaceTempView('categories')\n\n# COMPLAINTS BY ZIP CODE\nzip_counts = zipc.groupBy('Borough', 'Zip', 'Neighborhood name', 'Population') \\\n    .agg(count(\"Status\").alias('Count'), \\\n    avg(\"All Households Income\").alias('Avg(Income)')) \\\n    .withColumn('Percent(Population)', col(\"Count\")/col('Population')) \\\n    .sort(col(\"Count\").desc())\n\nzip_counts.createOrReplaceTempView('counts')\n\n# CLOSE TIMES BY ZIP CODE\nclose = comp.groupBy('Borough', 'Zip', 'Neighborhood name', 'Population') \\\n    .agg(count(\"Status\").alias('Count'), \\\n    avg(\"All Households Income\").alias('Avg(Income)'), \\\n    avg('closeTime').alias('Avg(closeTime)')) \\\n    .withColumn('Percent(Population)', col(\"Count\")/col('Population')) \\\n    .sort(col(\"Avg(closeTime)\").desc())\n\nclose.createOrReplaceTempView('close')\n\n# CLOSE TIMES BY NEIGHBORHOOD\nuhf = comp.groupBy('Borough', 'Neighborhood name', 'Population') \\\n    .agg(count(\"Status\").alias('Count'), \\\n    avg(\"All Households Income\").alias('Avg(Income)'), \\\n    avg('closeTime').alias('Avg(closeTime)')) \\\n    .withColumn('Percent(Population)', col(\"Count\")/col('Population')) \\\n    .sort(col(\"Avg(closeTime)\").desc())\n\nuhf.createOrReplaceTempView('uhf')",
   "execution_count": null,
   "outputs": []
  },
  {
   "cell_type": "markdown",
   "source": "**Number of observations**: 4.2 million",
   "metadata": {
    "tags": [],
    "cell_id": "00038-5df38a3b-625f-49c2-b8c7-5daeebe02dfa",
    "deepnote_cell_type": "markdown"
   }
  },
  {
   "cell_type": "code",
   "metadata": {
    "deepnote_to_be_reexecuted": false,
    "execution_millis": 6495,
    "execution_start": 1620231136739,
    "source_hash": "f3fd67c8",
    "tags": [],
    "cell_id": "00039-a1edcd83-08db-41ff-a739-482929f233d4",
    "deepnote_cell_type": "code"
   },
   "source": "df.count()",
   "execution_count": null,
   "outputs": [
    {
     "output_type": "execute_result",
     "execution_count": 22,
     "data": {
      "text/plain": "4175162"
     },
     "metadata": {}
    }
   ]
  },
  {
   "cell_type": "markdown",
   "source": "**Variables:** Taking a look at the variables in our dataset, we have the below schema.",
   "metadata": {
    "tags": [],
    "cell_id": "00040-5d54b21f-c99f-4ac7-b33f-58f6e5923a0c",
    "deepnote_cell_type": "markdown"
   }
  },
  {
   "cell_type": "code",
   "metadata": {
    "tags": [],
    "deepnote_to_be_reexecuted": false,
    "source_hash": "fb890246",
    "execution_start": 1620231143225,
    "execution_millis": 14,
    "cell_id": "00041-23cfbd71-1ef2-4e3f-81ec-cdf47da59356",
    "deepnote_cell_type": "code"
   },
   "source": "df.printSchema()",
   "execution_count": null,
   "outputs": [
    {
     "name": "stdout",
     "text": "root\n |-- Zip: integer (nullable = true)\n |-- ComplaintID: integer (nullable = true)\n |-- ProblemID: integer (nullable = true)\n |-- UnitTypeID: integer (nullable = true)\n |-- UnitType: string (nullable = true)\n |-- SpaceTypeID: integer (nullable = true)\n |-- SpaceType: string (nullable = true)\n |-- TypeID: integer (nullable = true)\n |-- Type: string (nullable = true)\n |-- MajorCategoryID: integer (nullable = true)\n |-- MajorCategory: string (nullable = true)\n |-- MinorCategoryID: integer (nullable = true)\n |-- MinorCategory: string (nullable = true)\n |-- CodeID: integer (nullable = true)\n |-- Code: string (nullable = true)\n |-- StatusID: integer (nullable = true)\n |-- Status: string (nullable = true)\n |-- StatusDate: string (nullable = true)\n |-- StatusDescription: string (nullable = true)\n |-- BuildingID: integer (nullable = true)\n |-- BoroughID: integer (nullable = true)\n |-- Borough: string (nullable = true)\n |-- HouseNumber: string (nullable = true)\n |-- StreetName: string (nullable = true)\n |-- Block: integer (nullable = true)\n |-- Lot: integer (nullable = true)\n |-- Apartment: string (nullable = true)\n |-- CommunityBoard: integer (nullable = true)\n |-- ReceivedDate: string (nullable = true)\n |-- Population: integer (nullable = true)\n |-- All Households Income: double (nullable = true)\n |-- Families Income: double (nullable = true)\n |-- Families with Children Income: double (nullable = true)\n |-- Families without Children Income: double (nullable = true)\n |-- UHF code: integer (nullable = true)\n |-- Neighborhood name: string (nullable = true)\n |-- closeTime: integer (nullable = true)\n |-- ReceivedYear: integer (nullable = true)\n |-- ReceivedMonth: integer (nullable = true)\n\n",
     "output_type": "stream"
    }
   ]
  },
  {
   "cell_type": "markdown",
   "source": "**Observations:** below is a sample of the first 5 observations",
   "metadata": {
    "tags": [],
    "cell_id": "00042-a1fcf0ce-07a7-4d25-ba83-d32a2db00922",
    "deepnote_cell_type": "markdown"
   }
  },
  {
   "cell_type": "code",
   "metadata": {
    "tags": [],
    "deepnote_to_be_reexecuted": false,
    "source_hash": "e1361505",
    "execution_start": 1620231143231,
    "execution_millis": 199,
    "cell_id": "00043-d56e9c1f-f574-4748-977f-fcca4e63434f",
    "deepnote_cell_type": "code"
   },
   "source": "# df.select('*').show(5)\ndf.show(5)",
   "execution_count": null,
   "outputs": [
    {
     "name": "stdout",
     "text": "+-----+-----------+---------+----------+---------+-----------+----------------+------+---------+---------------+-------------+---------------+-------------+------+------------------+--------+------+----------+--------------------+----------+---------+---------+-----------+---------------+-----+---+---------+--------------+------------+----------+---------------------+---------------+-----------------------------+--------------------------------+--------+--------------------+---------+------------+-------------+\n|  Zip|ComplaintID|ProblemID|UnitTypeID| UnitType|SpaceTypeID|       SpaceType|TypeID|     Type|MajorCategoryID|MajorCategory|MinorCategoryID|MinorCategory|CodeID|              Code|StatusID|Status|StatusDate|   StatusDescription|BuildingID|BoroughID|  Borough|HouseNumber|     StreetName|Block|Lot|Apartment|CommunityBoard|ReceivedDate|Population|All Households Income|Families Income|Families with Children Income|Families without Children Income|UHF code|   Neighborhood name|closeTime|ReceivedYear|ReceivedMonth|\n+-----+-----------+---------+----------+---------+-----------+----------------+------+---------+---------------+-------------+---------------+-------------+------+------------------+--------+------+----------+--------------------+----------+---------+---------+-----------+---------------+-----+---+---------+--------------+------------+----------+---------------------+---------------+-----------------------------+--------------------------------+--------+--------------------+---------+------------+-------------+\n|10459|    2720458|  4425772|        20|APARTMENT|         68|ENTIRE APARTMENT|     1|EMERGENCY|             12|      HEATING|            196| HEAT RELATED|  1358|           NO HEAT|       2| CLOSE|02/05/2005|The Department of...|    107232|        2|    BRONX|        954|   ROGERS PLACE| 2699| 12|        1|             2|  01/27/2005|     48351|              29284.0|        35536.0|                      31228.0|                         44762.0|     107|Hunts Point - Mot...|        9|        2005|            1|\n|10459|    2720458|  4425785|        20|APARTMENT|         68|ENTIRE APARTMENT|     1|EMERGENCY|             28|PAINT/PLASTER|            198|         WALL|  1377|        OTHER LEAD|       2| CLOSE|02/10/2005|The Department of...|    107232|        2|    BRONX|        954|   ROGERS PLACE| 2699| 12|        1|             2|  01/27/2005|     48351|              29284.0|        35536.0|                      31228.0|                         44762.0|     107|Hunts Point - Mot...|       14|        2005|            1|\n|10460|    5330693| 10814504|        29| BUILDING|        148| ENTIRE BUILDING|     1|EMERGENCY|             12|      HEATING|            196| HEAT RELATED|  1360|NO HEAT& HOT WATER|       2| CLOSE|01/19/2011|The Department of...|     65767|        2|    BRONX|        806|EAST 175 STREET| 2952| 46|       WW|             6|  11/19/2010|     59505|              27545.0|        33282.0|                      25665.0|                         44649.0|     105|   Crotona - Tremont|       61|        2010|           11|\n|10035|    5462410| 11067438|        29| BUILDING|        148| ENTIRE BUILDING|     1|EMERGENCY|             12|      HEATING|            196| HEAT RELATED|  1358|           NO HEAT|       2| CLOSE|01/29/2011|More than one com...|      2552|        1|MANHATTAN|       1428|       5 AVENUE| 1600| 21|     BLDG|            10|  01/24/2011|     35743|              29799.0|        36645.0|                      28300.0|                         41685.0|     303|         East Harlem|        5|        2011|            1|\n|10456|    6230303| 13005924|        29| BUILDING|        148| ENTIRE BUILDING|     1|EMERGENCY|             12|      HEATING|            196| HEAT RELATED|  1358|           NO HEAT|       2| CLOSE|01/07/2013|More than one com...|     55438|        2|    BRONX|       1064|  CARROLL PLACE| 2456|  8|       2J|             4|  12/30/2012|     94218|              27917.0|        35269.0|                      31099.0|                         42260.0|     106|High Bridge - Mor...|        8|        2012|           12|\n+-----+-----------+---------+----------+---------+-----------+----------------+------+---------+---------------+-------------+---------------+-------------+------+------------------+--------+------+----------+--------------------+----------+---------+---------+-----------+---------------+-----+---+---------+--------------+------------+----------+---------------------+---------------+-----------------------------+--------------------------------+--------+--------------------+---------+------------+-------------+\nonly showing top 5 rows\n\n",
     "output_type": "stream"
    }
   ]
  },
  {
   "cell_type": "markdown",
   "source": "**Cases longer than 60 days**: 122,227",
   "metadata": {
    "tags": [],
    "cell_id": "00044-a48926d5-7626-41d6-8d92-6f1d1de01c3c",
    "deepnote_cell_type": "markdown"
   }
  },
  {
   "cell_type": "code",
   "metadata": {
    "deepnote_to_be_reexecuted": false,
    "execution_millis": 20041,
    "execution_start": 1620231143422,
    "source_hash": "e66b42c4",
    "tags": [],
    "cell_id": "00045-af6ee78a-7040-4596-ba1d-2dc711ed89da",
    "deepnote_cell_type": "code"
   },
   "source": "# Cases longer than 60 days\nspark.sql(\"SELECT * FROM complaints where closeTime >= '60'\").count()",
   "execution_count": null,
   "outputs": [
    {
     "output_type": "execute_result",
     "execution_count": 25,
     "data": {
      "text/plain": "165135"
     },
     "metadata": {}
    }
   ]
  },
  {
   "cell_type": "markdown",
   "source": "**Location exploration using spark sql:** One of our thoughts when starting this project was that there is likely a disparity between rich and poor neighborhoods. If you have money, you probably won't be calling 311 to complain about your housing situation because you could either move or hire someone to fix the problem for you. On the other hand, if you do not have money, moving or hiring someone are not options you have available to you. So you are reliant on your landlord to help and when they are delinquint, you rely on the State for support. 311 is the last line of defense for people who have housing problems and no way to solve them. \n\nIn this section we will cherry pick a few zipcodes; some rich, some poor. While this is not a rigorous test and shouldn't be considered statistically significant, it might be interesting to see how the number of 311 Housing Complaints varies depending on location.\n\nAnecdotally, we compare the number of records in a few high-income neighborhoods with lower-income neighborhoods. For example, looking at BedStuy vs West Village - we observe about 55,000 complaints in BedStuy vs only 1/5th of that for West Village.\n\nHere we compare rich and poor neighborhoods, counting the number of complaints that took longer than 60 days to close.",
   "metadata": {
    "tags": [],
    "cell_id": "00046-f3c18507-b1b3-44ad-a044-9d7691a7add3",
    "deepnote_cell_type": "markdown"
   }
  },
  {
   "cell_type": "code",
   "metadata": {
    "tags": [],
    "cell_id": "00047-8c8c24cf-397e-483b-9a35-b8fe01b04a9e",
    "deepnote_to_be_reexecuted": false,
    "source_hash": "7d633913",
    "execution_start": 1620231163457,
    "execution_millis": 159086,
    "deepnote_cell_type": "code"
   },
   "source": "print(\"West Village: \", spark.sql(\"SELECT * FROM zip where zip == '10014' and closeTime >= 60\").count())\nprint(\"Soho: \", spark.sql(\"SELECT * FROM zip where zip == '10013' and closeTime >= 60\").count())\nprint(\"Chelsea: \", spark.sql(\"SELECT * FROM zip where zip == '10001' and closeTime >= '60'\").count())\nprint(\"TriBeCa: \", spark.sql(\"SELECT * FROM zip where zip == '10007' and closeTime >= '60'\").count())\nprint(\"===================\")\nprint(\"Bedford-Stuyvesant: \", spark.sql(\"SELECT * FROM zip where zip == '11216' and closeTime >= '60'\").count())\nprint(\"Bronx, Morris Heights: \", spark.sql(\"SELECT * FROM zip where zip == '10453' and closeTime >= '60'\").count())\nprint(\"Bronx, Melrose: \", spark.sql(\"SELECT * FROM zip where zip == '10456' and closeTime >= '60'\").count())\nprint(\"Bronx, Bathgate: \", spark.sql(\"SELECT * FROM zip where zip == '10457' and closeTime >= '60'\").count())",
   "execution_count": null,
   "outputs": [
    {
     "name": "stdout",
     "text": "West Village:  537\nSoho:  480\nChelsea:  330\nTriBeCa:  38\n===================\nBedford-Stuyvesant:  1564\nBronx, Morris Heights:  5346\nBronx, Melrose:  4455\nBronx, Bathgate:  3905\n",
     "output_type": "stream"
    }
   ]
  },
  {
   "cell_type": "markdown",
   "source": "**Most frequent categories**\n\nHeat/hot water the most common complaint, followed by unsanitary condition and paint/plaster (potentially related to lead paint issues)",
   "metadata": {
    "tags": [],
    "cell_id": "00048-793f6510-e488-42bc-b822-c49e6a33ea6d",
    "deepnote_cell_type": "markdown"
   }
  },
  {
   "cell_type": "code",
   "metadata": {
    "deepnote_to_be_reexecuted": false,
    "execution_millis": 23861,
    "execution_start": 1620231322542,
    "source_hash": "dc3e7c3a",
    "tags": [],
    "cell_id": "00049-0a1d82c2-0b15-4c9f-935c-5035eac4b59c",
    "deepnote_cell_type": "code"
   },
   "source": "complaints.sort(col('Count').desc()).show()",
   "execution_count": null,
   "outputs": [
    {
     "name": "stdout",
     "text": "+--------------------+-------+------------------+\n|       MajorCategory|  Count|    Avg(closeTime)|\n+--------------------+-------+------------------+\n|      HEAT/HOT WATER|1414821|3.0340043016042313|\n|UNSANITARY CONDITION| 596526|21.716996409209322|\n|       PAINT/PLASTER| 445296|17.877034601703137|\n|            PLUMBING| 388944| 18.11784215722572|\n|         DOOR/WINDOW| 289812|18.411556457289553|\n|          WATER LEAK| 237589|19.723762463750425|\n|            ELECTRIC| 192807|17.799768680597698|\n|     FLOORING/STAIRS| 188891|18.452599647415706|\n|             GENERAL| 185636| 22.15787885970394|\n|           APPLIANCE| 105448| 21.92451255595175|\n|              SAFETY| 104652|18.001031991744068|\n|    OUTSIDE BUILDING|  11894|17.403312594585504|\n|            ELEVATOR|   8967|24.461804393888702|\n|             HEATING|   3450|118.24550724637682|\n|            NONCONST|    418|383.55263157894734|\n|        CONSTRUCTION|     11| 513.8181818181819|\n+--------------------+-------+------------------+\n\n",
     "output_type": "stream"
    }
   ]
  },
  {
   "cell_type": "markdown",
   "source": "**Slowest/quickest categories to get resolved**\n\nHeat/hot water solved the most quickly. Construction the slowest. Some noise between categories (difference between heating and heat/hot water?)\n\nThe slow close times for elevator and unsanitary conditions are also tough to see. If you are elderly or disabled, not having access to an elevator in your apartment complex can be incredibly difficult. If you are a family with young children living in an unsanitary environment, you are putting your child at risk.",
   "metadata": {
    "tags": [],
    "cell_id": "00050-6d65f79f-1b6f-4df1-9415-01cb16177c84",
    "deepnote_cell_type": "markdown"
   }
  },
  {
   "cell_type": "code",
   "metadata": {
    "deepnote_to_be_reexecuted": false,
    "execution_millis": 23383,
    "execution_start": 1620231346399,
    "source_hash": "df7bdebf",
    "tags": [],
    "cell_id": "00051-b82c5e78-b1fe-443d-9d93-0e7a2cf924f0",
    "deepnote_cell_type": "code"
   },
   "source": "complaints.show()",
   "execution_count": null,
   "outputs": [
    {
     "name": "stdout",
     "text": "+--------------------+-------+------------------+\n|       MajorCategory|  Count|    Avg(closeTime)|\n+--------------------+-------+------------------+\n|        CONSTRUCTION|     11| 513.8181818181819|\n|            NONCONST|    418|383.55263157894734|\n|             HEATING|   3450|118.24550724637682|\n|            ELEVATOR|   8967|24.461804393888702|\n|             GENERAL| 185636| 22.15787885970394|\n|           APPLIANCE| 105448| 21.92451255595175|\n|UNSANITARY CONDITION| 596526|21.716996409209322|\n|          WATER LEAK| 237589|19.723762463750425|\n|     FLOORING/STAIRS| 188891|18.452599647415706|\n|         DOOR/WINDOW| 289812|18.411556457289553|\n|            PLUMBING| 388944| 18.11784215722572|\n|              SAFETY| 104652|18.001031991744068|\n|       PAINT/PLASTER| 445296|17.877034601703137|\n|            ELECTRIC| 192807|17.799768680597698|\n|    OUTSIDE BUILDING|  11894|17.403312594585504|\n|      HEAT/HOT WATER|1414821|3.0340043016042313|\n+--------------------+-------+------------------+\n\n",
     "output_type": "stream"
    }
   ]
  },
  {
   "cell_type": "markdown",
   "source": "**Complaints per capita**\n\nLook at the differences in average income between the top 10 zipcodes with the most and least complaints",
   "metadata": {
    "tags": [],
    "cell_id": "00052-2111a669-2823-4b92-a46d-839fe98f14d5",
    "deepnote_cell_type": "markdown"
   }
  },
  {
   "cell_type": "code",
   "metadata": {
    "deepnote_to_be_reexecuted": false,
    "execution_millis": 26853,
    "execution_start": 1620231369778,
    "source_hash": "82bcb1b0",
    "tags": [],
    "cell_id": "00053-292a75f1-3a99-4276-a267-4e7202721bbe",
    "deepnote_cell_type": "code"
   },
   "source": "# Most complaints per capita\nzip_counts.show(10)",
   "execution_count": null,
   "outputs": [
    {
     "name": "stdout",
     "text": "+---------+-----+--------------------+----------+------+-----------+-------------------+\n|  Borough|  Zip|   Neighborhood name|Population| Count|Avg(Income)|Percent(Population)|\n+---------+-----+--------------------+----------+------+-----------+-------------------+\n| BROOKLYN|11226|East Flatbush - F...|    100277|151892|    58257.0|  1.514724213927421|\n|    BRONX|10467|Fordham - Bronx Park|    103732|121090|    39372.0| 1.1673350557205104|\n|    BRONX|10458|Fordham - Bronx Park|     83960|120257|    35423.0| 1.4323130061934255|\n|    BRONX|10453|   Crotona - Tremont|     79606|118871|    29136.0| 1.4932417154485842|\n|    BRONX|10457|   Crotona - Tremont|     74554|117132|    29767.0|  1.571102824798133|\n|    BRONX|10452|High Bridge - Mor...|     76078|110835|    29579.0| 1.4568600646704697|\n|    BRONX|10468|Fordham - Bronx Park|     78647|105195|    37804.0| 1.3375589660126896|\n|    BRONX|10456|High Bridge - Mor...|     94218|100269|    27917.0| 1.0642233968031587|\n|MANHATTAN|10031|Washington Height...|     60254| 88920|    53660.0| 1.4757526471271616|\n| BROOKLYN|11225|East Flatbush - F...|     58882| 83200|    59820.0| 1.4129954824904045|\n+---------+-----+--------------------+----------+------+-----------+-------------------+\nonly showing top 10 rows\n\n",
     "output_type": "stream"
    }
   ]
  },
  {
   "cell_type": "code",
   "metadata": {
    "deepnote_to_be_reexecuted": false,
    "execution_millis": 26389,
    "execution_start": 1620231396614,
    "source_hash": "e5e00a84",
    "tags": [],
    "cell_id": "00054-485b60d5-819f-40a6-bbbd-f796fdb26c7a",
    "deepnote_cell_type": "code"
   },
   "source": "# Fewest complaints per capita\nzip_counts.sort(asc(\"Percent(Population)\")).show(10,False)",
   "execution_count": null,
   "outputs": [
    {
     "name": "stdout",
     "text": "+-------------+-----+-------------------------+----------+-----+-----------+--------------------+\n|Borough      |Zip  |Neighborhood name        |Population|Count|Avg(Income)|Percent(Population) |\n+-------------+-----+-------------------------+----------+-----+-----------+--------------------+\n|BRONX        |11370|West Queens              |32514     |1    |63706.0    |3.075598203850649E-5|\n|QUEENS       |11362|Bayside - Little Neck    |18721     |392  |93333.0    |0.020939052401046952|\n|STATEN ISLAND|10312|South Beach - Tottenville|61741     |1409 |97407.0    |0.022821139923227676|\n|STATEN ISLAND|10308|South Beach - Tottenville|30186     |735  |103027.0   |0.024349035976942955|\n|QUEENS       |11697|Rockaway                 |3540      |104  |105750.0   |0.02937853107344633 |\n|STATEN ISLAND|10309|South Beach - Tottenville|33531     |1010 |109457.0   |0.030121380215323134|\n|MANHATTAN    |10005|Lower Manhattan          |8831      |272  |189702.0   |0.030800588834786546|\n|MANHATTAN    |10280|Lower Manhattan          |9384      |300  |182760.0   |0.0319693094629156  |\n|STATEN ISLAND|10307|South Beach - Tottenville|15232     |500  |85103.0    |0.03282563025210084 |\n|QUEENS       |11357|Flushing - Clearview     |39902     |1378 |85818.0    |0.03453460979399529 |\n+-------------+-----+-------------------------+----------+-----+-----------+--------------------+\nonly showing top 10 rows\n\n",
     "output_type": "stream"
    }
   ]
  },
  {
   "cell_type": "markdown",
   "source": "**Close time by zip code**",
   "metadata": {
    "tags": [],
    "cell_id": "00055-61616331-14dc-4550-a586-2a5a73a55fdf",
    "deepnote_cell_type": "markdown"
   }
  },
  {
   "cell_type": "code",
   "metadata": {
    "deepnote_to_be_reexecuted": false,
    "execution_millis": 26898,
    "execution_start": 1620231422999,
    "source_hash": "3c65c9aa",
    "tags": [],
    "cell_id": "00056-699f811e-f781-46a8-af52-3018f9e8e57c",
    "deepnote_cell_type": "code"
   },
   "source": "# Longest close time\nclose.show(10)",
   "execution_count": null,
   "outputs": [
    {
     "name": "stdout",
     "text": "+-------------+-----+--------------------+----------+-----+-----------+------------------+--------------------+\n|      Borough|  Zip|   Neighborhood name|Population|Count|Avg(Income)|    Avg(closeTime)| Percent(Population)|\n+-------------+-----+--------------------+----------+-----+-----------+------------------+--------------------+\n|       QUEENS|11697|            Rockaway|      3540|  104|   105750.0| 40.07692307692308| 0.02937853107344633|\n|    MANHATTAN|10280|     Lower Manhattan|      9384|  300|   182760.0|38.236666666666665|  0.0319693094629156|\n|    MANHATTAN|10005|     Lower Manhattan|      8831|  272|   189702.0|31.176470588235293|0.030800588834786546|\n|       QUEENS|11693|            Rockaway|     12919| 3310|    60569.0| 25.67703927492447| 0.25621178109760817|\n|    MANHATTAN|10007|     Lower Manhattan|      7023|  459|   224063.0|22.363834422657952| 0.06535668517727466|\n|       QUEENS|11360|Bayside - Little ...|     19621| 1157|    83063.0| 22.33275713050994|0.058967432852555936|\n|        BRONX|10475|     Northeast Bronx|     43208| 4280|    51951.0| 21.95981308411215| 0.09905573042029253|\n|       QUEENS|11378|         West Queens|     37279| 3638|    77710.0|20.942001099505223| 0.09758845462592881|\n|STATEN ISLAND|10307|South Beach - Tot...|     15232|  500|    85103.0|            20.612| 0.03282563025210084|\n|    MANHATTAN|10004|     Lower Manhattan|      3028|  216|   190223.0|20.578703703703702|   0.071334214002642|\n+-------------+-----+--------------------+----------+-----+-----------+------------------+--------------------+\nonly showing top 10 rows\n\n",
     "output_type": "stream"
    }
   ]
  },
  {
   "cell_type": "code",
   "metadata": {
    "deepnote_to_be_reexecuted": false,
    "execution_millis": 26592,
    "execution_start": 1620231449893,
    "source_hash": "9e44709d",
    "tags": [],
    "cell_id": "00057-204dd1c2-05b3-4588-839c-2792cb64390f",
    "deepnote_cell_type": "code"
   },
   "source": "# Shortest close time\nclose.sort(asc(\"Avg(closeTime)\")).show(10)",
   "execution_count": null,
   "outputs": [
    {
     "name": "stdout",
     "text": "+--------+-----+--------------------+----------+-----+-----------+------------------+--------------------+\n| Borough|  Zip|   Neighborhood name|Population|Count|Avg(Income)|    Avg(closeTime)| Percent(Population)|\n+--------+-----+--------------------+----------+-----+-----------+------------------+--------------------+\n|   BRONX|11370|         West Queens|     32514|    1|    63706.0|               1.0|3.075598203850649E-5|\n|BROOKLYN|11209|Bensonhurst - Bay...|     67809|29304|    77917.0| 8.912742287742288| 0.43215502366942443|\n|  QUEENS|11363|Bayside - Little ...|      6952|  624|   101019.0|10.400641025641026| 0.08975834292289989|\n|   BRONX|10462|Pelham - Throgs Neck|     76756|61153|    54278.0|10.430722940820564|  0.7967194746990464|\n|   BRONX|10463|Kingsbridge - Riv...|     71360|43097|    58408.0|10.857832331716825|  0.6039377802690583|\n|BROOKLYN|11235|Coney Island - Sh...|     78128|32621|    54646.0|10.877532877594188|  0.4175327667417571|\n|   BRONX|10472|Pelham - Throgs Neck|     68796|65381|    33498.0| 11.17431669751151|  0.9503604860747717|\n|BROOKLYN|11229|Coney Island - Sh...|     83615|24405|    64631.0|11.244908830157755| 0.29187346767924416|\n|   BRONX|10471|Kingsbridge - Riv...|     21896| 5618|    88722.0|11.255784976860092|  0.2565765436609426|\n|BROOKLYN|11214|Bensonhurst - Bay...|     92946|26787|    56911.0|  11.3101131145705|   0.288199599767607|\n+--------+-----+--------------------+----------+-----+-----------+------------------+--------------------+\nonly showing top 10 rows\n\n",
     "output_type": "stream"
    }
   ]
  },
  {
   "cell_type": "markdown",
   "source": "**Close time by neighborhood**",
   "metadata": {
    "tags": [],
    "cell_id": "00058-70fa69c9-316c-4881-beaa-22413ba46d89",
    "deepnote_cell_type": "markdown"
   }
  },
  {
   "cell_type": "code",
   "metadata": {
    "deepnote_to_be_reexecuted": false,
    "execution_millis": 26595,
    "execution_start": 1620231476481,
    "source_hash": "7cad00e",
    "tags": [],
    "cell_id": "00059-0d22264a-26b5-458b-a031-5287e9a2cf1f",
    "deepnote_cell_type": "code"
   },
   "source": "# Longest close time\nuhf.show(10, False)",
   "execution_count": null,
   "outputs": [
    {
     "name": "stdout",
     "text": "+-------------+-------------------------+----------+-----+-----------+------------------+--------------------+\n|Borough      |Neighborhood name        |Population|Count|Avg(Income)|Avg(closeTime)    |Percent(Population) |\n+-------------+-------------------------+----------+-----+-----------+------------------+--------------------+\n|QUEENS       |Rockaway                 |3540      |104  |105750.0   |40.07692307692308 |0.02937853107344633 |\n|MANHATTAN    |Lower Manhattan          |9384      |300  |182760.0   |38.236666666666665|0.0319693094629156  |\n|MANHATTAN    |Lower Manhattan          |8831      |272  |189702.0   |31.176470588235293|0.030800588834786546|\n|QUEENS       |Rockaway                 |12919     |3310 |60569.0    |25.67703927492447 |0.25621178109760817 |\n|MANHATTAN    |Lower Manhattan          |7023      |459  |224063.0   |22.363834422657952|0.06535668517727466 |\n|QUEENS       |Bayside - Little Neck    |19621     |1157 |83063.0    |22.33275713050994 |0.058967432852555936|\n|BRONX        |Northeast Bronx          |43208     |4280 |51951.0    |21.95981308411215 |0.09905573042029253 |\n|QUEENS       |West Queens              |37279     |3638 |77710.0    |20.942001099505223|0.09758845462592881 |\n|STATEN ISLAND|South Beach - Tottenville|15232     |500  |85103.0    |20.612            |0.03282563025210084 |\n|MANHATTAN    |Lower Manhattan          |3028      |216  |190223.0   |20.578703703703702|0.071334214002642   |\n+-------------+-------------------------+----------+-----+-----------+------------------+--------------------+\nonly showing top 10 rows\n\n",
     "output_type": "stream"
    }
   ]
  },
  {
   "cell_type": "code",
   "metadata": {
    "deepnote_to_be_reexecuted": false,
    "execution_millis": 26314,
    "execution_start": 1620231503066,
    "source_hash": "231d62c6",
    "tags": [],
    "cell_id": "00060-2ac613c9-12b7-45eb-9df0-be9ee2351378",
    "deepnote_cell_type": "code"
   },
   "source": "# Shortest close time\nuhf.sort(asc(\"Avg(closeTime)\")).show(10, False)",
   "execution_count": null,
   "outputs": [
    {
     "name": "stdout",
     "text": "+--------+-----------------------------+----------+-----+-----------+------------------+--------------------+\n|Borough |Neighborhood name            |Population|Count|Avg(Income)|Avg(closeTime)    |Percent(Population) |\n+--------+-----------------------------+----------+-----+-----------+------------------+--------------------+\n|BRONX   |West Queens                  |32514     |1    |63706.0    |1.0               |3.075598203850649E-5|\n|BROOKLYN|Bensonhurst - Bay Ridge      |67809     |29304|77917.0    |8.912742287742288 |0.43215502366942443 |\n|QUEENS  |Bayside - Little Neck        |6952      |624  |101019.0   |10.400641025641026|0.08975834292289989 |\n|BRONX   |Pelham - Throgs Neck         |76756     |61153|54278.0    |10.430722940820564|0.7967194746990464  |\n|BRONX   |Kingsbridge - Riverdale      |71360     |43097|58408.0    |10.857832331716825|0.6039377802690583  |\n|BROOKLYN|Coney Island - Sheepshead Bay|78128     |32621|54646.0    |10.877532877594188|0.4175327667417571  |\n|BRONX   |Pelham - Throgs Neck         |68796     |65381|33498.0    |11.17431669751151 |0.9503604860747717  |\n|BROOKLYN|Coney Island - Sheepshead Bay|83615     |24405|64631.0    |11.244908830157755|0.29187346767924416 |\n|BRONX   |Kingsbridge - Riverdale      |21896     |5618 |88722.0    |11.255784976860092|0.2565765436609426  |\n|BROOKLYN|Bensonhurst - Bay Ridge      |92946     |26787|56911.0    |11.3101131145705  |0.288199599767607   |\n+--------+-----------------------------+----------+-----+-----------+------------------+--------------------+\nonly showing top 10 rows\n\n",
     "output_type": "stream"
    }
   ]
  },
  {
   "cell_type": "markdown",
   "source": "**Complaints by neighborhood**\n\nFor UHF regions (basically neighborhoods in NYC) for the top 10 most and least complaints, the difference in average income is blatant",
   "metadata": {
    "tags": [],
    "cell_id": "00061-265273d2-512c-4b9e-b795-a93c238c6553",
    "deepnote_cell_type": "markdown"
   }
  },
  {
   "cell_type": "code",
   "metadata": {
    "deepnote_to_be_reexecuted": false,
    "execution_millis": 26201,
    "execution_start": 1620231529365,
    "source_hash": "9179b62d",
    "tags": [],
    "cell_id": "00062-aad2ee6f-7d0b-4d5d-8209-234ca4c31a4e",
    "deepnote_cell_type": "code"
   },
   "source": "# Most complaints\nuhf.sort(desc(\"Percent(Population)\")).show(10, False)",
   "execution_count": null,
   "outputs": [
    {
     "name": "stdout",
     "text": "+---------+---------------------------+----------+------+-----------+------------------+-------------------+\n|Borough  |Neighborhood name          |Population|Count |Avg(Income)|Avg(closeTime)    |Percent(Population)|\n+---------+---------------------------+----------+------+-----------+------------------+-------------------+\n|BRONX    |Crotona - Tremont          |74554     |117132|29767.0    |12.14919065669501 |1.571102824798133  |\n|BROOKLYN |East Flatbush - Flatbush   |100277    |151892|58257.0    |11.667303083770047|1.514724213927421  |\n|BRONX    |Crotona - Tremont          |79606     |118871|29136.0    |13.886860546306501|1.4932417154485842 |\n|MANHATTAN|Washington Heights - Inwood|60254     |88920 |53660.0    |15.53497525865947 |1.4757526471271616 |\n|BRONX    |High Bridge - Morrisania   |76078     |110835|29579.0    |13.98252357107412 |1.4568600646704697 |\n|BRONX    |Fordham - Bronx Park       |83960     |120257|35423.0    |12.17239744879716 |1.4323130061934255 |\n|BROOKLYN |East Flatbush - Flatbush   |58882     |83200 |59820.0    |11.945444711538462|1.4129954824904045 |\n|BRONX    |Fordham - Bronx Park       |78647     |105195|37804.0    |13.533884690336993|1.3375589660126896 |\n|MANHATTAN|Washington Heights - Inwood|42910     |55545 |54406.0    |18.273543973354936|1.2944535073409462 |\n|BRONX    |Hunts Point - Mott Haven   |12127     |14966 |22965.0    |14.325203795269276|1.2341057145213161 |\n+---------+---------------------------+----------+------+-----------+------------------+-------------------+\nonly showing top 10 rows\n\n",
     "output_type": "stream"
    }
   ]
  },
  {
   "cell_type": "code",
   "metadata": {
    "deepnote_to_be_reexecuted": false,
    "execution_millis": 26154,
    "execution_start": 1620231555561,
    "source_hash": "484d759",
    "tags": [],
    "cell_id": "00063-fe9bac0b-d041-4363-b95d-9bb4ba920f33",
    "deepnote_cell_type": "code"
   },
   "source": "# Most complaints\nuhf.sort(asc(\"Percent(Population)\")).show(10, False)",
   "execution_count": null,
   "outputs": [
    {
     "name": "stdout",
     "text": "+-------------+-------------------------+----------+-----+-----------+------------------+--------------------+\n|Borough      |Neighborhood name        |Population|Count|Avg(Income)|Avg(closeTime)    |Percent(Population) |\n+-------------+-------------------------+----------+-----+-----------+------------------+--------------------+\n|BRONX        |West Queens              |32514     |1    |63706.0    |1.0               |3.075598203850649E-5|\n|QUEENS       |Bayside - Little Neck    |18721     |392  |93333.0    |16.783163265306122|0.020939052401046952|\n|STATEN ISLAND|South Beach - Tottenville|61741     |1409 |97407.0    |19.522356281050392|0.022821139923227676|\n|STATEN ISLAND|South Beach - Tottenville|30186     |735  |103027.0   |16.862585034013605|0.024349035976942955|\n|QUEENS       |Rockaway                 |3540      |104  |105750.0   |40.07692307692308 |0.02937853107344633 |\n|STATEN ISLAND|South Beach - Tottenville|33531     |1010 |109457.0   |20.41683168316832 |0.030121380215323134|\n|MANHATTAN    |Lower Manhattan          |8831      |272  |189702.0   |31.176470588235293|0.030800588834786546|\n|MANHATTAN    |Lower Manhattan          |9384      |300  |182760.0   |38.236666666666665|0.0319693094629156  |\n|STATEN ISLAND|South Beach - Tottenville|15232     |500  |85103.0    |20.612            |0.03282563025210084 |\n|QUEENS       |Flushing - Clearview     |39902     |1378 |85818.0    |19.933962264150942|0.03453460979399529 |\n+-------------+-------------------------+----------+-----+-----------+------------------+--------------------+\nonly showing top 10 rows\n\n",
     "output_type": "stream"
    }
   ]
  },
  {
   "cell_type": "markdown",
   "source": "**Summary of numerical variables**",
   "metadata": {
    "tags": [],
    "cell_id": "00064-477f1177-53e8-4343-9267-03f1f02dcd05",
    "deepnote_cell_type": "markdown"
   }
  },
  {
   "cell_type": "code",
   "metadata": {
    "deepnote_to_be_reexecuted": false,
    "execution_millis": 26098,
    "execution_start": 1620231581706,
    "source_hash": "556bf1dc",
    "cell_id": "00065-89ff4efa-87fa-44a8-8f37-a45946b79bb5",
    "deepnote_cell_type": "code"
   },
   "source": "uhf.show(10)",
   "execution_count": null,
   "outputs": [
    {
     "name": "stdout",
     "text": "+-------------+--------------------+----------+-----+-----------+------------------+--------------------+\n|      Borough|   Neighborhood name|Population|Count|Avg(Income)|    Avg(closeTime)| Percent(Population)|\n+-------------+--------------------+----------+-----+-----------+------------------+--------------------+\n|       QUEENS|            Rockaway|      3540|  104|   105750.0| 40.07692307692308| 0.02937853107344633|\n|    MANHATTAN|     Lower Manhattan|      9384|  300|   182760.0|38.236666666666665|  0.0319693094629156|\n|    MANHATTAN|     Lower Manhattan|      8831|  272|   189702.0|31.176470588235293|0.030800588834786546|\n|       QUEENS|            Rockaway|     12919| 3310|    60569.0| 25.67703927492447| 0.25621178109760817|\n|    MANHATTAN|     Lower Manhattan|      7023|  459|   224063.0|22.363834422657952| 0.06535668517727466|\n|       QUEENS|Bayside - Little ...|     19621| 1157|    83063.0| 22.33275713050994|0.058967432852555936|\n|        BRONX|     Northeast Bronx|     43208| 4280|    51951.0| 21.95981308411215| 0.09905573042029253|\n|       QUEENS|         West Queens|     37279| 3638|    77710.0|20.942001099505223| 0.09758845462592881|\n|STATEN ISLAND|South Beach - Tot...|     15232|  500|    85103.0|            20.612| 0.03282563025210084|\n|    MANHATTAN|     Lower Manhattan|      3028|  216|   190223.0|20.578703703703702|   0.071334214002642|\n+-------------+--------------------+----------+-----+-----------+------------------+--------------------+\nonly showing top 10 rows\n\n",
     "output_type": "stream"
    }
   ]
  },
  {
   "cell_type": "code",
   "metadata": {
    "deepnote_to_be_reexecuted": false,
    "execution_millis": 139,
    "execution_start": 1620231607801,
    "source_hash": "e7fc2fe4",
    "cell_id": "00066-609da4d3-fc2e-46cc-83e0-228ec8a8e776",
    "deepnote_cell_type": "code"
   },
   "source": "comp.show(1)",
   "execution_count": null,
   "outputs": [
    {
     "name": "stdout",
     "text": "+-----+-----------+---------+----------+---------+-----------+----------------+------+---------+---------------+-------------+---------------+-------------+------+-------+--------+------+----------+--------------------+----------+---------+-------+-----------+------------+-----+---+---------+--------------+------------+----------+---------------------+---------------+-----------------------------+--------------------------------+--------+--------------------+---------+------------+-------------+\n|  Zip|ComplaintID|ProblemID|UnitTypeID| UnitType|SpaceTypeID|       SpaceType|TypeID|     Type|MajorCategoryID|MajorCategory|MinorCategoryID|MinorCategory|CodeID|   Code|StatusID|Status|StatusDate|   StatusDescription|BuildingID|BoroughID|Borough|HouseNumber|  StreetName|Block|Lot|Apartment|CommunityBoard|ReceivedDate|Population|All Households Income|Families Income|Families with Children Income|Families without Children Income|UHF code|   Neighborhood name|closeTime|ReceivedYear|ReceivedMonth|\n+-----+-----------+---------+----------+---------+-----------+----------------+------+---------+---------------+-------------+---------------+-------------+------+-------+--------+------+----------+--------------------+----------+---------+-------+-----------+------------+-----+---+---------+--------------+------------+----------+---------------------+---------------+-----------------------------+--------------------------------+--------+--------------------+---------+------------+-------------+\n|10459|    2720458|  4425772|        20|APARTMENT|         68|ENTIRE APARTMENT|     1|EMERGENCY|             12|      HEATING|            196| HEAT RELATED|  1358|NO HEAT|       2| CLOSE|02/05/2005|The Department of...|    107232|        2|  BRONX|        954|ROGERS PLACE| 2699| 12|        1|             2|  01/27/2005|     48351|              29284.0|        35536.0|                      31228.0|                         44762.0|     107|Hunts Point - Mot...|        9|        2005|            1|\n+-----+-----------+---------+----------+---------+-----------+----------------+------+---------+---------------+-------------+---------------+-------------+------+-------+--------+------+----------+--------------------+----------+---------+-------+-----------+------------+-----+---+---------+--------------+------------+----------+---------------------+---------------+-----------------------------+--------------------------------+--------+--------------------+---------+------------+-------------+\nonly showing top 1 row\n\n",
     "output_type": "stream"
    }
   ]
  },
  {
   "cell_type": "markdown",
   "source": "**Exploring the economic makeup of NYC neighborhoods:**",
   "metadata": {
    "cell_id": "00067-e0db6143-4b4b-4f7b-a118-85a7316e7ef4",
    "deepnote_cell_type": "markdown"
   }
  },
  {
   "cell_type": "code",
   "metadata": {
    "deepnote_to_be_reexecuted": false,
    "execution_millis": 22708,
    "execution_start": 1620231607935,
    "source_hash": "7c2befa1",
    "cell_id": "00068-fe792a7d-622e-4790-8b67-a3a8cb71876a",
    "deepnote_cell_type": "code"
   },
   "source": "comp.groupBy(\"Borough\").avg(\"All Households Income\").show(10,False)",
   "execution_count": null,
   "outputs": [
    {
     "name": "stdout",
     "text": "+-------------+--------------------------+\n|Borough      |avg(All Households Income)|\n+-------------+--------------------------+\n|QUEENS       |65724.93597820567         |\n|BROOKLYN     |57119.88488115062         |\n|BRONX        |36608.86719392301         |\n|MANHATTAN    |69343.19552112737         |\n|STATEN ISLAND|68327.11288936784         |\n+-------------+--------------------------+\n\n",
     "output_type": "stream"
    }
   ]
  },
  {
   "cell_type": "code",
   "metadata": {
    "deepnote_to_be_reexecuted": false,
    "execution_millis": 23911,
    "execution_start": 1620231630638,
    "source_hash": "c8236bf2",
    "cell_id": "00069-f6f0c613-3fe6-43a1-b6c6-5d1b7ab08a7d",
    "deepnote_cell_type": "code"
   },
   "source": "comp.groupBy(\"Borough\",\"Neighborhood name\").avg(\"All Households Income\").show(10,False)",
   "execution_count": null,
   "outputs": [
    {
     "name": "stdout",
     "text": "+---------+-------------------------------+--------------------------+\n|Borough  |Neighborhood name              |avg(All Households Income)|\n+---------+-------------------------------+--------------------------+\n|BROOKLYN |Downtown - Heights - Park Slope|107503.04728318125        |\n|MANHATTAN|Greenwich Village - SoHo       |119054.20453088266        |\n|QUEENS   |Rockaway                       |55117.31749208544         |\n|MANHATTAN|Gramercy Park - Murray Hill    |134754.026503128          |\n|BROOKLYN |Canarsie - Flatlands           |72339.48304149676         |\n|QUEENS   |Flushing - Clearview           |47629.52002402883         |\n|BRONX    |Fordham - Bronx Park           |37525.64182985035         |\n|BROOKLYN |Bensonhurst - Bay Ridge        |68270.50093817894         |\n|QUEENS   |Jamaica                        |65319.01840953308         |\n|BRONX    |Hunts Point - Mott Haven       |26779.82650861248         |\n+---------+-------------------------------+--------------------------+\nonly showing top 10 rows\n\n",
     "output_type": "stream"
    }
   ]
  },
  {
   "cell_type": "code",
   "metadata": {
    "deepnote_to_be_reexecuted": false,
    "execution_millis": 23925,
    "execution_start": 1620231654542,
    "source_hash": "20102132",
    "cell_id": "00070-e16fcab7-eba4-4d16-9bb8-80ce6644adb8",
    "deepnote_cell_type": "code"
   },
   "source": "comp.groupBy(\"Borough\",\"Neighborhood name\").min(\"All Households Income\").show(10,False)",
   "execution_count": null,
   "outputs": [
    {
     "name": "stdout",
     "text": "+---------+-------------------------------+--------------------------+\n|Borough  |Neighborhood name              |min(All Households Income)|\n+---------+-------------------------------+--------------------------+\n|BROOKLYN |Downtown - Heights - Park Slope|58872.0                   |\n|MANHATTAN|Greenwich Village - SoHo       |106467.0                  |\n|QUEENS   |Rockaway                       |46819.0                   |\n|MANHATTAN|Gramercy Park - Murray Hill    |126628.0                  |\n|BROOKLYN |Canarsie - Flatlands           |29172.0                   |\n|QUEENS   |Flushing - Clearview           |40786.0                   |\n|BRONX    |Fordham - Bronx Park           |35423.0                   |\n|BROOKLYN |Bensonhurst - Bay Ridge        |56911.0                   |\n|QUEENS   |Jamaica                        |54253.0                   |\n|BRONX    |Hunts Point - Mott Haven       |21447.0                   |\n+---------+-------------------------------+--------------------------+\nonly showing top 10 rows\n\n",
     "output_type": "stream"
    }
   ]
  },
  {
   "cell_type": "code",
   "metadata": {
    "deepnote_to_be_reexecuted": false,
    "execution_millis": 24244,
    "execution_start": 1620231678441,
    "source_hash": "359fe678",
    "cell_id": "00071-79778e8d-74f3-4e1a-93f3-8622fc1a8273",
    "deepnote_cell_type": "code"
   },
   "source": "comp.groupBy(\"Borough\",\"Neighborhood name\").max(\"All Households Income\").show(10,False)",
   "execution_count": null,
   "outputs": [
    {
     "name": "stdout",
     "text": "+---------+-------------------------------+--------------------------+\n|Borough  |Neighborhood name              |max(All Households Income)|\n+---------+-------------------------------+--------------------------+\n|BROOKLYN |Downtown - Heights - Park Slope|132091.0                  |\n|MANHATTAN|Greenwich Village - SoHo       |133501.0                  |\n|QUEENS   |Rockaway                       |105750.0                  |\n|MANHATTAN|Gramercy Park - Murray Hill    |150718.0                  |\n|BROOKLYN |Canarsie - Flatlands           |85807.0                   |\n|QUEENS   |Flushing - Clearview           |85818.0                   |\n|BRONX    |Fordham - Bronx Park           |39372.0                   |\n|BROOKLYN |Bensonhurst - Bay Ridge        |77917.0                   |\n|QUEENS   |Jamaica                        |81608.0                   |\n|BRONX    |Hunts Point - Mott Haven       |29284.0                   |\n+---------+-------------------------------+--------------------------+\nonly showing top 10 rows\n\n",
     "output_type": "stream"
    }
   ]
  },
  {
   "cell_type": "markdown",
   "source": "**Types of complaints by income**",
   "metadata": {
    "cell_id": "00072-e9954d31-8ba7-4861-a10d-2447a91c8168",
    "deepnote_cell_type": "markdown"
   }
  },
  {
   "cell_type": "code",
   "metadata": {
    "deepnote_to_be_reexecuted": false,
    "execution_millis": 22402,
    "execution_start": 1620231702678,
    "source_hash": "6505630c",
    "cell_id": "00073-8380d9bd-27b7-4661-b4de-c7a935c88638",
    "deepnote_cell_type": "code"
   },
   "source": "comp.groupBy(\"MajorCategory\").avg(\"All Households Income\").show(10,False)",
   "execution_count": null,
   "outputs": [
    {
     "name": "stdout",
     "text": "+--------------------+--------------------------+\n|MajorCategory       |avg(All Households Income)|\n+--------------------+--------------------------+\n|SAFETY              |54493.5875568551          |\n|ELECTRIC            |54657.67934255499         |\n|DOOR/WINDOW         |52886.70612327992         |\n|FLOORING/STAIRS     |52387.49334801552         |\n|OUTSIDE BUILDING    |57412.81343534555         |\n|UNSANITARY CONDITION|54312.28436648193         |\n|APPLIANCE           |52033.54979705637         |\n|CONSTRUCTION        |62718.818181818184        |\n|ELEVATOR            |56134.57711609234         |\n|NONCONST            |57529.28947368421         |\n+--------------------+--------------------------+\nonly showing top 10 rows\n\n",
     "output_type": "stream"
    }
   ]
  },
  {
   "cell_type": "markdown",
   "source": "**Types of complaints by neighborhood**",
   "metadata": {
    "tags": [],
    "cell_id": "00074-5ddf97aa-a590-449c-b31e-f6cf518a4b2d",
    "deepnote_cell_type": "markdown"
   }
  },
  {
   "cell_type": "code",
   "metadata": {
    "deepnote_to_be_reexecuted": false,
    "execution_millis": 26084,
    "execution_start": 1620231725073,
    "source_hash": "549551c6",
    "cell_id": "00075-92da7530-ec0a-4b06-b6af-a834080f821d",
    "deepnote_cell_type": "code"
   },
   "source": "comp.groupBy(\"Borough\", \"Neighborhood name\", \"MajorCategory\") \\\n    .count() \\\n    .sort(asc(\"Borough\")) \\\n    .sort(asc(\"Neighborhood name\")) \\\n    .sort(asc(\"MajorCategory\")) \\\n    .sort(desc(\"count\")) \\\n    .show(truncate=False)",
   "execution_count": null,
   "outputs": [
    {
     "name": "stdout",
     "text": "+---------+------------------------------------+--------------------+------+\n|Borough  |Neighborhood name                   |MajorCategory       |count |\n+---------+------------------------------------+--------------------+------+\n|BRONX    |Fordham - Bronx Park                |HEAT/HOT WATER      |125800|\n|MANHATTAN|Washington Heights - Inwood         |HEAT/HOT WATER      |120838|\n|BROOKLYN |East Flatbush - Flatbush            |HEAT/HOT WATER      |106777|\n|BRONX    |Crotona - Tremont                   |HEAT/HOT WATER      |98114 |\n|BROOKLYN |Bedford Stuyvesant - Crown Heights  |HEAT/HOT WATER      |92455 |\n|BRONX    |High Bridge - Morrisania            |HEAT/HOT WATER      |81506 |\n|BRONX    |Pelham - Throgs Neck                |HEAT/HOT WATER      |74101 |\n|MANHATTAN|Central Harlem - Morningside Heights|HEAT/HOT WATER      |52521 |\n|QUEENS   |West Queens                         |HEAT/HOT WATER      |51603 |\n|BROOKLYN |East Flatbush - Flatbush            |UNSANITARY CONDITION|48251 |\n|BROOKLYN |Bedford Stuyvesant - Crown Heights  |UNSANITARY CONDITION|45490 |\n|BRONX    |Fordham - Bronx Park                |UNSANITARY CONDITION|44130 |\n|BRONX    |Crotona - Tremont                   |UNSANITARY CONDITION|42280 |\n|BRONX    |Fordham - Bronx Park                |PAINT/PLASTER       |41903 |\n|MANHATTAN|Washington Heights - Inwood         |PAINT/PLASTER       |40152 |\n|MANHATTAN|Washington Heights - Inwood         |UNSANITARY CONDITION|39902 |\n|BROOKLYN |Borough Park                        |HEAT/HOT WATER      |39570 |\n|BRONX    |Hunts Point - Mott Haven            |HEAT/HOT WATER      |39460 |\n|BROOKLYN |East Flatbush - Flatbush            |PAINT/PLASTER       |38332 |\n|BRONX    |High Bridge - Morrisania            |UNSANITARY CONDITION|36995 |\n+---------+------------------------------------+--------------------+------+\nonly showing top 20 rows\n\n",
     "output_type": "stream"
    }
   ]
  },
  {
   "cell_type": "markdown",
   "source": "**Neighborhoods in our sample**",
   "metadata": {
    "tags": [],
    "cell_id": "00076-5c112645-6ec1-4715-83fd-4b4b978a37c5",
    "deepnote_cell_type": "markdown"
   }
  },
  {
   "cell_type": "code",
   "metadata": {
    "deepnote_to_be_reexecuted": false,
    "execution_millis": 25492,
    "execution_start": 1620231751151,
    "source_hash": "98e6eb4e",
    "cell_id": "00077-9334e0c3-1657-4bc0-b2f7-460dc685030f",
    "deepnote_cell_type": "code"
   },
   "source": "uhf_neighborhood_names = uhf.select(\"Neighborhood name\").distinct()\nuhf_neighborhood_names.show()",
   "execution_count": null,
   "outputs": [
    {
     "name": "stdout",
     "text": "+--------------------+\n|   Neighborhood name|\n+--------------------+\n|     Northeast Bronx|\n|Greenwich Village...|\n|     Lower Manhattan|\n|Central Harlem - ...|\n|Stapleton - St. G...|\n|Union Square - Lo...|\n|    Southeast Queens|\n|East Flatbush - F...|\n|Ridgewood - Fores...|\n|     Upper East Side|\n|Downtown - Height...|\n|Hunts Point - Mot...|\n|Gramercy Park - M...|\n|    Southwest Queens|\n|         East Harlem|\n|Fordham - Bronx Park|\n|         Sunset Park|\n|Bensonhurst - Bay...|\n|Bedford Stuyvesan...|\n|Coney Island - Sh...|\n+--------------------+\nonly showing top 20 rows\n\n",
     "output_type": "stream"
    }
   ]
  },
  {
   "cell_type": "code",
   "metadata": {
    "deepnote_to_be_reexecuted": false,
    "execution_millis": 25876,
    "execution_start": 1620231806938,
    "source_hash": "549551c6",
    "cell_id": "00080-aaad1ba1-1d26-4946-9b75-11a98cf40dfe",
    "deepnote_cell_type": "code"
   },
   "source": "comp.groupBy(\"Borough\", \"Neighborhood name\", \"MajorCategory\") \\\n    .count() \\\n    .sort(asc(\"Borough\")) \\\n    .sort(asc(\"Neighborhood name\")) \\\n    .sort(asc(\"MajorCategory\")) \\\n    .sort(desc(\"count\")) \\\n    .show(truncate=False)",
   "execution_count": null,
   "outputs": [
    {
     "name": "stdout",
     "text": "+---------+------------------------------------+--------------------+------+\n|Borough  |Neighborhood name                   |MajorCategory       |count |\n+---------+------------------------------------+--------------------+------+\n|BRONX    |Fordham - Bronx Park                |HEAT/HOT WATER      |125800|\n|MANHATTAN|Washington Heights - Inwood         |HEAT/HOT WATER      |120838|\n|BROOKLYN |East Flatbush - Flatbush            |HEAT/HOT WATER      |106777|\n|BRONX    |Crotona - Tremont                   |HEAT/HOT WATER      |98114 |\n|BROOKLYN |Bedford Stuyvesant - Crown Heights  |HEAT/HOT WATER      |92455 |\n|BRONX    |High Bridge - Morrisania            |HEAT/HOT WATER      |81506 |\n|BRONX    |Pelham - Throgs Neck                |HEAT/HOT WATER      |74101 |\n|MANHATTAN|Central Harlem - Morningside Heights|HEAT/HOT WATER      |52521 |\n|QUEENS   |West Queens                         |HEAT/HOT WATER      |51603 |\n|BROOKLYN |East Flatbush - Flatbush            |UNSANITARY CONDITION|48251 |\n|BROOKLYN |Bedford Stuyvesant - Crown Heights  |UNSANITARY CONDITION|45490 |\n|BRONX    |Fordham - Bronx Park                |UNSANITARY CONDITION|44130 |\n|BRONX    |Crotona - Tremont                   |UNSANITARY CONDITION|42280 |\n|BRONX    |Fordham - Bronx Park                |PAINT/PLASTER       |41903 |\n|MANHATTAN|Washington Heights - Inwood         |PAINT/PLASTER       |40152 |\n|MANHATTAN|Washington Heights - Inwood         |UNSANITARY CONDITION|39902 |\n|BROOKLYN |Borough Park                        |HEAT/HOT WATER      |39570 |\n|BRONX    |Hunts Point - Mott Haven            |HEAT/HOT WATER      |39460 |\n|BROOKLYN |East Flatbush - Flatbush            |PAINT/PLASTER       |38332 |\n|BRONX    |High Bridge - Morrisania            |UNSANITARY CONDITION|36995 |\n+---------+------------------------------------+--------------------+------+\nonly showing top 20 rows\n\n",
     "output_type": "stream"
    }
   ]
  },
  {
   "cell_type": "code",
   "metadata": {
    "deepnote_to_be_reexecuted": false,
    "execution_millis": 26091,
    "execution_start": 1620231832811,
    "source_hash": "484d759",
    "cell_id": "00081-aeea72ec-36c1-4110-89d0-9ec0305d8108",
    "deepnote_cell_type": "code"
   },
   "source": "# Most complaints\nuhf.sort(asc(\"Percent(Population)\")).show(10, False)",
   "execution_count": null,
   "outputs": [
    {
     "name": "stdout",
     "text": "+-------------+-------------------------+----------+-----+-----------+------------------+--------------------+\n|Borough      |Neighborhood name        |Population|Count|Avg(Income)|Avg(closeTime)    |Percent(Population) |\n+-------------+-------------------------+----------+-----+-----------+------------------+--------------------+\n|BRONX        |West Queens              |32514     |1    |63706.0    |1.0               |3.075598203850649E-5|\n|QUEENS       |Bayside - Little Neck    |18721     |392  |93333.0    |16.783163265306122|0.020939052401046952|\n|STATEN ISLAND|South Beach - Tottenville|61741     |1409 |97407.0    |19.522356281050392|0.022821139923227676|\n|STATEN ISLAND|South Beach - Tottenville|30186     |735  |103027.0   |16.862585034013605|0.024349035976942955|\n|QUEENS       |Rockaway                 |3540      |104  |105750.0   |40.07692307692308 |0.02937853107344633 |\n|STATEN ISLAND|South Beach - Tottenville|33531     |1010 |109457.0   |20.41683168316832 |0.030121380215323134|\n|MANHATTAN    |Lower Manhattan          |8831      |272  |189702.0   |31.176470588235293|0.030800588834786546|\n|MANHATTAN    |Lower Manhattan          |9384      |300  |182760.0   |38.236666666666665|0.0319693094629156  |\n|STATEN ISLAND|South Beach - Tottenville|15232     |500  |85103.0    |20.612            |0.03282563025210084 |\n|QUEENS       |Flushing - Clearview     |39902     |1378 |85818.0    |19.933962264150942|0.03453460979399529 |\n+-------------+-------------------------+----------+-----+-----------+------------------+--------------------+\nonly showing top 10 rows\n\n",
     "output_type": "stream"
    }
   ]
  },
  {
   "cell_type": "code",
   "metadata": {
    "deepnote_to_be_reexecuted": false,
    "execution_millis": 24484,
    "execution_start": 1620231858896,
    "source_hash": "abda775",
    "tags": [],
    "cell_id": "00082-edc6e5eb-ea82-4cf5-9487-1aeaa322a186",
    "deepnote_cell_type": "code"
   },
   "source": "desc = df.describe(num_col)\ndesc.show()",
   "execution_count": null,
   "outputs": [
    {
     "name": "stdout",
     "text": "+-------+------------------+---------------------+------------------+-----------------------------+--------------------------------+------------------+\n|summary|        Population|All Households Income|   Families Income|Families with Children Income|Families without Children Income|         closeTime|\n+-------+------------------+---------------------+------------------+-----------------------------+--------------------------------+------------------+\n|  count|           4175162|              4175162|           4175162|                      4175162|                         4175162|           4175162|\n|   mean| 68118.88087576003|   54195.012568374594|65389.177216836135|             62019.6917743551|                69750.4905977301|14.012275691338443|\n| stddev|22191.159455636604|   23990.019294056954|  38931.4666443726|           48013.751936077206|              32867.073870101995| 38.10607940569296|\n|    min|              3028|              21447.0|           25429.0|                      20114.0|                         29907.0|                 0|\n|    max|            112425|             224063.0|          250001.0|                     250001.0|                        250001.0|              6531|\n+-------+------------------+---------------------+------------------+-----------------------------+--------------------------------+------------------+\n\n",
     "output_type": "stream"
    }
   ]
  },
  {
   "cell_type": "markdown",
   "source": "## Model construction",
   "metadata": {
    "tags": [],
    "cell_id": "00083-ee623f17-d421-4598-a741-bcfd3c5d6418",
    "deepnote_cell_type": "markdown"
   }
  },
  {
   "cell_type": "markdown",
   "source": "**Splitting/sampling**",
   "metadata": {
    "cell_id": "00084-938b45de-1b26-4f1f-9a7f-0aab8a4972d2",
    "deepnote_cell_type": "markdown"
   }
  },
  {
   "cell_type": "code",
   "metadata": {
    "deepnote_to_be_reexecuted": false,
    "execution_millis": 5,
    "execution_start": 1620231883352,
    "source_hash": "154fe052",
    "cell_id": "00085-d4b2b910-f127-4abb-a786-b133e32d535a",
    "deepnote_cell_type": "code"
   },
   "source": "# # Splits\n# splits = df.randomSplit([0.7, 0.3])\n# train_df = splits[0]\n# test_df = splits[1]\n\ntrain_df = df",
   "execution_count": null,
   "outputs": []
  },
  {
   "cell_type": "markdown",
   "source": "**Encoding/scaling**",
   "metadata": {
    "tags": [],
    "cell_id": "00086-a6aab433-5d7c-4cab-812e-4a351f21efea",
    "deepnote_cell_type": "markdown"
   }
  },
  {
   "cell_type": "code",
   "metadata": {
    "deepnote_to_be_reexecuted": false,
    "execution_millis": 8,
    "execution_start": 1620231883364,
    "source_hash": "938a8b35",
    "cell_id": "00087-d9b62226-3e99-44e7-b7c8-9015e1a68c82",
    "deepnote_cell_type": "code"
   },
   "source": "def reg_pipe(cc, nc, tdf):\n    cc_idx = [x+'_idx' for x in cc]\n    cc_vec = [x+'_vec' for x in cc]\n    fts = []\n    fts = cc_vec + nc\n    \n    # String indexer and encoder\n    # https://stackoverflow.com/questions/36942233/apply-stringindexer-to-several-columns-in-a-pyspark-dataframe\n    stringIndexer = StringIndexer(inputCols=cc, outputCols=cc_idx)\n    encoder = OneHotEncoder(inputCols=cc_idx, outputCols=cc_vec)\n\n    # Assembler and scaler\n    vectorAssembler = VectorAssembler(inputCols = fts , outputCol = 'features', handleInvalid=\"skip\")\n    scaler = StandardScaler(inputCol = 'features', outputCol = 'standardized')\n\n    # Pipeline\n    cat_pipeline = Pipeline(stages = [stringIndexer, encoder])\n    combine_pipeline = Pipeline(stages = [vectorAssembler, scaler])\n    \n    # categorical pipeline\n    cat = cat_pipeline.fit(tdf).transform(tdf)\n\n    # combined pipeline\n    combine = combine_pipeline.fit(cat).transform(cat)\n\n    # select columns\n    train_combine = combine.select(['standardized', 'closeTime'])\n    \n    return train_combine",
   "execution_count": null,
   "outputs": []
  },
  {
   "cell_type": "markdown",
   "source": "#### Feature selection",
   "metadata": {
    "cell_id": "00088-1737ab49-060b-4c9e-a731-9ec45e57a805",
    "deepnote_cell_type": "markdown"
   }
  },
  {
   "cell_type": "markdown",
   "source": "**Correlations:** We run correlations between our quantitative variables and our response variable to help inform our initial feature selection. However, none of the pouplation nor income features appear to be strongly correlated to our response variable. This is surprising given the results of our data exploration. Nevertheless, the below correlations are helpful in selecting between the various income features - the All Households Income has the highest correlation of the income features. ",
   "metadata": {
    "cell_id": "00089-5ad4ead5-9e22-44b5-90ea-bca622f36d43",
    "deepnote_cell_type": "markdown"
   }
  },
  {
   "cell_type": "code",
   "metadata": {
    "cell_id": "00090-ea5dfdda-de8b-4e67-b44d-627a5383ee24",
    "deepnote_to_be_reexecuted": false,
    "source_hash": "411a1dcc",
    "execution_start": 1620231883375,
    "execution_millis": 127572,
    "deepnote_cell_type": "code"
   },
   "source": "import six\nfor i in num_col:\n    if not( isinstance(df.select(i).take(1)[0][0], six.string_types)):\n        print( \"Correlation to closeTime for \", i, df.stat.corr('closeTime',i))",
   "execution_count": null,
   "outputs": [
    {
     "name": "stdout",
     "text": "Correlation to closeTime for  Population -0.025855236328645795\nCorrelation to closeTime for  All Households Income 0.011734007873857703\nCorrelation to closeTime for  Families Income 0.00862769584767148\nCorrelation to closeTime for  Families with Children Income 0.009789431449704879\nCorrelation to closeTime for  Families without Children Income 0.007199489800867189\nCorrelation to closeTime for  closeTime 1.0\n",
     "output_type": "stream"
    }
   ]
  },
  {
   "cell_type": "markdown",
   "source": "Given the correlations above, we check the performance of a simple linear regression containing all of the variables.",
   "metadata": {
    "cell_id": "00091-290583d0-250a-47f8-91f5-24053a7d1946",
    "deepnote_cell_type": "markdown"
   }
  },
  {
   "cell_type": "code",
   "metadata": {
    "deepnote_to_be_reexecuted": false,
    "source_hash": "115cf247",
    "execution_start": 1620232010946,
    "execution_millis": 582278,
    "cell_id": "00092-75c96f61-bfc5-4929-9666-225934b079af",
    "deepnote_cell_type": "code"
   },
   "source": "# columns\ncat_v1 = ['Zip', 'UnitType', 'SpaceType', 'Type', 'MajorCategory', 'MinorCategory', 'Code', 'Borough', 'Neighborhood name', 'ReceivedMonth', 'ReceivedYear']\nnum_v1 = ['Population', 'All Households Income', 'Families Income', 'Families with Children Income', 'Families without Children Income']\n\n# Linear regression\nlr = LinearRegression(featuresCol = 'standardized', labelCol='closeTime', maxIter=10, regParam=0.3, elasticNetParam=0.8)\n\n# run pipeline\ntrain_v1 = reg_pipe(cat_v1, num_v1, train_df)\n\n# Linear regression\nlr_model_v1 = lr.fit(train_v1)\ntrainingSummary_v1 = lr_model_v1.summary\n\n#print(\"Coefficients: \" + str(lr_model.coefficients))\n#print(\"Intercept: \" + str(lr_model.intercept))\nprint(\"RMSE: %f\" % trainingSummary_v1.rootMeanSquaredError)\nprint(\"r2: %f\" % trainingSummary_v1.r2)\nprint(\"adj r2: %f\" % trainingSummary_v1.r2adj)",
   "execution_count": null,
   "outputs": [
    {
     "name": "stdout",
     "text": "RMSE: 32.987369\nr2: 0.250612\nadj r2: 0.250493\n",
     "output_type": "stream"
    }
   ]
  },
  {
   "cell_type": "markdown",
   "source": "As a benchmark, we also compare our model to one containing only Household Income. However, we note that our adj r2 measure is much weaker and the categorical variables clearly are contributing to the model. ",
   "metadata": {
    "tags": [],
    "cell_id": "00093-f46e14a9-1bad-4a7c-8d0f-286ac1341b93",
    "deepnote_cell_type": "markdown"
   }
  },
  {
   "cell_type": "code",
   "metadata": {
    "cell_id": "00094-8538b313-1f0b-4d84-92f2-638f7767bfa1",
    "deepnote_to_be_reexecuted": false,
    "source_hash": "b4b31d35",
    "execution_start": 1620232593221,
    "execution_millis": 120008,
    "deepnote_cell_type": "code"
   },
   "source": "# columns\ncat_v2 = []\nnum_v2 = ['All Households Income']\n\n# Linear regression\nlr = LinearRegression(featuresCol = 'standardized', labelCol='closeTime', maxIter=10, regParam=0.3, elasticNetParam=0.8)\n\n# run pipeline\ntrain_v2 = reg_pipe(cat_v2, num_v2, train_df)\n\n# Linear regression\nlr_model_v2 = lr.fit(train_v2)\ntrainingSummary_v2 = lr_model_v2.summary\n\n#print(\"Coefficients: \" + str(lr_model.coefficients))\n#print(\"Intercept: \" + str(lr_model.intercept))\nprint(\"RMSE: %f\" % trainingSummary_v2.rootMeanSquaredError)\nprint(\"r2: %f\" % trainingSummary_v2.r2)\nprint(\"adj r2: %f\" % trainingSummary_v2.r2adj)",
   "execution_count": null,
   "outputs": [
    {
     "name": "stdout",
     "text": "RMSE: 38.104209\nr2: 0.000098\nadj r2: 0.000098\n",
     "output_type": "stream"
    }
   ]
  },
  {
   "cell_type": "markdown",
   "source": "Next we look at reducing our quantitative variables. We try a model with all of the categorical variables and only Household Income. We suspect that there is enough overlap between Household Income and the other income/population measures that we would only need one. Our results confirm this suspicion and we proceed without the extra quantitative variables. ",
   "metadata": {
    "cell_id": "00095-fbd5cc1d-663a-451a-945d-fb2e96aa0057",
    "deepnote_cell_type": "markdown"
   }
  },
  {
   "cell_type": "code",
   "metadata": {
    "deepnote_to_be_reexecuted": false,
    "source_hash": "dfbbd4b4",
    "execution_start": 1620232713222,
    "execution_millis": 577016,
    "cell_id": "00096-238c4145-2ed7-4625-8058-cba686d80ba8",
    "deepnote_cell_type": "code"
   },
   "source": "# columns\ncat_v2 = ['Zip', 'UnitType', 'SpaceType', 'Type', 'MajorCategory', 'MinorCategory', 'Code', 'Borough', 'Neighborhood name','ReceivedMonth', 'ReceivedYear']\nnum_v2 = ['All Households Income']\n\n# Linear regression\nlr = LinearRegression(featuresCol = 'standardized', labelCol='closeTime', maxIter=10, regParam=0.3, elasticNetParam=0.8)\n\n# run pipeline\ntrain_v2 = reg_pipe(cat_v2, num_v2, train_df)\n\n# Linear regression\nlr_model_v2 = lr.fit(train_v2)\ntrainingSummary_v2 = lr_model_v2.summary\n\n#print(\"Coefficients: \" + str(lr_model.coefficients))\n#print(\"Intercept: \" + str(lr_model.intercept))\nprint(\"RMSE: %f\" % trainingSummary_v2.rootMeanSquaredError)\nprint(\"r2: %f\" % trainingSummary_v2.r2)\nprint(\"adj r2: %f\" % trainingSummary_v2.r2adj)",
   "execution_count": null,
   "outputs": [
    {
     "name": "stdout",
     "text": "RMSE: 32.990373\nr2: 0.250475\nadj r2: 0.250357\n",
     "output_type": "stream"
    }
   ]
  },
  {
   "cell_type": "markdown",
   "source": "We will reduce our features next by trimming the categorical variables. We first try UnitType and SpaceType. ",
   "metadata": {
    "cell_id": "00097-f1d100cf-92d3-41b7-aa2e-0d0a3ef9a7e7",
    "deepnote_cell_type": "markdown"
   }
  },
  {
   "cell_type": "code",
   "metadata": {
    "deepnote_to_be_reexecuted": false,
    "source_hash": "db89a468",
    "execution_start": 1620233290230,
    "execution_millis": 492610,
    "cell_id": "00098-e867375e-9426-41c6-8d80-ed0ac8a9b360",
    "deepnote_cell_type": "code"
   },
   "source": "# columns\ncat_v3 = ['Zip', 'Type', 'MajorCategory', 'MinorCategory', 'Code', 'Borough', 'Neighborhood name', 'ReceivedMonth', 'ReceivedYear']\nnum_v3 = ['All Households Income']\n\n# Linear regression\nlr = LinearRegression(featuresCol = 'standardized', labelCol='closeTime', maxIter=10, regParam=0.3, elasticNetParam=0.8)\n\n# run pipeline\ntrain_v3 = reg_pipe(cat_v3, num_v3, train_df)\n\n# Linear regression\nlr_model_v3 = lr.fit(train_v3)\ntrainingSummary_v3 = lr_model_v3.summary\n\n#print(\"Coefficients: \" + str(lr_model.coefficients))\n#print(\"Intercept: \" + str(lr_model.intercept))\nprint(\"RMSE: %f\" % trainingSummary_v3.rootMeanSquaredError)\nprint(\"r2: %f\" % trainingSummary_v3.r2)\nprint(\"adj r2: %f\" % trainingSummary_v3.r2adj)",
   "execution_count": null,
   "outputs": [
    {
     "name": "stdout",
     "text": "RMSE: 33.030910\nr2: 0.248632\nadj r2: 0.248524\n",
     "output_type": "stream"
    }
   ]
  },
  {
   "cell_type": "markdown",
   "source": "Next we look at reducing the location-based variables. We run our model without borough and zip (as both are contained in neighborhood name already). ",
   "metadata": {
    "cell_id": "00099-d5adc24d-d877-482f-ad9c-19b68b6f7ec0",
    "deepnote_cell_type": "markdown"
   }
  },
  {
   "cell_type": "code",
   "metadata": {
    "deepnote_to_be_reexecuted": false,
    "source_hash": "d9013b8d",
    "execution_start": 1620233782826,
    "execution_millis": 413739,
    "cell_id": "00100-aa5a646e-8c33-461a-a309-7481cdb17ec9",
    "deepnote_cell_type": "code"
   },
   "source": "# columns\ncat_v4 = ['Type', 'MajorCategory', 'MinorCategory', 'Code', 'Neighborhood name', 'ReceivedMonth', 'ReceivedYear']\nnum_v4 = ['All Households Income']\n\n# Linear regression\nlr = LinearRegression(featuresCol = 'standardized', labelCol='closeTime', maxIter=10, regParam=0.3, elasticNetParam=0.8)\n\n# run pipeline\ntrain_v4 = reg_pipe(cat_v4, num_v4, train_df)\n\n# Linear regression\nlr_model_v4 = lr.fit(train_v4)\ntrainingSummary_v4 = lr_model_v4.summary\n\n#print(\"Coefficients: \" + str(lr_model.coefficients))\n#print(\"Intercept: \" + str(lr_model.intercept))\nprint(\"RMSE: %f\" % trainingSummary_v4.rootMeanSquaredError)\nprint(\"r2: %f\" % trainingSummary_v4.r2)\nprint(\"adj r2: %f\" % trainingSummary_v4.r2adj)",
   "execution_count": null,
   "outputs": [
    {
     "name": "stdout",
     "text": "RMSE: 33.037943\nr2: 0.248312\nadj r2: 0.248235\n",
     "output_type": "stream"
    }
   ]
  },
  {
   "cell_type": "markdown",
   "source": "Next we check if neighborhood is meaningful to our model. ",
   "metadata": {
    "cell_id": "00101-7ced9a74-197b-4656-ab6b-40add93b61c0",
    "deepnote_cell_type": "markdown"
   }
  },
  {
   "cell_type": "code",
   "metadata": {
    "deepnote_to_be_reexecuted": false,
    "source_hash": "d3045f46",
    "execution_start": 1620234196558,
    "execution_millis": 373492,
    "cell_id": "00102-536b613d-c2b2-469f-b69f-e6c582480b37",
    "deepnote_cell_type": "code"
   },
   "source": "# columns\ncat_v5 = ['Type', 'MajorCategory', 'MinorCategory', 'Code', 'ReceivedMonth', 'ReceivedYear']\nnum_v5 = ['All Households Income']\n\n# Linear regression\nlr = LinearRegression(featuresCol = 'standardized', labelCol='closeTime', maxIter=10, regParam=0.3, elasticNetParam=0.8)\n\n# run pipeline\ntrain_v5 = reg_pipe(cat_v5, num_v5, train_df)\n\n# Linear regression\nlr_model_v5 = lr.fit(train_v5)\ntrainingSummary_v5 = lr_model_v5.summary\n\n#print(\"Coefficients: \" + str(lr_model.coefficients))\n#print(\"Intercept: \" + str(lr_model.intercept))\nprint(\"RMSE: %f\" % trainingSummary_v5.rootMeanSquaredError)\nprint(\"r2: %f\" % trainingSummary_v5.r2)\nprint(\"adj r2: %f\" % trainingSummary_v5.r2adj)",
   "execution_count": null,
   "outputs": [
    {
     "name": "stdout",
     "text": "RMSE: 33.067728\nr2: 0.246956\nadj r2: 0.246886\n",
     "output_type": "stream"
    }
   ]
  },
  {
   "cell_type": "markdown",
   "source": "Type and Major Category are emcompassed in MinorCategory.",
   "metadata": {
    "cell_id": "00103-f3944bd4-bd4d-4668-ab23-666b39b87c6e",
    "deepnote_cell_type": "markdown"
   }
  },
  {
   "cell_type": "code",
   "metadata": {
    "deepnote_to_be_reexecuted": false,
    "source_hash": "3352b8a9",
    "execution_start": 1620234570051,
    "execution_millis": 292930,
    "cell_id": "00104-bc68fe0a-0299-4365-b108-1b1cb84e8f52",
    "deepnote_cell_type": "code"
   },
   "source": "# columns\ncat_v6 = ['MinorCategory', 'Code', 'ReceivedMonth', 'ReceivedYear']\nnum_v6 = ['All Households Income']\n\n# Linear regression\nlr = LinearRegression(featuresCol = 'standardized', labelCol='closeTime', maxIter=10, regParam=0.3, elasticNetParam=0.8)\n\n# run pipeline\ntrain_v6 = reg_pipe(cat_v6, num_v6, train_df)\n\n# Linear regression\nlr_model_v6 = lr.fit(train_v6)\ntrainingSummary_v6 = lr_model_v6.summary\n\n#print(\"Coefficients: \" + str(lr_model.coefficients))\n#print(\"Intercept: \" + str(lr_model.intercept))\nprint(\"RMSE: %f\" % trainingSummary_v6.rootMeanSquaredError)\nprint(\"r2: %f\" % trainingSummary_v6.r2)\nprint(\"adj r2: %f\" % trainingSummary_v6.r2adj)",
   "execution_count": null,
   "outputs": [
    {
     "name": "stdout",
     "text": "RMSE: 33.088896\nr2: 0.245992\nadj r2: 0.245925\n",
     "output_type": "stream"
    }
   ]
  },
  {
   "cell_type": "markdown",
   "source": "At this point we have only a few variables left. We compare the adj r2 scores, dropping them one by one. ",
   "metadata": {
    "cell_id": "00105-9de81f4a-31e2-436e-9b6b-0d6375375fed",
    "deepnote_cell_type": "markdown"
   }
  },
  {
   "cell_type": "code",
   "metadata": {
    "deepnote_to_be_reexecuted": false,
    "source_hash": "8af08896",
    "execution_start": 1620234862974,
    "execution_millis": 251093,
    "cell_id": "00106-2494408e-0f80-47b1-afc8-e2e833d7bb6b",
    "deepnote_cell_type": "code"
   },
   "source": "# columns\ncat_v7 = ['Code', 'ReceivedMonth', 'ReceivedYear']\nnum_v7 = ['All Households Income']\n\n# Linear regression\nlr = LinearRegression(featuresCol = 'standardized', labelCol='closeTime', maxIter=10, regParam=0.3, elasticNetParam=0.8)\n\n# run pipeline\ntrain_v7 = reg_pipe(cat_v7, num_v7, train_df)\n\n# Linear regression\nlr_model_v7 = lr.fit(train_v7)\ntrainingSummary_v7 = lr_model_v7.summary\n\n#print(\"Coefficients: \" + str(lr_model.coefficients))\n#print(\"Intercept: \" + str(lr_model.intercept))\nprint(\"RMSE: %f\" % trainingSummary_v7.rootMeanSquaredError)\nprint(\"r2: %f\" % trainingSummary_v7.r2)\nprint(\"adj r2: %f\" % trainingSummary_v7.r2adj)",
   "execution_count": null,
   "outputs": [
    {
     "name": "stdout",
     "text": "RMSE: 33.200443\nr2: 0.240899\nadj r2: 0.240846\n",
     "output_type": "stream"
    }
   ]
  },
  {
   "cell_type": "markdown",
   "source": "It looks like we can go ahead and drop MajorCategory from our model given the other variables present. Next we check code but it appears necessary. ",
   "metadata": {
    "cell_id": "00107-ab0964b0-917b-44e3-adfc-557d4f13e336",
    "deepnote_cell_type": "markdown"
   }
  },
  {
   "cell_type": "code",
   "metadata": {
    "deepnote_to_be_reexecuted": false,
    "source_hash": "6af7a09d",
    "execution_start": 1620235114055,
    "execution_millis": 213294,
    "cell_id": "00108-0fbaefd3-8915-43ea-9c29-8611d15d027a",
    "deepnote_cell_type": "code"
   },
   "source": "# columns\ncat_v8 = ['ReceivedMonth', 'ReceivedYear']\nnum_v8 = ['All Households Income']\n\n# Linear regression\nlr = LinearRegression(featuresCol = 'standardized', labelCol='closeTime', maxIter=10, regParam=0.3, elasticNetParam=0.8)\n\n# run pipeline\ntrain_v8 = reg_pipe(cat_v8, num_v8, train_df)\n\n# Linear regression\nlr_model_v8 = lr.fit(train_v8)\ntrainingSummary_v8 = lr_model_v8.summary\n\n#print(\"Coefficients: \" + str(lr_model.coefficients))\n#print(\"Intercept: \" + str(lr_model.intercept))\nprint(\"RMSE: %f\" % trainingSummary_v8.rootMeanSquaredError)\nprint(\"r2: %f\" % trainingSummary_v8.r2)\nprint(\"adj r2: %f\" % trainingSummary_v8.r2adj)",
   "execution_count": null,
   "outputs": [
    {
     "name": "stdout",
     "text": "RMSE: 34.787343\nr2: 0.166599\nadj r2: 0.166593\n",
     "output_type": "stream"
    }
   ]
  },
  {
   "cell_type": "markdown",
   "source": "Likewise, ReceivedYear seems to be adding information to our model.",
   "metadata": {
    "tags": [],
    "cell_id": "00109-fa372cbe-63f1-480a-ad00-11215258a27c",
    "deepnote_cell_type": "markdown"
   }
  },
  {
   "cell_type": "code",
   "metadata": {
    "deepnote_to_be_reexecuted": false,
    "source_hash": "203ee6e",
    "execution_start": 1620235327333,
    "execution_millis": 215972,
    "cell_id": "00110-97e7ada8-7fbb-4718-bf40-5ce5a9f82c18",
    "deepnote_cell_type": "code"
   },
   "source": "# columns\ncat_v9 = ['Code', 'ReceivedMonth']\nnum_v9 = ['All Households Income']\n\n# Linear regression\nlr = LinearRegression(featuresCol = 'standardized', labelCol='closeTime', maxIter=10, regParam=0.3, elasticNetParam=0.8)\n\n# run pipeline\ntrain_v9 = reg_pipe(cat_v9, num_v9, train_df)\n\n# Linear regression\nlr_model_v9 = lr.fit(train_v9)\ntrainingSummary_v9 = lr_model_v9.summary\n\n#print(\"Coefficients: \" + str(lr_model.coefficients))\n#print(\"Intercept: \" + str(lr_model.intercept))\nprint(\"RMSE: %f\" % trainingSummary_v9.rootMeanSquaredError)\nprint(\"r2: %f\" % trainingSummary_v9.r2)\nprint(\"adj r2: %f\" % trainingSummary_v9.r2adj)",
   "execution_count": null,
   "outputs": [
    {
     "name": "stdout",
     "text": "RMSE: 35.502053\nr2: 0.132002\nadj r2: 0.131946\n",
     "output_type": "stream"
    }
   ]
  },
  {
   "cell_type": "markdown",
   "source": "On the other hand, it looks like we can drop ReceivedMonth.",
   "metadata": {
    "tags": [],
    "cell_id": "00111-6c114d46-31f9-447c-b19f-fc2f47b98a70",
    "deepnote_cell_type": "markdown"
   }
  },
  {
   "cell_type": "code",
   "metadata": {
    "tags": [],
    "deepnote_to_be_reexecuted": false,
    "source_hash": "ebceaccb",
    "execution_start": 1620235543282,
    "execution_millis": 214971,
    "cell_id": "00112-c39c134d-67b6-41cd-970e-c29aaf335f69",
    "deepnote_cell_type": "code"
   },
   "source": "# columns\ncat_v10 = ['Code', 'ReceivedYear']\nnum_v10 = ['All Households Income']\n\n# Linear regression\nlr = LinearRegression(featuresCol = 'standardized', labelCol='closeTime', maxIter=10, regParam=0.3, elasticNetParam=0.8)\n\n# run pipeline\ntrain_v10 = reg_pipe(cat_v10, num_v10, train_df)\n\n# Linear regression\nlr_model_v10 = lr.fit(train_v10)\ntrainingSummary_v10 = lr_model_v10.summary\n\n#print(\"Coefficients: \" + str(lr_model.coefficients))\n#print(\"Intercept: \" + str(lr_model.intercept))\nprint(\"RMSE: %f\" % trainingSummary_v10.rootMeanSquaredError)\nprint(\"r2: %f\" % trainingSummary_v10.r2)\nprint(\"adj r2: %f\" % trainingSummary_v10.r2adj)",
   "execution_count": null,
   "outputs": [
    {
     "name": "stdout",
     "text": "RMSE: 33.312782\nr2: 0.235754\nadj r2: 0.235702\n",
     "output_type": "stream"
    }
   ]
  },
  {
   "cell_type": "markdown",
   "source": "We land on a fairly simple set of meaningful variables: complaint code, year of complaint, and household income for the zipcode. ",
   "metadata": {
    "tags": [],
    "cell_id": "00113-99ac339e-226d-4f25-af59-ed4b292f72b7",
    "deepnote_cell_type": "markdown"
   }
  },
  {
   "cell_type": "code",
   "metadata": {
    "deepnote_to_be_reexecuted": false,
    "source_hash": "29660cc0",
    "execution_start": 1620235758246,
    "execution_millis": 77594,
    "cell_id": "00114-231f6319-219f-41a2-8a76-0dfcca4cea46",
    "deepnote_cell_type": "code"
   },
   "source": "# final variables\ncat_var_final = ['Code', 'ReceivedYear']\nnum_var_final = ['All Households Income']\nres_var_final = ['closeTime']\nvar_final = cat_var_final + num_var_final + res_var_final\n\n# subset data\ntrain_final = train_df[var_final]\n\n# run pipeline\ntrain_final_pipe = reg_pipe(cat_var_final, num_var_final, train_final)",
   "execution_count": null,
   "outputs": []
  },
  {
   "cell_type": "code",
   "metadata": {
    "deepnote_to_be_reexecuted": false,
    "execution_millis": 74,
    "execution_start": 1620235835882,
    "source_hash": "bdea883b",
    "tags": [],
    "cell_id": "00115-d8dd31e4-5a3d-4665-bdcf-99099c5f5df0",
    "deepnote_cell_type": "code"
   },
   "source": "train_final_pipe.show(5)",
   "execution_count": null,
   "outputs": [
    {
     "name": "stdout",
     "text": "+--------------------+---------+\n|        standardized|closeTime|\n+--------------------+---------+\n|(280,[0,276,279],...|        9|\n|(280,[252,276,279...|       14|\n|(280,[106,270,279...|       61|\n|(280,[0,272,279],...|        5|\n|(280,[0,269,279],...|        8|\n+--------------------+---------+\nonly showing top 5 rows\n\n",
     "output_type": "stream"
    }
   ]
  },
  {
   "cell_type": "markdown",
   "source": "#### Train/Test Split",
   "metadata": {
    "tags": [],
    "cell_id": "00116-c9fe3113-a50d-445d-a430-b32eb11637d0",
    "deepnote_cell_type": "markdown"
   }
  },
  {
   "cell_type": "code",
   "metadata": {
    "deepnote_to_be_reexecuted": false,
    "source_hash": "6fc17d99",
    "execution_start": 1620235835952,
    "execution_millis": 70,
    "cell_id": "00117-d3ef9216-ede1-4034-98c2-412fabf28f42",
    "deepnote_cell_type": "code"
   },
   "source": "# Splits train/test\ntrain_df, test_df = train_final_pipe.randomSplit([0.7, 0.3])",
   "execution_count": null,
   "outputs": []
  },
  {
   "cell_type": "markdown",
   "source": "**Model 1: Linear Regression**",
   "metadata": {
    "cell_id": "00118-ae76b69a-f033-43a4-b3dd-92f82337e37e",
    "deepnote_cell_type": "markdown"
   }
  },
  {
   "cell_type": "code",
   "metadata": {
    "deepnote_to_be_reexecuted": false,
    "source_hash": "69a55b68",
    "execution_start": 1620235836053,
    "execution_millis": 295382,
    "cell_id": "00119-f27db8a2-e334-4ca2-9f93-5111e28add0a",
    "deepnote_cell_type": "code"
   },
   "source": "# Linear regression\nlr = LinearRegression(featuresCol = 'standardized', labelCol='closeTime', maxIter=10, regParam=0.3, elasticNetParam=0.8)\n\n# Linear regression\nlr_model_final = lr.fit(train_df)\n\n# make predictions\nlr_predictions = lr_model_final.transform(test_df)\n\nlr_evaluator1 = RegressionEvaluator(labelCol=\"closeTime\", predictionCol=\"prediction\", metricName=\"rmse\")\nlr_evaluator2 = RegressionEvaluator(labelCol=\"closeTime\", predictionCol=\"prediction\", metricName=\"r2\")\n# lr_evaluator3 = RegressionEvaluator(labelCol=\"closeTime\", predictionCol=\"prediction\", metricName=\"r2adj\")\n\nrmse = lr_evaluator1.evaluate(lr_predictions)\nr2 = lr_evaluator2.evaluate(lr_predictions)\n# adjr2 = lr_evaluator3.evaluate(lr_predictions)\n\nprint(\"Root Mean Squared Error (RMSE) on test data: %g\" % rmse)\nprint(\"r2:  %g\" % r2)\n# print(\"adjr2:  %g\" % adjr2)",
   "execution_count": null,
   "outputs": [
    {
     "name": "stdout",
     "text": "Root Mean Squared Error (RMSE) on test data: 35.727\nr2:  0.234072\n",
     "output_type": "stream"
    }
   ]
  },
  {
   "cell_type": "code",
   "metadata": {
    "deepnote_to_be_reexecuted": false,
    "source_hash": "9eae6f65",
    "execution_start": 1620236131427,
    "execution_millis": 229370,
    "cell_id": "00120-7f1bbb3c-ee97-4b94-990b-d13ea82bb567",
    "deepnote_cell_type": "code"
   },
   "source": "from pyspark.ml.regression import GeneralizedLinearRegression\n\nglr = GeneralizedLinearRegression(featuresCol = 'standardized', labelCol='closeTime', family=\"gaussian\", link=\"identity\", maxIter=10, regParam=0.3)\n\n# Fit the model\nmodel = glr.fit(train_final_pipe)\n\n# Print the coefficients and intercept for generalized linear regression model\n# commenting this out because it was huge:\n#print(\"Coefficients: \" + str(model.coefficients))\nprint(\"Intercept: \" + str(model.intercept))\n\n# Summarize the model over the training set and print out some metrics\nsummary = model.summary\n# commenting these out because their output was huge:\n#print(\"Coefficient Standard Errors: \" + str(summary.coefficientStandardErrors))\n#print(\"T Values: \" + str(summary.tValues))\n#print(\"P Values: \" + str(summary.pValues))\nprint(\"Dispersion: \" + str(summary.dispersion))\nprint(\"Null Deviance: \" + str(summary.nullDeviance))\nprint(\"Residual Degree Of Freedom Null: \" + str(summary.residualDegreeOfFreedomNull))\nprint(\"Deviance: \" + str(summary.deviance))\nprint(\"Residual Degree Of Freedom: \" + str(summary.residualDegreeOfFreedom))\nprint(\"AIC: \" + str(summary.aic))\nprint(\"Deviance Residuals: \")\nsummary.residuals().show()",
   "execution_count": null,
   "outputs": [
    {
     "name": "stdout",
     "text": "Intercept: 13.404534717846465\nDispersion: 1102.391542760201\nNull Deviance: 6062639759.835489\nResidual Degree Of Freedom Null: 4175161\nDeviance: 4602353506.430251\nResidual Degree Of Freedom: 4174881\nAIC: 41096879.75659108\nDeviance Residuals: \n+-------------------+\n|  devianceResiduals|\n+-------------------+\n| -303.9820565146782|\n| -2.423232343536121|\n|  -318.178107014239|\n|-152.41134391943666|\n|-152.60093821380934|\n|-145.35674942089707|\n| -77.97971666954348|\n| 155.51972357457942|\n| -137.8191067310491|\n| -142.0506045315568|\n|-140.92567551999377|\n|-114.33889923817696|\n| -33.24159785270002|\n|  9.026527265538185|\n| 12.022936879431752|\n| 117.96361764431032|\n|  85.78829923789196|\n|  86.28910407956297|\n| 266.58413924570027|\n| 266.58413924570027|\n+-------------------+\nonly showing top 20 rows\n\n",
     "output_type": "stream"
    }
   ]
  },
  {
   "cell_type": "code",
   "metadata": {
    "deepnote_to_be_reexecuted": false,
    "source_hash": "a550fe67",
    "execution_start": 1620236360804,
    "execution_millis": 211155,
    "cell_id": "00121-fa102cbb-a915-4594-991d-b1a62b820ead",
    "deepnote_cell_type": "code"
   },
   "source": "from pyspark.ml.regression import GeneralizedLinearRegression\n\nglr = GeneralizedLinearRegression(featuresCol = 'standardized', labelCol='closeTime', family=\"gaussian\", link=\"identity\", maxIter=10, regParam=0.3)\n\n# Fit the model\nmodel = glr.fit(train_final_pipe)\n\n# make predictions\ndt_predictions_GLR = model.transform(test_df)\n\ndt_evaluator1 = RegressionEvaluator(labelCol=\"closeTime\", predictionCol=\"prediction\", metricName=\"rmse\")\ndt_evaluator2 = RegressionEvaluator(labelCol=\"closeTime\", predictionCol=\"prediction\", metricName=\"r2\")\n# dt_evaluator3 = RegressionEvaluator(labelCol=\"closeTime\", predictionCol=\"prediction\", metricName=\"adjr2\")\n\nrmse_GLR = dt_evaluator1.evaluate(dt_predictions_GLR)\nr2_GLR = dt_evaluator2.evaluate(dt_predictions_GLR)\n# adjr2 = dt_evaluator3.evaluate(dt_predictions)\n\nprint(\"Root Mean Squared Error (RMSE) on test data: %g\" % rmse)\nprint(\"r2:  %g\" % r2)\n# print(\"adjr2:  %g\" % adjr2)",
   "execution_count": null,
   "outputs": [
    {
     "name": "stdout",
     "text": "Root Mean Squared Error (RMSE) on test data: 35.727\nr2:  0.234072\n",
     "output_type": "stream"
    }
   ]
  },
  {
   "cell_type": "code",
   "metadata": {
    "cell_id": "00122-75f1c4ef-cbd9-4520-8ccd-455fec18672d",
    "deepnote_to_be_reexecuted": false,
    "source_hash": "635b2e14",
    "execution_start": 1620236571937,
    "execution_millis": 0,
    "deepnote_cell_type": "code"
   },
   "source": "# dt_evaluator3 = RegressionEvaluator(labelCol=\"closeTime\", predictionCol=\"prediction\", metricName=\"r2adj\")\n# r2adj = dt_evaluator3.evaluate(dt_predictions)\n# print(\"adjr2:  %g\" % r2adj)",
   "execution_count": null,
   "outputs": []
  },
  {
   "cell_type": "markdown",
   "source": "**Model 2: Decision tree**",
   "metadata": {
    "tags": [],
    "cell_id": "00123-00457918-0860-42c1-9cd8-0dc6c6a56741",
    "deepnote_cell_type": "markdown"
   }
  },
  {
   "cell_type": "code",
   "metadata": {
    "deepnote_to_be_reexecuted": false,
    "execution_millis": 445942,
    "execution_start": 1620236571938,
    "source_hash": "6614f2d3",
    "tags": [],
    "cell_id": "00124-b8e47243-016a-40ee-b5c6-906773c041ae",
    "deepnote_cell_type": "code"
   },
   "source": "# Decision Tree\ndt = DecisionTreeRegressor(featuresCol ='standardized', labelCol = 'closeTime')\n\n# train the model\ndt_model = dt.fit(train_df)\n\n# make predictions\ndt_predictions = dt_model.transform(test_df)\n\ndt_evaluator1 = RegressionEvaluator(labelCol=\"closeTime\", predictionCol=\"prediction\", metricName=\"rmse\")\ndt_evaluator2 = RegressionEvaluator(labelCol=\"closeTime\", predictionCol=\"prediction\", metricName=\"r2\")\n# dt_evaluator3 = RegressionEvaluator(labelCol=\"closeTime\", predictionCol=\"prediction\", metricName=\"adjr2\")\n\nrmse = dt_evaluator1.evaluate(dt_predictions)\nr2 = dt_evaluator2.evaluate(dt_predictions)\n# adjr2 = dt_evaluator3.evaluate(dt_predictions)\n\nprint(\"Root Mean Squared Error (RMSE) on test data: %g\" % rmse)\nprint(\"r2:  %g\" % r2)\n# print(\"adjr2:  %g\" % adjr2)",
   "execution_count": null,
   "outputs": [
    {
     "name": "stdout",
     "text": "Root Mean Squared Error (RMSE) on test data: 36.825\nr2:  0.18627\n",
     "output_type": "stream"
    }
   ]
  },
  {
   "cell_type": "code",
   "metadata": {
    "deepnote_to_be_reexecuted": false,
    "execution_millis": 22,
    "execution_start": 1620237017858,
    "source_hash": "efe2970b",
    "tags": [],
    "cell_id": "00125-40c048b7-a1ff-40a3-8a59-9104d908db37",
    "deepnote_cell_type": "code"
   },
   "source": "dt_model.featureImportances",
   "execution_count": null,
   "outputs": [
    {
     "output_type": "execute_result",
     "execution_count": 72,
     "data": {
      "text/plain": "SparseVector(280, {0: 0.1899, 1: 0.0854, 3: 0.0, 22: 0.0, 106: 0.0366, 265: 0.0, 268: 0.0113, 269: 0.0134, 270: 0.0998, 271: 0.3272, 274: 0.0783, 279: 0.1579})"
     },
     "metadata": {}
    }
   ]
  },
  {
   "cell_type": "markdown",
   "source": "**Model 2A: Random Forest Regressor**",
   "metadata": {
    "cell_id": "00127-339ce09d-7750-4bee-859e-2b6801977e09",
    "deepnote_cell_type": "markdown"
   }
  },
  {
   "cell_type": "code",
   "metadata": {
    "deepnote_to_be_reexecuted": false,
    "source_hash": "6065c7a8",
    "execution_start": 1620237017875,
    "execution_millis": 669217,
    "cell_id": "00128-7778aa19-85c4-46e3-972f-1d45689cc2b1",
    "deepnote_cell_type": "code"
   },
   "source": "from pyspark.ml.regression import RandomForestRegressor\n\n# Train a RandomForest model.\nrf = RandomForestRegressor(featuresCol ='standardized', labelCol = 'closeTime')\n\n# Train model.  This also runs the indexer.\nmodel = rf.fit(train_df)\n\n# Make predictions.\npredictions = model.transform(test_df)\n\n# Select (prediction, true label) and compute test error\nevaluator1 = RegressionEvaluator(labelCol=\"closeTime\", predictionCol=\"prediction\", metricName=\"rmse\")\nevaluator2 = RegressionEvaluator(labelCol=\"closeTime\", predictionCol=\"prediction\", metricName=\"r2\")\n\nrmse = evaluator1.evaluate(predictions)\nr2 = evaluator2.evaluate(predictions)\n\nprint(\"Root Mean Squared Error (RMSE) on test data = %g\" % rmse)\nprint(\"r2:  %g\" % r2)",
   "execution_count": null,
   "outputs": [
    {
     "name": "stdout",
     "text": "Root Mean Squared Error (RMSE) on test data = 39.6786\nr2:  0.05527\n",
     "output_type": "stream"
    }
   ]
  },
  {
   "cell_type": "markdown",
   "source": "**Model 3: K-means**",
   "metadata": {
    "tags": [],
    "cell_id": "00129-83c7666c-aa2a-4871-851d-f5d593449ce7",
    "deepnote_cell_type": "markdown"
   }
  },
  {
   "cell_type": "code",
   "metadata": {
    "deepnote_to_be_reexecuted": false,
    "execution_millis": 3225971,
    "execution_start": 1620237687084,
    "source_hash": "db14ff04",
    "tags": [],
    "cell_id": "00130-8c2f7b99-5ba4-447d-9e9f-47c469e795ae",
    "deepnote_cell_type": "code"
   },
   "source": "# Experimenting with different k values\n# https://towardsdatascience.com/k-means-clustering-using-pyspark-on-big-data-6214beacdc8b\nsilhouette_scores_tr = []\nsilhouette_scores_te = []\n\ntrain_clust = train_df.withColumnRenamed('standardized', 'features')\ntest_clust = test_df.withColumnRenamed('standardized', 'features')\n\nevaluator = ClusteringEvaluator()\n\nfor i in range (2,10):\n    kmeans = KMeans().setK(i).setSeed(314)\n    km_model = kmeans.fit(train_clust)\n\n    #predictions_tr = km_model.transform(train_clust)\n    predictions_te = km_model.transform(test_clust)\n    \n    #silhouette_tr = evaluator.evaluate(predictions_tr)\n    silhouette_te = evaluator.evaluate(predictions_te)\n\n    #silhouette_scores_tr.append(silhouette_tr)\n    silhouette_scores_te.append(silhouette_te)\n\n    print(\"Silhouette Score k=\",i,\": \",silhouette_te, \" test\")",
   "execution_count": null,
   "outputs": [
    {
     "name": "stdout",
     "text": "Silhouette Score k= 2 :  0.9994408358707937  test\nSilhouette Score k= 3 :  -0.46731724012882764  test\nSilhouette Score k= 4 :  0.9961403110501416  test\nSilhouette Score k= 5 :  -0.2440431744855069  test\nSilhouette Score k= 6 :  -0.23189287573299877  test\nSilhouette Score k= 7 :  -0.23011796287565903  test\nSilhouette Score k= 8 :  -0.22843124518258806  test\nSilhouette Score k= 9 :  -0.22460007667572413  test\n",
     "output_type": "stream"
    }
   ]
  },
  {
   "cell_type": "code",
   "metadata": {
    "deepnote_to_be_reexecuted": false,
    "execution_millis": 272,
    "execution_start": 1620240913054,
    "source_hash": "3d6e05bf",
    "tags": [],
    "cell_id": "00131-a2f8b26f-6d54-4f1c-ade9-6f27d5def2f7",
    "deepnote_cell_type": "code"
   },
   "source": "# Visualize silhouette scores\nfig, ax = plt.subplots(1,1, figsize =(8,8))\nax.plot(range(2,10),silhouette_scores_te)\nax.set_xlabel('k')\nax.set_ylabel('score')",
   "execution_count": null,
   "outputs": [
    {
     "output_type": "execute_result",
     "execution_count": 75,
     "data": {
      "text/plain": "Text(0, 0.5, 'score')"
     },
     "metadata": {}
    },
    {
     "data": {
      "text/plain": "<Figure size 576x576 with 1 Axes>",
      "image/png": "[encoded data removed]"
     },
     "metadata": {
      "needs_background": "light",
      "image/png": {
       "width": 506,
       "height": 480
      }
     },
     "output_type": "display_data"
    }
   ]
  },
  {
   "cell_type": "code",
   "metadata": {
    "deepnote_to_be_reexecuted": false,
    "execution_millis": 414084,
    "execution_start": 1620240913379,
    "source_hash": "a0318aa8",
    "tags": [],
    "cell_id": "00132-bc6e5d22-01bf-4326-bc7e-2573400e3397",
    "deepnote_cell_type": "code"
   },
   "source": "# Train a k-means model with k=4, which performed best locally based on our silhouette scores above\nkmeans = KMeans().setK(4).setSeed(314)\nkm_model = kmeans.fit(train_clust)\n\n# Make Predictions\n# note the transform() method does prediction\npredictions = km_model.transform(test_clust)\n\n# Evaluate the Model:\n# Evaluate clustering by computing Silhouette score\nevaluator = ClusteringEvaluator()\n\nsilhouette = evaluator.evaluate(predictions)\nprint(\"Silhouette with squared euclidean distance = \" + str(silhouette))\n\n# commenting this out because the output was huge \n#print(\"Cluster Centers: \")\n#centers = km_model.clusterCenters()\n#print(centers)",
   "execution_count": null,
   "outputs": [
    {
     "name": "stdout",
     "text": "Silhouette with squared euclidean distance = 0.9961403110501416\n",
     "output_type": "stream"
    }
   ]
  },
  {
   "cell_type": "markdown",
   "source": "**Model 4: Gradient-boosted tree**",
   "metadata": {
    "tags": [],
    "cell_id": "00133-5414ad29-416a-40a7-8bee-18446e20eb36",
    "deepnote_cell_type": "markdown"
   }
  },
  {
   "cell_type": "code",
   "metadata": {
    "cell_id": "00134-84979fc8-caba-49a9-8c58-d8eee2fa3018",
    "deepnote_to_be_reexecuted": false,
    "source_hash": "3a6984aa",
    "execution_start": 1620241327443,
    "execution_millis": 1193716,
    "deepnote_cell_type": "code"
   },
   "source": "from pyspark.ml.regression import GBTRegressor\n\n# Train a GBT model.\ngbt = GBTRegressor(featuresCol ='standardized', labelCol='closeTime', maxIter=10)\n\n# Train model.  This also runs the indexer.\nmodel = gbt.fit(train_df)\n\n# Make predictions.\npredictions = model.transform(test_df)\n\n# Select example rows to display.\npredictions.select(\"closeTime\", \"standardized\").show(5)\n\n# Select (prediction, true label) and compute test error\nevaluator1 = RegressionEvaluator(labelCol=\"closeTime\", predictionCol=\"prediction\", metricName=\"rmse\")\nevaluator2 = RegressionEvaluator(labelCol=\"closeTime\", predictionCol=\"prediction\", metricName=\"r2\")\n\nrmse = evaluator1.evaluate(predictions)\nr2 = evaluator2.evaluate(predictions)\n\nprint(\"Root Mean Squared Error (RMSE) on test data = %g\" % rmse)\nprint(\"r2:  %g\" % r2)\n\n# gbtModel = model.stages[1]\n# print(gbtModel)  # summary only",
   "execution_count": null,
   "outputs": [
    {
     "name": "stdout",
     "text": "+---------+--------------------+\n|closeTime|        standardized|\n+---------+--------------------+\n|        1|(280,[0,260,279],...|\n|        1|(280,[0,260,279],...|\n|        1|(280,[0,260,279],...|\n|        3|(280,[0,260,279],...|\n|        3|(280,[0,260,279],...|\n+---------+--------------------+\nonly showing top 5 rows\n\nRoot Mean Squared Error (RMSE) on test data = 36.0345\nr2:  0.22083\n",
     "output_type": "stream"
    }
   ]
  },
  {
   "cell_type": "markdown",
   "source": "<a style='text-decoration:none;line-height:16px;display:flex;color:#5B5B62;padding:10px;justify-content:end;' href='https://deepnote.com?utm_source=created-in-deepnote-cell&projectId=bb533ae5-e690-403a-aa33-39656e712e82' target=\"_blank\">\n<img alt='Created in deepnote.com' style='display:inline;max-height:16px;margin:0px;margin-right:7.5px;' src='data:image/svg+xml;base64,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' > </img>\nCreated in <span style='font-weight:600;margin-left:4px;'>Deepnote</span></a>",
   "metadata": {
    "tags": [],
    "created_in_deepnote_cell": true,
    "deepnote_cell_type": "markdown"
   }
  }
 ],
 "nbformat": 4,
 "nbformat_minor": 4,
 "metadata": {
  "deepnote": {
   "is_reactive": false
  },
  "deepnote_execution_queue": [],
  "deepnote_notebook_id": "b694356e-73bd-46d0-bdac-80c1cb131447",
  "kernelspec": {
   "display_name": "DS 5559 Spark 3",
   "language": "python",
   "name": "ds5559_spark3"
  },
  "language_info": {
   "codemirror_mode": {
    "name": "ipython",
    "version": 3
   },
   "file_extension": ".py",
   "mimetype": "text/x-python",
   "name": "python",
   "nbconvert_exporter": "python",
   "pygments_lexer": "ipython3",
   "version": "3.8.5"
  }
 }
}